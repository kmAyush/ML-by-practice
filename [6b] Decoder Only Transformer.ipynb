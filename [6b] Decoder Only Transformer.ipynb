{
 "cells": [
  {
   "cell_type": "code",
   "execution_count": 2,
   "id": "4e9bd17f-6d14-47e6-9416-96eebef4ae72",
   "metadata": {},
   "outputs": [],
   "source": [
    "import torch\n",
    "import torch.nn as nn\n",
    "from torch.nn import functional as F"
   ]
  },
  {
   "cell_type": "code",
   "execution_count": 15,
   "id": "8e97d244-3189-4d23-94d6-5c70196fd009",
   "metadata": {},
   "outputs": [],
   "source": [
    "# hyperparameters\n",
    "N_batch = 12\n",
    "N_block = 64\n",
    "max_iters = 2000\n",
    "eval_interval = 20\n",
    "lr = 1e-3\n",
    "device = 'cuda' if torch.cuda.is_available() else 'cpu'\n",
    "eval_iters = 20\n",
    "N_embd = 128\n",
    "N_head = 4\n",
    "N_layer = 4\n",
    "dropout = 0.0"
   ]
  },
  {
   "cell_type": "code",
   "execution_count": 16,
   "id": "8c6a352a-995b-48a2-b65d-9475d244e1ae",
   "metadata": {},
   "outputs": [
    {
     "data": {
      "text/plain": [
       "<torch._C.Generator at 0x7fe4e01bfd30>"
      ]
     },
     "execution_count": 16,
     "metadata": {},
     "output_type": "execute_result"
    }
   ],
   "source": [
    "torch.manual_seed(1337)"
   ]
  },
  {
   "cell_type": "code",
   "execution_count": 17,
   "id": "8f3dd975-831a-4729-a24a-e50a0ec63e15",
   "metadata": {},
   "outputs": [],
   "source": [
    "with open('input.txt', 'r', encoding = 'utf-8') as f:\n",
    "    text = f.read()"
   ]
  },
  {
   "cell_type": "code",
   "execution_count": 18,
   "id": "fb21ca97-03c6-4fd1-b20a-fe2e27181d90",
   "metadata": {},
   "outputs": [],
   "source": [
    "chars = sorted(list(set(text)))\n",
    "N_vocab = len(chars)\n",
    "stoi = {ch:i for i,ch in enumerate(chars)}\n",
    "itos = {i:ch for i,ch in enumerate(chars)}\n",
    "encode = lambda s:[stoi[c] for c in s]\n",
    "decode = lambda l:''.join([itos[i] for i in l])"
   ]
  },
  {
   "cell_type": "code",
   "execution_count": 19,
   "id": "c7f5f4a4-30d6-42e8-b290-b234cc419676",
   "metadata": {},
   "outputs": [],
   "source": [
    "data = torch.tensor(encode(text), dtype = torch.long)\n",
    "n = int(0.9 * len(data))\n",
    "train_data = data[:n]\n",
    "valid_data = data[n:]"
   ]
  },
  {
   "cell_type": "code",
   "execution_count": 20,
   "id": "8d9bdf43-7bf0-4a44-9f54-bb221014b62d",
   "metadata": {},
   "outputs": [],
   "source": [
    "def get_batch(split):\n",
    "    data = train_data if split == 'train' else valid_data\n",
    "    ix = torch.randint(len(data) - N_block, (N_batch,))\n",
    "    x = torch.stack([data[i:i+N_block] for i in ix])\n",
    "    y = torch.stack([data[i+1:i+N_block+1] for i in ix])\n",
    "    x,y = x.to(device), y.to(device)\n",
    "    return x,y\n"
   ]
  },
  {
   "cell_type": "code",
   "execution_count": 21,
   "id": "828b6ec9-453f-4301-9f80-9f3213c6b986",
   "metadata": {},
   "outputs": [],
   "source": [
    "@torch.no_grad()\n",
    "def estimate_loss():\n",
    "    out = {}\n",
    "    model.eval()\n",
    "    for split in ['train','valid']:\n",
    "        losses = torch.zeros(eval_iters)\n",
    "        for k in range(eval_iters):\n",
    "            X, Y = get_batch(split)\n",
    "            logits, loss = model(X,Y)\n",
    "            losses[k] = loss.item()\n",
    "        out[split] = losses.mean()\n",
    "    model.train()\n",
    "    return out"
   ]
  },
  {
   "cell_type": "code",
   "execution_count": 22,
   "id": "07f75bab-612d-4476-9c00-502c1bd58452",
   "metadata": {},
   "outputs": [],
   "source": [
    "class Head(nn.Module):\n",
    "\n",
    "    def __init__(self, N_head):\n",
    "        super().__init__()\n",
    "        self.key = nn.Linear(N_embd, N_head, bias = False)\n",
    "        self.query = nn.Linear(N_embd, N_head, bias = False)\n",
    "        self.value = nn.Linear(N_embd, N_head, bias = False)\n",
    "        self.register_buffer('tril', torch.tril(torch.ones(N_block, N_block)))\n",
    "\n",
    "        self.dropout = nn.Dropout(dropout)\n",
    "\n",
    "    def forward(self, x):\n",
    "        B,T,C = x.shape\n",
    "        k = self.key(x)\n",
    "        q = self.query(x)\n",
    "        \n",
    "        wt = q @ k.transpose(-2,-1) * k.shape[-1]**-0.5\n",
    "        wt = wt.masked_fill(self.tril[:T,:T] == 0, float('-inf'))\n",
    "        wt = F.softmax(wt, dim = -1)\n",
    "        wt = self.dropout(wt)\n",
    "        v = self.value(x)\n",
    "        out = wt @ v\n",
    "        return out"
   ]
  },
  {
   "cell_type": "code",
   "execution_count": 23,
   "id": "daac77be-8f94-41ca-90ca-b34df0226205",
   "metadata": {},
   "outputs": [],
   "source": [
    "class MultiHeadAttention(nn.Module):\n",
    "\n",
    "    def __init__(self, num_heads, N_head):\n",
    "        super().__init__()\n",
    "        self.heads = nn.ModuleList([Head(N_head) for _ in range(num_heads)])\n",
    "        self.proj = nn.Linear(N_head * num_heads, N_embd)\n",
    "        self.dropout = nn.Dropout(dropout)\n",
    "\n",
    "    def forward(self,x):\n",
    "        out = torch.cat([h(x) for h in self.heads], dim = -1)\n",
    "        out = self.dropout(self.proj(out))\n",
    "        return out"
   ]
  },
  {
   "cell_type": "code",
   "execution_count": 24,
   "id": "fad31230-0547-4d9f-a7ba-31afa41ac5c2",
   "metadata": {},
   "outputs": [],
   "source": [
    "class FeedForward(nn.Module):\n",
    "\n",
    "    def __init__(self, N_embd):\n",
    "        super().__init__()\n",
    "        self.net = nn.Sequential(\n",
    "            nn.Linear(N_embd, 4*N_embd),\n",
    "            nn.ReLU(),\n",
    "            nn.Linear(4*N_embd, N_embd),\n",
    "            nn.Dropout(dropout),\n",
    "        )\n",
    "\n",
    "    def forward(self, x):\n",
    "        return self.net(x)"
   ]
  },
  {
   "cell_type": "code",
   "execution_count": 25,
   "id": "766c4437-2eba-4c52-916c-6e444e9bee12",
   "metadata": {},
   "outputs": [],
   "source": [
    "class Block(nn.Module):\n",
    "\n",
    "    def __init__(self, N_embd, N_head):\n",
    "        super().__init__()\n",
    "        head_size = N_embd // N_head\n",
    "        self.sa = MultiHeadAttention(N_head, head_size)\n",
    "        self.ffwd = FeedForward(N_embd)\n",
    "        self.ln1 = nn.LayerNorm(N_embd)\n",
    "        self.ln2 = nn.LayerNorm(N_embd)\n",
    "\n",
    "    def forward(self,x):\n",
    "        x = x + self.sa(self.ln1(x))\n",
    "        x = x + self.ffwd(self.ln2(x))\n",
    "        return x"
   ]
  },
  {
   "cell_type": "code",
   "execution_count": 26,
   "id": "f3e618a8-2f07-463a-bd98-d127225b555b",
   "metadata": {},
   "outputs": [],
   "source": [
    "class GPTLanguageModel(nn.Module):\n",
    "\n",
    "    def __init__(self):\n",
    "        super().__init__()\n",
    "        self.token_embedding_table = nn.Embedding(N_vocab, N_embd)\n",
    "        self.position_embedding_table = nn.Embedding(N_block, N_embd)\n",
    "        self.blocks = nn.Sequential(*[Block(N_embd, N_head = N_head) for _ in range(N_layer)])\n",
    "        self.ln_f = nn.LayerNorm(N_embd)\n",
    "        self.lm_head = nn.Linear(N_embd, N_vocab)\n",
    "\n",
    "        self.apply(self._init_weights)\n",
    "\n",
    "    def _init_weights(self, module):\n",
    "        if isinstance(module, nn.Linear):\n",
    "            torch.nn.init.normal_(module.weight, mean = 0.0, std = 0.02)\n",
    "            if module.bias is not None:\n",
    "                torch.nn.init.zeros_(module.bias)\n",
    "            elif isinstance(module, nn.Embedding):\n",
    "                torch.nn.init.normal_(module.weight, mean = 0.0, std = 0.02)\n",
    "\n",
    "    def forward(self, idx, targets = None):\n",
    "        B, T = idx.shape\n",
    "\n",
    "        tok_emb = self.token_embedding_table(idx)\n",
    "        pos_emb = self.position_embedding_table(torch.arange(T, device = device))\n",
    "        x = tok_emb + pos_emb\n",
    "        x = self.blocks(x)\n",
    "        x = self.ln_f(x)\n",
    "        logits = self.lm_head(x)\n",
    "\n",
    "        if targets is None:\n",
    "            loss = None\n",
    "        else:\n",
    "            B,T,C = logits.shape\n",
    "            logits = logits.view(B*T,C)\n",
    "            targets = targets.view(B*T)\n",
    "            loss = F.cross_entropy(logits, targets)\n",
    "\n",
    "        return logits, loss\n",
    "\n",
    "    def generate(self, idx, max_new_tokens):\n",
    "        for _ in range(max_new_tokens):\n",
    "            idx_cond = idx[:, -N_block:]\n",
    "            logits, loss = self(idx_cond)\n",
    "            logits = logits[:,-1,:]\n",
    "            probs = F.softmax(logits, dim = -1)\n",
    "            idx_next = torch.multinomial(probs, num_samples = 1)\n",
    "            idx = torch.cat((idx, idx_next), dim = 1)\n",
    "\n",
    "        return idx"
   ]
  },
  {
   "cell_type": "code",
   "execution_count": 27,
   "id": "6def6e21-6194-46a6-8d91-9f11dd81cb35",
   "metadata": {},
   "outputs": [
    {
     "name": "stdout",
     "output_type": "stream",
     "text": [
      "0.816705 M parameters\n"
     ]
    }
   ],
   "source": [
    "model = GPTLanguageModel()\n",
    "m = model.to(device)\n",
    "print(sum(p.numel() for p in m.parameters())/1e6, 'M parameters')"
   ]
  },
  {
   "cell_type": "code",
   "execution_count": 28,
   "id": "bba25faa-4899-45b7-b8c8-6f3d812d6389",
   "metadata": {},
   "outputs": [],
   "source": [
    "optimizer = torch.optim.AdamW(model.parameters(), lr = lr)"
   ]
  },
  {
   "cell_type": "code",
   "execution_count": 30,
   "id": "79c83b7d-2a81-4013-83c2-644cdef8db12",
   "metadata": {},
   "outputs": [
    {
     "name": "stdout",
     "output_type": "stream",
     "text": [
      "step 0: train loss 4.1906, val loss4.1877\n",
      "step 20: train loss 3.2445, val loss3.2831\n",
      "step 40: train loss 2.8555, val loss2.9049\n",
      "step 60: train loss 2.6872, val loss2.6790\n",
      "step 80: train loss 2.5975, val loss2.6268\n",
      "step 100: train loss 2.5637, val loss2.5715\n",
      "step 120: train loss 2.5440, val loss2.5218\n",
      "step 140: train loss 2.5250, val loss2.5188\n",
      "step 160: train loss 2.5064, val loss2.4672\n",
      "step 180: train loss 2.4957, val loss2.4844\n",
      "step 200: train loss 2.4632, val loss2.4795\n",
      "step 220: train loss 2.4407, val loss2.4453\n",
      "step 240: train loss 2.4357, val loss2.4347\n",
      "step 260: train loss 2.3990, val loss2.4146\n",
      "step 280: train loss 2.3802, val loss2.3861\n",
      "step 300: train loss 2.3599, val loss2.3624\n",
      "step 320: train loss 2.3446, val loss2.3530\n",
      "step 340: train loss 2.3401, val loss2.3542\n",
      "step 360: train loss 2.2993, val loss2.3242\n",
      "step 380: train loss 2.3189, val loss2.2969\n",
      "step 400: train loss 2.2594, val loss2.2842\n",
      "step 420: train loss 2.2537, val loss2.2687\n",
      "step 440: train loss 2.2376, val loss2.2570\n",
      "step 460: train loss 2.2162, val loss2.2348\n",
      "step 480: train loss 2.2017, val loss2.2300\n",
      "step 500: train loss 2.2139, val loss2.2212\n",
      "step 520: train loss 2.1570, val loss2.2134\n",
      "step 540: train loss 2.1702, val loss2.1984\n",
      "step 560: train loss 2.1349, val loss2.2132\n",
      "step 580: train loss 2.1248, val loss2.1715\n",
      "step 600: train loss 2.1159, val loss2.1350\n",
      "step 620: train loss 2.1218, val loss2.1478\n",
      "step 640: train loss 2.1110, val loss2.1545\n",
      "step 660: train loss 2.0821, val loss2.1217\n",
      "step 680: train loss 2.0857, val loss2.1632\n",
      "step 700: train loss 2.0680, val loss2.1121\n",
      "step 720: train loss 2.0801, val loss2.0867\n",
      "step 740: train loss 2.0757, val loss2.1059\n",
      "step 760: train loss 2.0590, val loss2.1150\n",
      "step 780: train loss 2.0326, val loss2.0862\n",
      "step 800: train loss 2.0072, val loss2.0764\n",
      "step 820: train loss 2.0272, val loss2.1037\n",
      "step 840: train loss 2.0322, val loss2.0834\n",
      "step 860: train loss 2.0107, val loss2.0568\n",
      "step 880: train loss 1.9911, val loss2.0540\n",
      "step 900: train loss 1.9798, val loss2.0517\n",
      "step 920: train loss 1.9719, val loss2.0454\n",
      "step 940: train loss 1.9737, val loss2.0439\n",
      "step 960: train loss 1.9705, val loss2.0230\n",
      "step 980: train loss 1.9337, val loss2.0313\n",
      "step 1000: train loss 1.9345, val loss1.9980\n",
      "step 1020: train loss 1.9345, val loss1.9943\n",
      "step 1040: train loss 1.9411, val loss2.0251\n",
      "step 1060: train loss 1.9208, val loss1.9874\n",
      "step 1080: train loss 1.8968, val loss1.9684\n",
      "step 1100: train loss 1.9316, val loss1.9946\n",
      "step 1120: train loss 1.8853, val loss1.9983\n",
      "step 1140: train loss 1.8951, val loss1.9942\n",
      "step 1160: train loss 1.8673, val loss1.9780\n",
      "step 1180: train loss 1.8886, val loss2.0075\n",
      "step 1200: train loss 1.8942, val loss1.9788\n",
      "step 1220: train loss 1.8746, val loss1.9698\n",
      "step 1240: train loss 1.8722, val loss1.9625\n",
      "step 1260: train loss 1.8492, val loss1.9862\n",
      "step 1280: train loss 1.8484, val loss1.9529\n",
      "step 1300: train loss 1.8447, val loss1.9716\n",
      "step 1320: train loss 1.8242, val loss1.9672\n",
      "step 1340: train loss 1.8538, val loss1.9880\n",
      "step 1360: train loss 1.8493, val loss1.9447\n",
      "step 1380: train loss 1.8400, val loss1.9829\n",
      "step 1400: train loss 1.8361, val loss1.9527\n",
      "step 1420: train loss 1.8292, val loss1.9349\n",
      "step 1440: train loss 1.8229, val loss1.9342\n",
      "step 1460: train loss 1.8194, val loss1.9090\n",
      "step 1480: train loss 1.8000, val loss1.9461\n",
      "step 1500: train loss 1.7913, val loss1.9093\n",
      "step 1520: train loss 1.7993, val loss1.9393\n",
      "step 1540: train loss 1.8059, val loss1.9587\n",
      "step 1560: train loss 1.7490, val loss1.8986\n",
      "step 1580: train loss 1.7920, val loss1.9430\n",
      "step 1600: train loss 1.7700, val loss1.9311\n",
      "step 1620: train loss 1.7657, val loss1.9192\n",
      "step 1640: train loss 1.7689, val loss1.9265\n",
      "step 1660: train loss 1.7807, val loss1.9056\n",
      "step 1680: train loss 1.7691, val loss1.9088\n",
      "step 1700: train loss 1.7521, val loss1.8633\n",
      "step 1720: train loss 1.7600, val loss1.8928\n",
      "step 1740: train loss 1.7435, val loss1.8880\n",
      "step 1760: train loss 1.7486, val loss1.9119\n",
      "step 1780: train loss 1.7600, val loss1.8990\n",
      "step 1800: train loss 1.7502, val loss1.8901\n",
      "step 1820: train loss 1.7365, val loss1.9219\n",
      "step 1840: train loss 1.7288, val loss1.8652\n",
      "step 1860: train loss 1.7260, val loss1.8463\n",
      "step 1880: train loss 1.7285, val loss1.8702\n",
      "step 1900: train loss 1.7155, val loss1.8575\n",
      "step 1920: train loss 1.6929, val loss1.9173\n",
      "step 1940: train loss 1.7054, val loss1.8762\n",
      "step 1960: train loss 1.6978, val loss1.8571\n",
      "step 1980: train loss 1.7053, val loss1.8783\n",
      "step 1999: train loss 1.7130, val loss1.8602\n"
     ]
    }
   ],
   "source": [
    "for iter in range(max_iters):\n",
    "    if iter % eval_interval == 0 or iter == max_iters - 1:\n",
    "        losses = estimate_loss()\n",
    "        print(f\"step {iter}: train loss {losses['train']:.4f}, val loss{losses['valid']:.4f}\")\n",
    "\n",
    "    xb,yb = get_batch('train')\n",
    "\n",
    "    logits, loss = model(xb,yb)\n",
    "    optimizer.zero_grad(set_to_none = True)\n",
    "    loss.backward()\n",
    "    optimizer.step()"
   ]
  },
  {
   "cell_type": "code",
   "execution_count": 31,
   "id": "cf661203-1764-42b2-a2ba-f7a07535c855",
   "metadata": {},
   "outputs": [
    {
     "name": "stdout",
     "output_type": "stream",
     "text": [
      "\n",
      "I'll think acce: on thy thas sceeven maday\n",
      "Till feaping so varvingse, haves pots,\n",
      "Penow to rid, I love can hit well were with dad,\n",
      "Who? The poestely of in my kingge, Andil a shame,\n",
      "That have his see romms to lopre go men?\n",
      "\n",
      "DUKE VINCENTIO:\n",
      "Done, goe, inselconess, bother, fork over praya,\n",
      "Slanglal repon the insen,\n",
      "Buning out lords these her faway, so mose,\n",
      "Tuslullains myse mose fast--be\n",
      "we a caurt throu no like appeop on to were\n",
      "That whe whas wise for dect, I dearing as I all kist\n",
      "God causpy speec\n"
     ]
    }
   ],
   "source": [
    "context = torch.zeros((1,1), dtype = torch.long, device = device)\n",
    "print(decode(m.generate(context, max_new_tokens = 500)[0].tolist()))"
   ]
  },
  {
   "cell_type": "code",
   "execution_count": null,
   "id": "7302314e-4be4-45dd-aa7f-cf38b1334095",
   "metadata": {},
   "outputs": [],
   "source": []
  }
 ],
 "metadata": {
  "kernelspec": {
   "display_name": "Python 3 (ipykernel)",
   "language": "python",
   "name": "python3"
  },
  "language_info": {
   "codemirror_mode": {
    "name": "ipython",
    "version": 3
   },
   "file_extension": ".py",
   "mimetype": "text/x-python",
   "name": "python",
   "nbconvert_exporter": "python",
   "pygments_lexer": "ipython3",
   "version": "3.11.5"
  }
 },
 "nbformat": 4,
 "nbformat_minor": 5
}
