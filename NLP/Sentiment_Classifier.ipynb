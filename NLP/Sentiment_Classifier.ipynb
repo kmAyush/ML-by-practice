{
  "cells": [
    {
      "cell_type": "code",
      "execution_count": 2,
      "metadata": {
        "colab": {
          "base_uri": "https://localhost:8080/"
        },
        "id": "G4gEyFXbWqU7",
        "outputId": "46eca927-070e-40ee-c43c-b7ca3991d9c9"
      },
      "outputs": [
        {
          "name": "stdout",
          "output_type": "stream",
          "text": [
            "\u001b[33mWARNING: Ignoring invalid distribution -orch (/usr/local/lib/python3.10/dist-packages)\u001b[0m\u001b[33m\n",
            "\u001b[0mRequirement already satisfied: torch in /usr/local/lib/python3.10/dist-packages (2.4.0)\n",
            "Requirement already satisfied: torchtext in /usr/local/lib/python3.10/dist-packages (0.18.0)\n",
            "Collecting torchdata\n",
            "  Downloading torchdata-0.8.0-cp310-cp310-manylinux1_x86_64.whl.metadata (5.4 kB)\n",
            "Requirement already satisfied: filelock in /usr/local/lib/python3.10/dist-packages (from torch) (3.15.4)\n",
            "Requirement already satisfied: typing-extensions>=4.8.0 in /usr/local/lib/python3.10/dist-packages (from torch) (4.12.2)\n",
            "Requirement already satisfied: sympy in /usr/local/lib/python3.10/dist-packages (from torch) (1.13.2)\n",
            "Requirement already satisfied: networkx in /usr/local/lib/python3.10/dist-packages (from torch) (3.3)\n",
            "Requirement already satisfied: jinja2 in /usr/local/lib/python3.10/dist-packages (from torch) (3.1.4)\n",
            "Requirement already satisfied: fsspec in /usr/local/lib/python3.10/dist-packages (from torch) (2024.6.1)\n",
            "Requirement already satisfied: nvidia-cuda-nvrtc-cu12==12.1.105 in /usr/local/lib/python3.10/dist-packages (from torch) (12.1.105)\n",
            "Requirement already satisfied: nvidia-cuda-runtime-cu12==12.1.105 in /usr/local/lib/python3.10/dist-packages (from torch) (12.1.105)\n",
            "Requirement already satisfied: nvidia-cuda-cupti-cu12==12.1.105 in /usr/local/lib/python3.10/dist-packages (from torch) (12.1.105)\n",
            "Requirement already satisfied: nvidia-cudnn-cu12==9.1.0.70 in /usr/local/lib/python3.10/dist-packages (from torch) (9.1.0.70)\n",
            "Requirement already satisfied: nvidia-cublas-cu12==12.1.3.1 in /usr/local/lib/python3.10/dist-packages (from torch) (12.1.3.1)\n",
            "Requirement already satisfied: nvidia-cufft-cu12==11.0.2.54 in /usr/local/lib/python3.10/dist-packages (from torch) (11.0.2.54)\n",
            "Requirement already satisfied: nvidia-curand-cu12==10.3.2.106 in /usr/local/lib/python3.10/dist-packages (from torch) (10.3.2.106)\n",
            "Requirement already satisfied: nvidia-cusolver-cu12==11.4.5.107 in /usr/local/lib/python3.10/dist-packages (from torch) (11.4.5.107)\n",
            "Requirement already satisfied: nvidia-cusparse-cu12==12.1.0.106 in /usr/local/lib/python3.10/dist-packages (from torch) (12.1.0.106)\n",
            "Requirement already satisfied: nvidia-nccl-cu12==2.20.5 in /usr/local/lib/python3.10/dist-packages (from torch) (2.20.5)\n",
            "Requirement already satisfied: nvidia-nvtx-cu12==12.1.105 in /usr/local/lib/python3.10/dist-packages (from torch) (12.1.105)\n",
            "Requirement already satisfied: triton==3.0.0 in /usr/local/lib/python3.10/dist-packages (from torch) (3.0.0)\n",
            "Requirement already satisfied: nvidia-nvjitlink-cu12 in /usr/local/lib/python3.10/dist-packages (from nvidia-cusolver-cu12==11.4.5.107->torch) (12.6.68)\n",
            "Requirement already satisfied: tqdm in /usr/local/lib/python3.10/dist-packages (from torchtext) (4.66.5)\n",
            "Requirement already satisfied: requests in /usr/local/lib/python3.10/dist-packages (from torchtext) (2.32.3)\n",
            "Requirement already satisfied: numpy in /usr/local/lib/python3.10/dist-packages (from torchtext) (1.26.4)\n",
            "Requirement already satisfied: urllib3>=1.25 in /usr/local/lib/python3.10/dist-packages (from torchdata) (2.0.7)\n",
            "Requirement already satisfied: MarkupSafe>=2.0 in /usr/local/lib/python3.10/dist-packages (from jinja2->torch) (2.1.5)\n",
            "Requirement already satisfied: charset-normalizer<4,>=2 in /usr/local/lib/python3.10/dist-packages (from requests->torchtext) (3.3.2)\n",
            "Requirement already satisfied: idna<4,>=2.5 in /usr/local/lib/python3.10/dist-packages (from requests->torchtext) (3.8)\n",
            "Requirement already satisfied: certifi>=2017.4.17 in /usr/local/lib/python3.10/dist-packages (from requests->torchtext) (2024.7.4)\n",
            "Requirement already satisfied: mpmath<1.4,>=1.1.0 in /usr/local/lib/python3.10/dist-packages (from sympy->torch) (1.3.0)\n",
            "Downloading torchdata-0.8.0-cp310-cp310-manylinux1_x86_64.whl (2.7 MB)\n",
            "\u001b[2K   \u001b[90m━━━━━━━━━━━━━━━━━━━━━━━━━━━━━━━━━━━━━━━━\u001b[0m \u001b[32m2.7/2.7 MB\u001b[0m \u001b[31m53.6 MB/s\u001b[0m eta \u001b[36m0:00:00\u001b[0m\n",
            "\u001b[?25h\u001b[33mWARNING: Ignoring invalid distribution -orch (/usr/local/lib/python3.10/dist-packages)\u001b[0m\u001b[33m\n",
            "\u001b[0mInstalling collected packages: torchdata\n",
            "Successfully installed torchdata-0.8.0\n"
          ]
        }
      ],
      "source": [
        "pip install torch torchtext torchdata"
      ]
    },
    {
      "cell_type": "code",
      "execution_count": 3,
      "metadata": {
        "id": "U1cIGXnWTkVp"
      },
      "outputs": [],
      "source": [
        "import numpy as np\n",
        "import matplotlib.pyplot as plt\n",
        "import os"
      ]
    },
    {
      "cell_type": "code",
      "execution_count": 4,
      "metadata": {
        "colab": {
          "base_uri": "https://localhost:8080/"
        },
        "id": "flBqLFP3TkVt",
        "outputId": "af800474-8a05-4a42-d310-7c103304ee06"
      },
      "outputs": [
        {
          "data": {
            "text/plain": [
              "0"
            ]
          },
          "execution_count": 4,
          "metadata": {},
          "output_type": "execute_result"
        }
      ],
      "source": [
        "# Save dataset\n",
        "os.system('wget -O train_data.csv \"https://docs.google.com/spreadsheets/d/176-KrOP8nhLpoW91UnrOY9oq_-I0XYNKS1zmqIErFsA/gviz/tq?tqx=out:csv&sheet=train_data.csv\" -q')\n",
        "os.system('wget -O val_data.csv \"https://docs.google.com/spreadsheets/d/1YxjoAbatow3F5lbPEODToa8-YWvJoTY0aABS9zaXk-c/gviz/tq?tqx=out:csv&sheet=val_data.csv\" -q')\n",
        "os.system('wget -O test_data.csv \"https://docs.google.com/spreadsheets/d/1YxjoAbatow3F5lbPEODToa8-YWvJoTY0aABS9zaXk-c/gviz/tq?tqx=out:csv&sheet=val_data.csv\" -q')"
      ]
    },
    {
      "cell_type": "code",
      "execution_count": 5,
      "metadata": {
        "id": "mJYQeDeSTkVv"
      },
      "outputs": [],
      "source": [
        "import pandas as pd\n",
        "df_train = pd.read_csv('train_data.csv')\n",
        "df_valid = pd.read_csv('val_data.csv')\n",
        "df_test = pd.read_csv('test_data.csv')"
      ]
    },
    {
      "cell_type": "code",
      "execution_count": 6,
      "metadata": {
        "colab": {
          "base_uri": "https://localhost:8080/",
          "height": 206
        },
        "id": "oAOdS57DTkVv",
        "outputId": "877f2538-0771-4280-a8fd-9025874f6300"
      },
      "outputs": [
        {
          "data": {
            "application/vnd.google.colaboratory.intrinsic+json": {
              "summary": "{\n  \"name\": \"df_train\",\n  \"rows\": 12000,\n  \"fields\": [\n    {\n      \"column\": \"review\",\n      \"properties\": {\n        \"dtype\": \"string\",\n        \"num_unique_values\": 11979,\n        \"samples\": [\n          \"Ok, I'm normally pretty open minded about movies. I can normally see a good side to a film which has been totally pandered by others. This is an exception.<br /><br />I won't waste to much energy telling you what happens, but think along the lines of Bill and Ted meets the worst Police Academy movie out of all of them and you won't be far off.<br /><br />The thing that really got me about this film was the stupid purile racism that was evident throughout. The general theme of latino/black guys = cool, white guys = lame is slightly amusing for the first couple of jokes but when the same joke has been reiterated for the 500th time (not an exageration by the way) it gets both tiresome and offensive.<br /><br />I spent months waiting for the laws of Karma to get back at John Leguizamo for this film. I had almost given up hope when the 'My VH1 Awards' were screened live in the UK. What followed was Mr Leguizamo performing the rare feat of a comedian bombing on stage. You'd have to be a complete sadist to laugh at him. Ahem. Ha! Ha! Ha!\",\n          \"Forest Whitaker's performance is all the more impressive for making it almost worthwhile to sit through this dreck. \\\"Historical fiction\\\" does not justify changing history. The absurdity begins from the ground up with the imaginary lead character played by James McAvoy. To create a fictional observer for the purpose of giving the reader a point of connection in the book is regrettable, regrettable that white people can't just read a book without a white protagonist to connect to, but at least he was placed in a somewhat passive role. Making up a fake historical actor and crediting this fiction with exposing Amin to the world is irresponsible, lazy and stupid. Not making the actions of this creation believable or even sane is just criminal, and has opened the door for movies like the one they're planning to make with Leonardo DiCaprio as a heroic Enron whistleblower who NEVER EXISTED. The logic of the world does not apply in this film where some Scottish kid thinks its okay to sleep with the wife of a murderous dictator. It doesn't apply where the wife of the dictator desires to sleep with some stupid scrawny irresponsible white boy. For that matter EVERYBODY is lined up to sleep with this scrawny, irresponsible, arrogant white boy, he even has Gillian Anderson licking her comely chops.<br /><br />Let me declare, I do not like James McAvoy. I'm not sure what it is about him, but I thought his Mr. Tumnus in Narnia was creepy and pervy. I think that Kerry Washington would never look twice at him so I can't believe that the wife of a powerful dangerous man like Amin would risk and lose her life for him. I don't believe him as a Doctor, and I just don't see the appeal. His character seems to have far more arrogance than would make sense, and trying to make him look like a badass in shooting the cow was just...there's that word again...absurd. Think about it, you are watching all of these characters bend themselves into knots in order to accommodate this unbelievable main character and there never was such a guy.<br /><br />Gillian Anderson looks incredible and sounds more British than most Brits. Whitaker gives a great expansive magnetic performance, and highlighted, with his incomprehensible pre-Oscar speeches, just how much he was acting. It's a shame the film around him had no reason to exist.\",\n          \"i am surprised so few have good words for this movie. For its time (the 80's) it was a very entertaining and engaging story. Casting was good. Story was good. Special effects were remarkable for the time period. Deserving of an 8/10.\"\n        ],\n        \"semantic_type\": \"\",\n        \"description\": \"\"\n      }\n    },\n    {\n      \"column\": \"sentiment\",\n      \"properties\": {\n        \"dtype\": \"category\",\n        \"num_unique_values\": 2,\n        \"samples\": [\n          \"negative\",\n          \"positive\"\n        ],\n        \"semantic_type\": \"\",\n        \"description\": \"\"\n      }\n    }\n  ]\n}",
              "type": "dataframe",
              "variable_name": "df_train"
            },
            "text/html": [
              "\n",
              "  <div id=\"df-04e6ccf5-9b6f-4b29-8a98-164965f1d790\" class=\"colab-df-container\">\n",
              "    <div>\n",
              "<style scoped>\n",
              "    .dataframe tbody tr th:only-of-type {\n",
              "        vertical-align: middle;\n",
              "    }\n",
              "\n",
              "    .dataframe tbody tr th {\n",
              "        vertical-align: top;\n",
              "    }\n",
              "\n",
              "    .dataframe thead th {\n",
              "        text-align: right;\n",
              "    }\n",
              "</style>\n",
              "<table border=\"1\" class=\"dataframe\">\n",
              "  <thead>\n",
              "    <tr style=\"text-align: right;\">\n",
              "      <th></th>\n",
              "      <th>review</th>\n",
              "      <th>sentiment</th>\n",
              "    </tr>\n",
              "  </thead>\n",
              "  <tbody>\n",
              "    <tr>\n",
              "      <th>0</th>\n",
              "      <td>I've watched this documentary twice - and alth...</td>\n",
              "      <td>positive</td>\n",
              "    </tr>\n",
              "    <tr>\n",
              "      <th>1</th>\n",
              "      <td>This is probably the worst movie I've seen in ...</td>\n",
              "      <td>negative</td>\n",
              "    </tr>\n",
              "    <tr>\n",
              "      <th>2</th>\n",
              "      <td>Superb story of a dedicated young teacher who ...</td>\n",
              "      <td>positive</td>\n",
              "    </tr>\n",
              "    <tr>\n",
              "      <th>3</th>\n",
              "      <td>&lt;br /&gt;&lt;br /&gt;Spoilers&lt;br /&gt;&lt;br /&gt;I'm going to b...</td>\n",
              "      <td>negative</td>\n",
              "    </tr>\n",
              "    <tr>\n",
              "      <th>4</th>\n",
              "      <td>What can be said, really... \"The Tenant\" is a ...</td>\n",
              "      <td>positive</td>\n",
              "    </tr>\n",
              "  </tbody>\n",
              "</table>\n",
              "</div>\n",
              "    <div class=\"colab-df-buttons\">\n",
              "\n",
              "  <div class=\"colab-df-container\">\n",
              "    <button class=\"colab-df-convert\" onclick=\"convertToInteractive('df-04e6ccf5-9b6f-4b29-8a98-164965f1d790')\"\n",
              "            title=\"Convert this dataframe to an interactive table.\"\n",
              "            style=\"display:none;\">\n",
              "\n",
              "  <svg xmlns=\"http://www.w3.org/2000/svg\" height=\"24px\" viewBox=\"0 -960 960 960\">\n",
              "    <path d=\"M120-120v-720h720v720H120Zm60-500h600v-160H180v160Zm220 220h160v-160H400v160Zm0 220h160v-160H400v160ZM180-400h160v-160H180v160Zm440 0h160v-160H620v160ZM180-180h160v-160H180v160Zm440 0h160v-160H620v160Z\"/>\n",
              "  </svg>\n",
              "    </button>\n",
              "\n",
              "  <style>\n",
              "    .colab-df-container {\n",
              "      display:flex;\n",
              "      gap: 12px;\n",
              "    }\n",
              "\n",
              "    .colab-df-convert {\n",
              "      background-color: #E8F0FE;\n",
              "      border: none;\n",
              "      border-radius: 50%;\n",
              "      cursor: pointer;\n",
              "      display: none;\n",
              "      fill: #1967D2;\n",
              "      height: 32px;\n",
              "      padding: 0 0 0 0;\n",
              "      width: 32px;\n",
              "    }\n",
              "\n",
              "    .colab-df-convert:hover {\n",
              "      background-color: #E2EBFA;\n",
              "      box-shadow: 0px 1px 2px rgba(60, 64, 67, 0.3), 0px 1px 3px 1px rgba(60, 64, 67, 0.15);\n",
              "      fill: #174EA6;\n",
              "    }\n",
              "\n",
              "    .colab-df-buttons div {\n",
              "      margin-bottom: 4px;\n",
              "    }\n",
              "\n",
              "    [theme=dark] .colab-df-convert {\n",
              "      background-color: #3B4455;\n",
              "      fill: #D2E3FC;\n",
              "    }\n",
              "\n",
              "    [theme=dark] .colab-df-convert:hover {\n",
              "      background-color: #434B5C;\n",
              "      box-shadow: 0px 1px 3px 1px rgba(0, 0, 0, 0.15);\n",
              "      filter: drop-shadow(0px 1px 2px rgba(0, 0, 0, 0.3));\n",
              "      fill: #FFFFFF;\n",
              "    }\n",
              "  </style>\n",
              "\n",
              "    <script>\n",
              "      const buttonEl =\n",
              "        document.querySelector('#df-04e6ccf5-9b6f-4b29-8a98-164965f1d790 button.colab-df-convert');\n",
              "      buttonEl.style.display =\n",
              "        google.colab.kernel.accessAllowed ? 'block' : 'none';\n",
              "\n",
              "      async function convertToInteractive(key) {\n",
              "        const element = document.querySelector('#df-04e6ccf5-9b6f-4b29-8a98-164965f1d790');\n",
              "        const dataTable =\n",
              "          await google.colab.kernel.invokeFunction('convertToInteractive',\n",
              "                                                    [key], {});\n",
              "        if (!dataTable) return;\n",
              "\n",
              "        const docLinkHtml = 'Like what you see? Visit the ' +\n",
              "          '<a target=\"_blank\" href=https://colab.research.google.com/notebooks/data_table.ipynb>data table notebook</a>'\n",
              "          + ' to learn more about interactive tables.';\n",
              "        element.innerHTML = '';\n",
              "        dataTable['output_type'] = 'display_data';\n",
              "        await google.colab.output.renderOutput(dataTable, element);\n",
              "        const docLink = document.createElement('div');\n",
              "        docLink.innerHTML = docLinkHtml;\n",
              "        element.appendChild(docLink);\n",
              "      }\n",
              "    </script>\n",
              "  </div>\n",
              "\n",
              "\n",
              "<div id=\"df-6be9dcfa-108f-4be7-935f-b80e64d15005\">\n",
              "  <button class=\"colab-df-quickchart\" onclick=\"quickchart('df-6be9dcfa-108f-4be7-935f-b80e64d15005')\"\n",
              "            title=\"Suggest charts\"\n",
              "            style=\"display:none;\">\n",
              "\n",
              "<svg xmlns=\"http://www.w3.org/2000/svg\" height=\"24px\"viewBox=\"0 0 24 24\"\n",
              "     width=\"24px\">\n",
              "    <g>\n",
              "        <path d=\"M19 3H5c-1.1 0-2 .9-2 2v14c0 1.1.9 2 2 2h14c1.1 0 2-.9 2-2V5c0-1.1-.9-2-2-2zM9 17H7v-7h2v7zm4 0h-2V7h2v10zm4 0h-2v-4h2v4z\"/>\n",
              "    </g>\n",
              "</svg>\n",
              "  </button>\n",
              "\n",
              "<style>\n",
              "  .colab-df-quickchart {\n",
              "      --bg-color: #E8F0FE;\n",
              "      --fill-color: #1967D2;\n",
              "      --hover-bg-color: #E2EBFA;\n",
              "      --hover-fill-color: #174EA6;\n",
              "      --disabled-fill-color: #AAA;\n",
              "      --disabled-bg-color: #DDD;\n",
              "  }\n",
              "\n",
              "  [theme=dark] .colab-df-quickchart {\n",
              "      --bg-color: #3B4455;\n",
              "      --fill-color: #D2E3FC;\n",
              "      --hover-bg-color: #434B5C;\n",
              "      --hover-fill-color: #FFFFFF;\n",
              "      --disabled-bg-color: #3B4455;\n",
              "      --disabled-fill-color: #666;\n",
              "  }\n",
              "\n",
              "  .colab-df-quickchart {\n",
              "    background-color: var(--bg-color);\n",
              "    border: none;\n",
              "    border-radius: 50%;\n",
              "    cursor: pointer;\n",
              "    display: none;\n",
              "    fill: var(--fill-color);\n",
              "    height: 32px;\n",
              "    padding: 0;\n",
              "    width: 32px;\n",
              "  }\n",
              "\n",
              "  .colab-df-quickchart:hover {\n",
              "    background-color: var(--hover-bg-color);\n",
              "    box-shadow: 0 1px 2px rgba(60, 64, 67, 0.3), 0 1px 3px 1px rgba(60, 64, 67, 0.15);\n",
              "    fill: var(--button-hover-fill-color);\n",
              "  }\n",
              "\n",
              "  .colab-df-quickchart-complete:disabled,\n",
              "  .colab-df-quickchart-complete:disabled:hover {\n",
              "    background-color: var(--disabled-bg-color);\n",
              "    fill: var(--disabled-fill-color);\n",
              "    box-shadow: none;\n",
              "  }\n",
              "\n",
              "  .colab-df-spinner {\n",
              "    border: 2px solid var(--fill-color);\n",
              "    border-color: transparent;\n",
              "    border-bottom-color: var(--fill-color);\n",
              "    animation:\n",
              "      spin 1s steps(1) infinite;\n",
              "  }\n",
              "\n",
              "  @keyframes spin {\n",
              "    0% {\n",
              "      border-color: transparent;\n",
              "      border-bottom-color: var(--fill-color);\n",
              "      border-left-color: var(--fill-color);\n",
              "    }\n",
              "    20% {\n",
              "      border-color: transparent;\n",
              "      border-left-color: var(--fill-color);\n",
              "      border-top-color: var(--fill-color);\n",
              "    }\n",
              "    30% {\n",
              "      border-color: transparent;\n",
              "      border-left-color: var(--fill-color);\n",
              "      border-top-color: var(--fill-color);\n",
              "      border-right-color: var(--fill-color);\n",
              "    }\n",
              "    40% {\n",
              "      border-color: transparent;\n",
              "      border-right-color: var(--fill-color);\n",
              "      border-top-color: var(--fill-color);\n",
              "    }\n",
              "    60% {\n",
              "      border-color: transparent;\n",
              "      border-right-color: var(--fill-color);\n",
              "    }\n",
              "    80% {\n",
              "      border-color: transparent;\n",
              "      border-right-color: var(--fill-color);\n",
              "      border-bottom-color: var(--fill-color);\n",
              "    }\n",
              "    90% {\n",
              "      border-color: transparent;\n",
              "      border-bottom-color: var(--fill-color);\n",
              "    }\n",
              "  }\n",
              "</style>\n",
              "\n",
              "  <script>\n",
              "    async function quickchart(key) {\n",
              "      const quickchartButtonEl =\n",
              "        document.querySelector('#' + key + ' button');\n",
              "      quickchartButtonEl.disabled = true;  // To prevent multiple clicks.\n",
              "      quickchartButtonEl.classList.add('colab-df-spinner');\n",
              "      try {\n",
              "        const charts = await google.colab.kernel.invokeFunction(\n",
              "            'suggestCharts', [key], {});\n",
              "      } catch (error) {\n",
              "        console.error('Error during call to suggestCharts:', error);\n",
              "      }\n",
              "      quickchartButtonEl.classList.remove('colab-df-spinner');\n",
              "      quickchartButtonEl.classList.add('colab-df-quickchart-complete');\n",
              "    }\n",
              "    (() => {\n",
              "      let quickchartButtonEl =\n",
              "        document.querySelector('#df-6be9dcfa-108f-4be7-935f-b80e64d15005 button');\n",
              "      quickchartButtonEl.style.display =\n",
              "        google.colab.kernel.accessAllowed ? 'block' : 'none';\n",
              "    })();\n",
              "  </script>\n",
              "</div>\n",
              "\n",
              "    </div>\n",
              "  </div>\n"
            ],
            "text/plain": [
              "                                              review sentiment\n",
              "0  I've watched this documentary twice - and alth...  positive\n",
              "1  This is probably the worst movie I've seen in ...  negative\n",
              "2  Superb story of a dedicated young teacher who ...  positive\n",
              "3  <br /><br />Spoilers<br /><br />I'm going to b...  negative\n",
              "4  What can be said, really... \"The Tenant\" is a ...  positive"
            ]
          },
          "execution_count": 6,
          "metadata": {},
          "output_type": "execute_result"
        }
      ],
      "source": [
        "df_train.head()"
      ]
    },
    {
      "cell_type": "code",
      "execution_count": 7,
      "metadata": {
        "id": "XcSWN7MUTkVw"
      },
      "outputs": [],
      "source": [
        "# Prepare data as X, Y\n",
        "Xd, Yd = df_train.review.values.tolist(), df_train.sentiment.values.tolist()\n",
        "Xv, Yv = df_valid.review.values.tolist(), df_valid.sentiment.values.tolist()\n",
        "Xt, Yt = df_test.review.values.tolist(), df_test.sentiment.values.tolist()\n",
        "\n",
        "sentiment = ['negative', 'positive']\n",
        "Yd = [sentiment.index(y) for y in Yd]\n",
        "Yv = [sentiment.index(y) for y in Yv]\n",
        "Yt = [sentiment.index(y) for y in Yt]"
      ]
    },
    {
      "cell_type": "markdown",
      "metadata": {
        "id": "DN-rFMlfTkVw"
      },
      "source": [
        "## Rule based classification"
      ]
    },
    {
      "cell_type": "code",
      "execution_count": 8,
      "metadata": {
        "id": "XyeRXh4-TkVy"
      },
      "outputs": [],
      "source": [
        "# Extract features\n",
        "def extract_features(X):\n",
        "\n",
        "    feats = {'good_count': 0, 'bad_count': 0, 'bias': 1}\n",
        "    words = X.split(' ')\n",
        "    pos_words = ['good', 'great', 'excellent', 'positive', 'love', 'like',\n",
        "                 'awesome', 'amazing', 'wonderful', 'best', 'better',\n",
        "                 'beautiful', 'nice', 'fantastic', 'superb',\n",
        "                 'incredible', 'perfect', 'well', 'fun', 'enjoy',\n",
        "                 'enjoyable', 'enjoyed', 'enjoying', 'enjoyment']\n",
        "\n",
        "    neg_words = ['hate', 'bad', 'horrible', 'awful', 'terrible', 'mess', 'frustating', 'frustatingly',\n",
        "                 'worst', 'dumb', 'poor']\n",
        "\n",
        "    for x in words:\n",
        "        if x in pos_words:\n",
        "            feats['good_count'] = feats.get('good_count', 0) + feats['bias']\n",
        "        if x in neg_words:\n",
        "            feats['bad_count'] = feats.get('good_count', 0) + feats['bias']\n",
        "    return feats\n",
        "\n",
        "def predict(X, w):\n",
        "    feats = extract_features(X)\n",
        "    score = 0\n",
        "    for f in feats:\n",
        "        score += feats[f] * w[f]\n",
        "    return 1 if score > 0 else 0\n",
        "\n",
        "def get_feature_weights():\n",
        "    return {'good_count': 1.0, 'bad_count': -1.0, 'bias': 0.5}\n",
        "\n",
        "def accuracy(Y_true, Y_pred):\n",
        "    correct = 0.0\n",
        "    total = len(Y_true)\n",
        "    assert total == len(Y_pred)\n",
        "\n",
        "    for i in range(total):\n",
        "        if Y_true[i] == Y_pred[i]:\n",
        "            correct += 1\n",
        "\n",
        "    if total > 0:\n",
        "        return 100.0 * correct / total\n",
        "    return 0.0\n"
      ]
    },
    {
      "cell_type": "code",
      "execution_count": 9,
      "metadata": {
        "colab": {
          "base_uri": "https://localhost:8080/"
        },
        "id": "vr5lvQedTkVy",
        "outputId": "3a01bf5e-b184-4e0c-f622-116db2d8df32"
      },
      "outputs": [
        {
          "name": "stdout",
          "output_type": "stream",
          "text": [
            "60.475\n"
          ]
        }
      ],
      "source": [
        "feats_wt = get_feature_weights()\n",
        "predictions = []\n",
        "\n",
        "for x in Xt:\n",
        "    y = predict(x, feats_wt)\n",
        "    predictions.append(y)\n",
        "\n",
        "print(accuracy(Yt, predictions))"
      ]
    },
    {
      "cell_type": "code",
      "execution_count": 10,
      "metadata": {
        "id": "4ZfBAYyOTkVz"
      },
      "outputs": [],
      "source": [
        "from sklearn.linear_model import LogisticRegression\n",
        "def get_learnable_wt(Xd, Yd):\n",
        "    feats_name = list(extract_features(Xd[0]).keys())\n",
        "    all_feats = []\n",
        "    for x in Xd:\n",
        "        feats = []\n",
        "        feat_dict = extract_features(x)\n",
        "        for f in feats_name:\n",
        "            feats.append(feat_dict[f])\n",
        "        all_feats.append(feats)\n",
        "\n",
        "    clf = LogisticRegression(fit_intercept=False, random_state = 42).fit(all_feats, Yd)\n",
        "    coeffs = clf.coef_[0]\n",
        "    coffs_dict = {feats_name[i]: coeffs[i] for i in range(len(feats_name))}\n",
        "    return coffs_dict"
      ]
    },
    {
      "cell_type": "code",
      "execution_count": 11,
      "metadata": {
        "colab": {
          "base_uri": "https://localhost:8080/"
        },
        "id": "e_L5y_9lTkVz",
        "outputId": "3639dea7-23d7-4938-cb58-1cd31e5b689d"
      },
      "outputs": [
        {
          "name": "stdout",
          "output_type": "stream",
          "text": [
            "Accuracy on Logistic Regression :  66.7\n"
          ]
        }
      ],
      "source": [
        "feats_wt_logistic = get_learnable_wt(Xd, Yd)\n",
        "predictions = []\n",
        "\n",
        "for x in Xt:\n",
        "    y = predict(x, feats_wt_logistic)\n",
        "    predictions.append(y)\n",
        "\n",
        "print(\"Accuracy on Logistic Regression : \",accuracy(Yt, predictions))"
      ]
    },
    {
      "cell_type": "code",
      "execution_count": 12,
      "metadata": {
        "colab": {
          "base_uri": "https://localhost:8080/",
          "height": 525
        },
        "id": "KpjlK4x8TkV0",
        "outputId": "6372d281-3c0f-43c0-b7bf-bde46aaf721f"
      },
      "outputs": [
        {
          "data": {
            "text/plain": [
              "(-2.0, 2.0)"
            ]
          },
          "execution_count": 12,
          "metadata": {},
          "output_type": "execute_result"
        },
        {
          "data": {
            "image/png": "[encoded data removed]",
            "text/plain": [
              "<Figure size 640x480 with 1 Axes>"
            ]
          },
          "metadata": {},
          "output_type": "display_data"
        }
      ],
      "source": [
        "import matplotlib.pyplot as plt\n",
        "import numpy as np\n",
        "\n",
        "feats_names = list(feats_wt_logistic.keys())\n",
        "manual_wt = [feats_wt[f] for f in feats_names]\n",
        "logistic_wt = [feats_wt_logistic[f] for f in feats_names]\n",
        "\n",
        "wt_dict = {'manual': manual_wt, 'logistic': logistic_wt}\n",
        "x = np.arange(len(feats_names))  # the label locations\n",
        "width = 0.35  # the width of the bars\n",
        "multiplier = 0\n",
        "\n",
        "fig, ax = plt.subplots(layout='constrained');\n",
        "\n",
        "for attribute, measurement in wt_dict.items():\n",
        "    offset = width * multiplier\n",
        "    rects = ax.bar(x + offset, measurement, width, label=attribute)\n",
        "    ax.bar_label(rects, padding=3)\n",
        "    multiplier += 1\n",
        "\n",
        "# Add some text for labels, title and custom x-axis tick labels, etc.\n",
        "ax.set_ylabel('weight')\n",
        "ax.set_title('Comparing Manual vs learnable weights comparison')\n",
        "ax.set_xticks(x + width, feats_names)\n",
        "ax.legend(loc='upper left', ncols=2)\n",
        "ax.set_ylim(-2, 2)"
      ]
    },
    {
      "cell_type": "markdown",
      "metadata": {
        "id": "GAXcn5zZTkV0"
      },
      "source": [
        "## Using Bag of Words"
      ]
    },
    {
      "cell_type": "code",
      "execution_count": 13,
      "metadata": {
        "id": "HEJ4RCpnTkV0"
      },
      "outputs": [],
      "source": [
        "import collections\n",
        "\n",
        "def word_to_idx(X, k = 1000):\n",
        "\n",
        "    all_text = ' '.join(X)\n",
        "    words = all_text.split()\n",
        "    word_counts = collections.Counter(words)\n",
        "    top_k_words = [word for word,_ in word_counts.most_common(k)]\n",
        "    #print(top_k_words)\n",
        "    word_idx = {word: idx for idx, word in enumerate(top_k_words)}\n",
        "\n",
        "    return word_idx"
      ]
    },
    {
      "cell_type": "code",
      "execution_count": 14,
      "metadata": {
        "id": "-mIPWMPvTkV1"
      },
      "outputs": [],
      "source": [
        "def extract_features_bow(X, word_idx):\n",
        "    features = {word: 0 for word in word_idx}\n",
        "    words = X.split()\n",
        "    for word in words:\n",
        "        if word in word_idx:\n",
        "            features[word] += 1\n",
        "    return features"
      ]
    },
    {
      "cell_type": "code",
      "execution_count": 15,
      "metadata": {
        "colab": {
          "base_uri": "https://localhost:8080/"
        },
        "id": "LWz2XCyVTkV1",
        "outputId": "2b41fa16-26f4-45e1-a45a-81618a63fa45"
      },
      "outputs": [
        {
          "name": "stdout",
          "output_type": "stream",
          "text": [
            "the \t 3\n",
            "? \t 1\n",
            "When \t 1\n",
            "is \t 2\n",
            "money \t 1\n",
            "due \t 1\n",
            "are \t 1\n",
            "TAs' \t 1\n",
            "office \t 1\n",
            "hours \t 1\n",
            "How \t 0\n",
            "hard \t 1\n",
            "job \t 1\n"
          ]
        }
      ],
      "source": [
        "samples = [\n",
        "    \"When is the money due ?\",\n",
        "    \"When are the TAs' office hours ?\",\n",
        "    \"How hard is the job ?\",\n",
        "]\n",
        "word_idx = word_to_idx(samples)\n",
        "features = extract_features_bow(samples[0]+samples[1]+samples[2], word_idx)\n",
        "for f in features:\n",
        "    print(f,\"\\t\", features[f])"
      ]
    },
    {
      "cell_type": "code",
      "execution_count": 16,
      "metadata": {
        "id": "cSv1OT21TkV1"
      },
      "outputs": [],
      "source": [
        "def learnable_word_to_idx(X, Y):\n",
        "\n",
        "    word_idx = word_to_idx(X)\n",
        "    feats_names = list(word_idx.keys())\n",
        "\n",
        "    all_feats = []\n",
        "    for x in X:\n",
        "        f = []\n",
        "        feats_dict = extract_features_bow(x, word_idx)\n",
        "\n",
        "        for name in feats_names:\n",
        "            f.append(feats_dict[name])\n",
        "        all_feats.append(f)\n",
        "\n",
        "    clf = LogisticRegression(fit_intercept = False, random_state = 42).fit(all_feats, Y)\n",
        "    coeffs = clf.coef_[0]\n",
        "    coeffs_dict = {feats_names[i]: coeffs[i] for i in range(len(feats_names))}\n",
        "\n",
        "    return coeffs_dict"
      ]
    },
    {
      "cell_type": "code",
      "execution_count": 17,
      "metadata": {
        "id": "vzOPjOC-TkV1"
      },
      "outputs": [],
      "source": [
        "def predict_bow(X, feature_wt):\n",
        "    features = extract_features_bow(X, feature_wt)\n",
        "    score = 0\n",
        "    for f_name, f_value in features.items():\n",
        "        score = score + f_value * feature_wt[f_name]\n",
        "        #print(feature_wt[f_name])#f_name, f_value, score)\n",
        "\n",
        "    return 1 if score > 0 else 0"
      ]
    },
    {
      "cell_type": "code",
      "execution_count": 18,
      "metadata": {
        "colab": {
          "base_uri": "https://localhost:8080/"
        },
        "id": "fFOI8KkzTkV2",
        "outputId": "e057646e-fa48-4945-f907-3cf193d605da"
      },
      "outputs": [
        {
          "name": "stdout",
          "output_type": "stream",
          "text": [
            "Learned feature weights :\n",
            " [('the', -0.004318629454279685), ('a', -0.021810056533700096), ('and', 0.06340806439469476), ('of', 0.024746934626418984), ('to', -0.0029263171888667555)]\n",
            "Accuracy on logistic regression on bow :  81.575\n"
          ]
        }
      ],
      "source": [
        "import warnings\n",
        "warnings.filterwarnings('ignore')\n",
        "\n",
        "learned_feature_wt = learnable_word_to_idx(Xd, Yd)\n",
        "print(\"Learned feature weights :\\n\", list(learned_feature_wt.items())[:5])\n",
        "preds = []\n",
        "for x in Xt:\n",
        "    y = predict_bow(x, learned_feature_wt)\n",
        "    preds.append(y)\n",
        "\n",
        "print(\"Accuracy on logistic regression on bow : \",accuracy(Yt, preds))"
      ]
    },
    {
      "cell_type": "code",
      "execution_count": 19,
      "metadata": {
        "colab": {
          "base_uri": "https://localhost:8080/"
        },
        "id": "kE2pN89rTkV2",
        "outputId": "15bc113a-5572-4d76-8686-069044c8d57b"
      },
      "outputs": [
        {
          "name": "stdout",
          "output_type": "stream",
          "text": [
            "Most positive words :  ['excellent', 'amazing', 'favorite', 'perfect', 'wonderful']\n",
            "Most negative words :  ['waste', 'worst', 'poorly', 'fails', 'poor']\n"
          ]
        }
      ],
      "source": [
        "most_positive = sorted(learned_feature_wt, key=learned_feature_wt.get, reverse=True)[:5]\n",
        "most_negative = sorted(learned_feature_wt, key=learned_feature_wt.get, reverse=False)[:5]\n",
        "\n",
        "print(\"Most positive words : \", most_positive)\n",
        "print(\"Most negative words : \", most_negative)"
      ]
    },
    {
      "cell_type": "markdown",
      "metadata": {
        "id": "xL2XxhsMTkV2"
      },
      "source": [
        "## Word2Vec"
      ]
    },
    {
      "cell_type": "markdown",
      "metadata": {
        "id": "FaTW0ZCdTkV2"
      },
      "source": [
        "Word2Vec model has Continuous bag of word and Skipgram architectures."
      ]
    },
    {
      "cell_type": "code",
      "execution_count": 38,
      "metadata": {
        "colab": {
          "base_uri": "https://localhost:8080/",
          "height": 1000
        },
        "id": "bbenGq_pUj34",
        "outputId": "62be0c24-5041-49ef-d024-0dce14cb38ad"
      },
      "outputs": [
        {
          "name": "stdout",
          "output_type": "stream",
          "text": [
            "\u001b[33mWARNING: Ignoring invalid distribution -orch (/usr/local/lib/python3.10/dist-packages)\u001b[0m\u001b[33m\n",
            "\u001b[0m\u001b[33mWARNING: Skipping torchtext as it is not installed.\u001b[0m\u001b[33m\n",
            "\u001b[0m\u001b[33mWARNING: Ignoring invalid distribution -orch (/usr/local/lib/python3.10/dist-packages)\u001b[0m\u001b[33m\n",
            "\u001b[0mCollecting torchtext\n",
            "  Using cached torchtext-0.18.0-cp310-cp310-manylinux1_x86_64.whl.metadata (7.9 kB)\n",
            "Requirement already satisfied: tqdm in /usr/local/lib/python3.10/dist-packages (from torchtext) (4.66.5)\n",
            "Requirement already satisfied: requests in /usr/local/lib/python3.10/dist-packages (from torchtext) (2.32.3)\n",
            "Collecting torch>=2.3.0 (from torchtext)\n",
            "  Downloading torch-2.4.0-cp310-cp310-manylinux1_x86_64.whl.metadata (26 kB)\n",
            "Requirement already satisfied: numpy in /usr/local/lib/python3.10/dist-packages (from torchtext) (1.26.4)\n",
            "Requirement already satisfied: filelock in /usr/local/lib/python3.10/dist-packages (from torch>=2.3.0->torchtext) (3.15.4)\n",
            "Requirement already satisfied: typing-extensions>=4.8.0 in /usr/local/lib/python3.10/dist-packages (from torch>=2.3.0->torchtext) (4.12.2)\n",
            "Requirement already satisfied: sympy in /usr/local/lib/python3.10/dist-packages (from torch>=2.3.0->torchtext) (1.13.2)\n",
            "Requirement already satisfied: networkx in /usr/local/lib/python3.10/dist-packages (from torch>=2.3.0->torchtext) (3.3)\n",
            "Requirement already satisfied: jinja2 in /usr/local/lib/python3.10/dist-packages (from torch>=2.3.0->torchtext) (3.1.4)\n",
            "Requirement already satisfied: fsspec in /usr/local/lib/python3.10/dist-packages (from torch>=2.3.0->torchtext) (2024.6.1)\n",
            "Collecting nvidia-cuda-nvrtc-cu12==12.1.105 (from torch>=2.3.0->torchtext)\n",
            "  Downloading nvidia_cuda_nvrtc_cu12-12.1.105-py3-none-manylinux1_x86_64.whl.metadata (1.5 kB)\n",
            "Collecting nvidia-cuda-runtime-cu12==12.1.105 (from torch>=2.3.0->torchtext)\n",
            "  Downloading nvidia_cuda_runtime_cu12-12.1.105-py3-none-manylinux1_x86_64.whl.metadata (1.5 kB)\n",
            "Collecting nvidia-cuda-cupti-cu12==12.1.105 (from torch>=2.3.0->torchtext)\n",
            "  Downloading nvidia_cuda_cupti_cu12-12.1.105-py3-none-manylinux1_x86_64.whl.metadata (1.6 kB)\n",
            "Collecting nvidia-cudnn-cu12==9.1.0.70 (from torch>=2.3.0->torchtext)\n",
            "  Downloading nvidia_cudnn_cu12-9.1.0.70-py3-none-manylinux2014_x86_64.whl.metadata (1.6 kB)\n",
            "Collecting nvidia-cublas-cu12==12.1.3.1 (from torch>=2.3.0->torchtext)\n",
            "  Downloading nvidia_cublas_cu12-12.1.3.1-py3-none-manylinux1_x86_64.whl.metadata (1.5 kB)\n",
            "Collecting nvidia-cufft-cu12==11.0.2.54 (from torch>=2.3.0->torchtext)\n",
            "  Downloading nvidia_cufft_cu12-11.0.2.54-py3-none-manylinux1_x86_64.whl.metadata (1.5 kB)\n",
            "Collecting nvidia-curand-cu12==10.3.2.106 (from torch>=2.3.0->torchtext)\n",
            "  Downloading nvidia_curand_cu12-10.3.2.106-py3-none-manylinux1_x86_64.whl.metadata (1.5 kB)\n",
            "Collecting nvidia-cusolver-cu12==11.4.5.107 (from torch>=2.3.0->torchtext)\n",
            "  Downloading nvidia_cusolver_cu12-11.4.5.107-py3-none-manylinux1_x86_64.whl.metadata (1.6 kB)\n",
            "Collecting nvidia-cusparse-cu12==12.1.0.106 (from torch>=2.3.0->torchtext)\n",
            "  Downloading nvidia_cusparse_cu12-12.1.0.106-py3-none-manylinux1_x86_64.whl.metadata (1.6 kB)\n",
            "Collecting nvidia-nccl-cu12==2.20.5 (from torch>=2.3.0->torchtext)\n",
            "  Downloading nvidia_nccl_cu12-2.20.5-py3-none-manylinux2014_x86_64.whl.metadata (1.8 kB)\n",
            "Collecting nvidia-nvtx-cu12==12.1.105 (from torch>=2.3.0->torchtext)\n",
            "  Downloading nvidia_nvtx_cu12-12.1.105-py3-none-manylinux1_x86_64.whl.metadata (1.7 kB)\n",
            "Collecting triton==3.0.0 (from torch>=2.3.0->torchtext)\n",
            "  Downloading triton-3.0.0-1-cp310-cp310-manylinux2014_x86_64.manylinux_2_17_x86_64.whl.metadata (1.3 kB)\n",
            "Collecting nvidia-nvjitlink-cu12 (from nvidia-cusolver-cu12==11.4.5.107->torch>=2.3.0->torchtext)\n",
            "  Downloading nvidia_nvjitlink_cu12-12.6.68-py3-none-manylinux2014_x86_64.whl.metadata (1.5 kB)\n",
            "Requirement already satisfied: charset-normalizer<4,>=2 in /usr/local/lib/python3.10/dist-packages (from requests->torchtext) (3.3.2)\n",
            "Requirement already satisfied: idna<4,>=2.5 in /usr/local/lib/python3.10/dist-packages (from requests->torchtext) (3.8)\n",
            "Requirement already satisfied: urllib3<3,>=1.21.1 in /usr/local/lib/python3.10/dist-packages (from requests->torchtext) (2.0.7)\n",
            "Requirement already satisfied: certifi>=2017.4.17 in /usr/local/lib/python3.10/dist-packages (from requests->torchtext) (2024.7.4)\n",
            "Requirement already satisfied: MarkupSafe>=2.0 in /usr/local/lib/python3.10/dist-packages (from jinja2->torch>=2.3.0->torchtext) (2.1.5)\n",
            "Requirement already satisfied: mpmath<1.4,>=1.1.0 in /usr/local/lib/python3.10/dist-packages (from sympy->torch>=2.3.0->torchtext) (1.3.0)\n",
            "Using cached torchtext-0.18.0-cp310-cp310-manylinux1_x86_64.whl (2.0 MB)\n",
            "Downloading torch-2.4.0-cp310-cp310-manylinux1_x86_64.whl (797.2 MB)\n",
            "\u001b[2K   \u001b[90m━━━━━━━━━━━━━━━━━━━━━━━━━━━━━━━━━━━━━━━━\u001b[0m \u001b[32m797.2/797.2 MB\u001b[0m \u001b[31m2.4 MB/s\u001b[0m eta \u001b[36m0:00:00\u001b[0m\n",
            "\u001b[?25hDownloading nvidia_cublas_cu12-12.1.3.1-py3-none-manylinux1_x86_64.whl (410.6 MB)\n",
            "\u001b[2K   \u001b[90m━━━━━━━━━━━━━━━━━━━━━━━━━━━━━━━━━━━━━━━━\u001b[0m \u001b[32m410.6/410.6 MB\u001b[0m \u001b[31m4.1 MB/s\u001b[0m eta \u001b[36m0:00:00\u001b[0m\n",
            "\u001b[?25hDownloading nvidia_cuda_cupti_cu12-12.1.105-py3-none-manylinux1_x86_64.whl (14.1 MB)\n",
            "\u001b[2K   \u001b[90m━━━━━━━━━━━━━━━━━━━━━━━━━━━━━━━━━━━━━━━━\u001b[0m \u001b[32m14.1/14.1 MB\u001b[0m \u001b[31m101.1 MB/s\u001b[0m eta \u001b[36m0:00:00\u001b[0m\n",
            "\u001b[?25hDownloading nvidia_cuda_nvrtc_cu12-12.1.105-py3-none-manylinux1_x86_64.whl (23.7 MB)\n",
            "\u001b[2K   \u001b[90m━━━━━━━━━━━━━━━━━━━━━━━━━━━━━━━━━━━━━━━━\u001b[0m \u001b[32m23.7/23.7 MB\u001b[0m \u001b[31m84.9 MB/s\u001b[0m eta \u001b[36m0:00:00\u001b[0m\n",
            "\u001b[?25hDownloading nvidia_cuda_runtime_cu12-12.1.105-py3-none-manylinux1_x86_64.whl (823 kB)\n",
            "\u001b[2K   \u001b[90m━━━━━━━━━━━━━━━━━━━━━━━━━━━━━━━━━━━━━━━━\u001b[0m \u001b[32m823.6/823.6 kB\u001b[0m \u001b[31m48.4 MB/s\u001b[0m eta \u001b[36m0:00:00\u001b[0m\n",
            "\u001b[?25hDownloading nvidia_cudnn_cu12-9.1.0.70-py3-none-manylinux2014_x86_64.whl (664.8 MB)\n",
            "\u001b[2K   \u001b[90m━━━━━━━━━━━━━━━━━━━━━━━━━━━━━━━━━━━━━━━━\u001b[0m \u001b[32m664.8/664.8 MB\u001b[0m \u001b[31m1.5 MB/s\u001b[0m eta \u001b[36m0:00:00\u001b[0m\n",
            "\u001b[?25hDownloading nvidia_cufft_cu12-11.0.2.54-py3-none-manylinux1_x86_64.whl (121.6 MB)\n",
            "\u001b[2K   \u001b[90m━━━━━━━━━━━━━━━━━━━━━━━━━━━━━━━━━━━━━━━━\u001b[0m \u001b[32m121.6/121.6 MB\u001b[0m \u001b[31m8.2 MB/s\u001b[0m eta \u001b[36m0:00:00\u001b[0m\n",
            "\u001b[?25hDownloading nvidia_curand_cu12-10.3.2.106-py3-none-manylinux1_x86_64.whl (56.5 MB)\n",
            "\u001b[2K   \u001b[90m━━━━━━━━━━━━━━━━━━━━━━━━━━━━━━━━━━━━━━━━\u001b[0m \u001b[32m56.5/56.5 MB\u001b[0m \u001b[31m14.9 MB/s\u001b[0m eta \u001b[36m0:00:00\u001b[0m\n",
            "\u001b[?25hDownloading nvidia_cusolver_cu12-11.4.5.107-py3-none-manylinux1_x86_64.whl (124.2 MB)\n",
            "\u001b[2K   \u001b[90m━━━━━━━━━━━━━━━━━━━━━━━━━━━━━━━━━━━━━━━━\u001b[0m \u001b[32m124.2/124.2 MB\u001b[0m \u001b[31m7.9 MB/s\u001b[0m eta \u001b[36m0:00:00\u001b[0m\n",
            "\u001b[?25hDownloading nvidia_cusparse_cu12-12.1.0.106-py3-none-manylinux1_x86_64.whl (196.0 MB)\n",
            "\u001b[2K   \u001b[90m━━━━━━━━━━━━━━━━━━━━━━━━━━━━━━━━━━━━━━━━\u001b[0m \u001b[32m196.0/196.0 MB\u001b[0m \u001b[31m7.1 MB/s\u001b[0m eta \u001b[36m0:00:00\u001b[0m\n",
            "\u001b[?25hDownloading nvidia_nccl_cu12-2.20.5-py3-none-manylinux2014_x86_64.whl (176.2 MB)\n",
            "\u001b[2K   \u001b[90m━━━━━━━━━━━━━━━━━━━━━━━━━━━━━━━━━━━━━━━━\u001b[0m \u001b[32m176.2/176.2 MB\u001b[0m \u001b[31m6.8 MB/s\u001b[0m eta \u001b[36m0:00:00\u001b[0m\n",
            "\u001b[?25hDownloading nvidia_nvtx_cu12-12.1.105-py3-none-manylinux1_x86_64.whl (99 kB)\n",
            "\u001b[2K   \u001b[90m━━━━━━━━━━━━━━━━━━━━━━━━━━━━━━━━━━━━━━━━\u001b[0m \u001b[32m99.1/99.1 kB\u001b[0m \u001b[31m7.7 MB/s\u001b[0m eta \u001b[36m0:00:00\u001b[0m\n",
            "\u001b[?25hDownloading triton-3.0.0-1-cp310-cp310-manylinux2014_x86_64.manylinux_2_17_x86_64.whl (209.4 MB)\n",
            "\u001b[2K   \u001b[90m━━━━━━━━━━━━━━━━━━━━━━━━━━━━━━━━━━━━━━━━\u001b[0m \u001b[32m209.4/209.4 MB\u001b[0m \u001b[31m6.3 MB/s\u001b[0m eta \u001b[36m0:00:00\u001b[0m\n",
            "\u001b[?25hDownloading nvidia_nvjitlink_cu12-12.6.68-py3-none-manylinux2014_x86_64.whl (19.7 MB)\n",
            "\u001b[2K   \u001b[90m━━━━━━━━━━━━━━━━━━━━━━━━━━━━━━━━━━━━━━━━\u001b[0m \u001b[32m19.7/19.7 MB\u001b[0m \u001b[31m87.0 MB/s\u001b[0m eta \u001b[36m0:00:00\u001b[0m\n",
            "\u001b[?25h\u001b[33mWARNING: Ignoring invalid distribution -orch (/usr/local/lib/python3.10/dist-packages)\u001b[0m\u001b[33m\n",
            "\u001b[0mInstalling collected packages: triton, nvidia-nvtx-cu12, nvidia-nvjitlink-cu12, nvidia-nccl-cu12, nvidia-curand-cu12, nvidia-cufft-cu12, nvidia-cuda-runtime-cu12, nvidia-cuda-nvrtc-cu12, nvidia-cuda-cupti-cu12, nvidia-cublas-cu12, nvidia-cusparse-cu12, nvidia-cudnn-cu12, nvidia-cusolver-cu12, torch, torchtext\n",
            "  Attempting uninstall: nvidia-nccl-cu12\n",
            "    Found existing installation: nvidia-nccl-cu12 2.22.3\n",
            "    Uninstalling nvidia-nccl-cu12-2.22.3:\n",
            "      Successfully uninstalled nvidia-nccl-cu12-2.22.3\n",
            "Successfully installed nvidia-cublas-cu12-12.1.3.1 nvidia-cuda-cupti-cu12-12.1.105 nvidia-cuda-nvrtc-cu12-12.1.105 nvidia-cuda-runtime-cu12-12.1.105 nvidia-cudnn-cu12-9.1.0.70 nvidia-cufft-cu12-11.0.2.54 nvidia-curand-cu12-10.3.2.106 nvidia-cusolver-cu12-11.4.5.107 nvidia-cusparse-cu12-12.1.0.106 nvidia-nccl-cu12-2.20.5 nvidia-nvjitlink-cu12-12.6.68 nvidia-nvtx-cu12-12.1.105 torch-2.4.0 torchtext-0.18.0 triton-3.0.0\n"
          ]
        },
        {
          "data": {
            "application/vnd.colab-display-data+json": {
              "id": "0447bc788414466ab8810db82587d068",
              "pip_warning": {
                "packages": [
                  "torch",
                  "torchgen"
                ]
              }
            }
          },
          "metadata": {},
          "output_type": "display_data"
        }
      ],
      "source": [
        "!pip uninstall torchtext\n",
        "!pip install torchtext"
      ]
    },
    {
      "cell_type": "code",
      "execution_count": 22,
      "metadata": {
        "colab": {
          "base_uri": "https://localhost:8080/",
          "height": 1000
        },
        "id": "btSsMuiQW_SY",
        "outputId": "96520d55-8bcf-4b8f-edc7-60d6ea4b16cb"
      },
      "outputs": [
        {
          "name": "stdout",
          "output_type": "stream",
          "text": [
            "\u001b[33mWARNING: Ignoring invalid distribution -orch (/usr/local/lib/python3.10/dist-packages)\u001b[0m\u001b[33m\n",
            "\u001b[0mCollecting torch==2.0.0\n",
            "  Using cached torch-2.0.0-cp310-cp310-manylinux1_x86_64.whl.metadata (24 kB)\n",
            "Collecting torchtext==0.15.1\n",
            "  Downloading torchtext-0.15.1-cp310-cp310-manylinux1_x86_64.whl.metadata (7.4 kB)\n",
            "Requirement already satisfied: filelock in /usr/local/lib/python3.10/dist-packages (from torch==2.0.0) (3.15.4)\n",
            "Requirement already satisfied: typing-extensions in /usr/local/lib/python3.10/dist-packages (from torch==2.0.0) (4.12.2)\n",
            "Requirement already satisfied: sympy in /usr/local/lib/python3.10/dist-packages (from torch==2.0.0) (1.13.2)\n",
            "Requirement already satisfied: networkx in /usr/local/lib/python3.10/dist-packages (from torch==2.0.0) (3.3)\n",
            "Requirement already satisfied: jinja2 in /usr/local/lib/python3.10/dist-packages (from torch==2.0.0) (3.1.4)\n",
            "Collecting nvidia-cuda-nvrtc-cu11==11.7.99 (from torch==2.0.0)\n",
            "  Downloading nvidia_cuda_nvrtc_cu11-11.7.99-2-py3-none-manylinux1_x86_64.whl.metadata (1.5 kB)\n",
            "Collecting nvidia-cuda-runtime-cu11==11.7.99 (from torch==2.0.0)\n",
            "  Downloading nvidia_cuda_runtime_cu11-11.7.99-py3-none-manylinux1_x86_64.whl.metadata (1.6 kB)\n",
            "Collecting nvidia-cuda-cupti-cu11==11.7.101 (from torch==2.0.0)\n",
            "  Downloading nvidia_cuda_cupti_cu11-11.7.101-py3-none-manylinux1_x86_64.whl.metadata (1.6 kB)\n",
            "Collecting nvidia-cudnn-cu11==8.5.0.96 (from torch==2.0.0)\n",
            "  Downloading nvidia_cudnn_cu11-8.5.0.96-2-py3-none-manylinux1_x86_64.whl.metadata (1.6 kB)\n",
            "Collecting nvidia-cublas-cu11==11.10.3.66 (from torch==2.0.0)\n",
            "  Downloading nvidia_cublas_cu11-11.10.3.66-py3-none-manylinux1_x86_64.whl.metadata (1.6 kB)\n",
            "Collecting nvidia-cufft-cu11==10.9.0.58 (from torch==2.0.0)\n",
            "  Downloading nvidia_cufft_cu11-10.9.0.58-py3-none-manylinux2014_x86_64.whl.metadata (1.5 kB)\n",
            "Collecting nvidia-curand-cu11==10.2.10.91 (from torch==2.0.0)\n",
            "  Downloading nvidia_curand_cu11-10.2.10.91-py3-none-manylinux1_x86_64.whl.metadata (1.6 kB)\n",
            "Collecting nvidia-cusolver-cu11==11.4.0.1 (from torch==2.0.0)\n",
            "  Downloading nvidia_cusolver_cu11-11.4.0.1-2-py3-none-manylinux1_x86_64.whl.metadata (1.6 kB)\n",
            "Collecting nvidia-cusparse-cu11==11.7.4.91 (from torch==2.0.0)\n",
            "  Downloading nvidia_cusparse_cu11-11.7.4.91-py3-none-manylinux1_x86_64.whl.metadata (1.6 kB)\n",
            "Collecting nvidia-nccl-cu11==2.14.3 (from torch==2.0.0)\n",
            "  Downloading nvidia_nccl_cu11-2.14.3-py3-none-manylinux1_x86_64.whl.metadata (1.8 kB)\n",
            "Collecting nvidia-nvtx-cu11==11.7.91 (from torch==2.0.0)\n",
            "  Downloading nvidia_nvtx_cu11-11.7.91-py3-none-manylinux1_x86_64.whl.metadata (1.7 kB)\n",
            "Collecting triton==2.0.0 (from torch==2.0.0)\n",
            "  Downloading triton-2.0.0-1-cp310-cp310-manylinux2014_x86_64.manylinux_2_17_x86_64.whl.metadata (1.0 kB)\n",
            "Requirement already satisfied: tqdm in /usr/local/lib/python3.10/dist-packages (from torchtext==0.15.1) (4.66.5)\n",
            "Requirement already satisfied: requests in /usr/local/lib/python3.10/dist-packages (from torchtext==0.15.1) (2.32.3)\n",
            "Requirement already satisfied: numpy in /usr/local/lib/python3.10/dist-packages (from torchtext==0.15.1) (1.26.4)\n",
            "Collecting torchdata==0.6.0 (from torchtext==0.15.1)\n",
            "  Downloading torchdata-0.6.0-cp310-cp310-manylinux_2_17_x86_64.manylinux2014_x86_64.whl.metadata (919 bytes)\n",
            "Requirement already satisfied: setuptools in /usr/local/lib/python3.10/dist-packages (from nvidia-cublas-cu11==11.10.3.66->torch==2.0.0) (71.0.4)\n",
            "Requirement already satisfied: wheel in /usr/local/lib/python3.10/dist-packages (from nvidia-cublas-cu11==11.10.3.66->torch==2.0.0) (0.44.0)\n",
            "Requirement already satisfied: urllib3>=1.25 in /usr/local/lib/python3.10/dist-packages (from torchdata==0.6.0->torchtext==0.15.1) (2.0.7)\n",
            "Requirement already satisfied: cmake in /usr/local/lib/python3.10/dist-packages (from triton==2.0.0->torch==2.0.0) (3.30.2)\n",
            "Collecting lit (from triton==2.0.0->torch==2.0.0)\n",
            "  Downloading lit-18.1.8-py3-none-any.whl.metadata (2.5 kB)\n",
            "Requirement already satisfied: MarkupSafe>=2.0 in /usr/local/lib/python3.10/dist-packages (from jinja2->torch==2.0.0) (2.1.5)\n",
            "Requirement already satisfied: charset-normalizer<4,>=2 in /usr/local/lib/python3.10/dist-packages (from requests->torchtext==0.15.1) (3.3.2)\n",
            "Requirement already satisfied: idna<4,>=2.5 in /usr/local/lib/python3.10/dist-packages (from requests->torchtext==0.15.1) (3.8)\n",
            "Requirement already satisfied: certifi>=2017.4.17 in /usr/local/lib/python3.10/dist-packages (from requests->torchtext==0.15.1) (2024.7.4)\n",
            "Requirement already satisfied: mpmath<1.4,>=1.1.0 in /usr/local/lib/python3.10/dist-packages (from sympy->torch==2.0.0) (1.3.0)\n",
            "Downloading torch-2.0.0-cp310-cp310-manylinux1_x86_64.whl (619.9 MB)\n",
            "\u001b[2K   \u001b[90m━━━━━━━━━━━━━━━━━━━━━━━━━━━━━━━━━━━━━━━━\u001b[0m \u001b[32m619.9/619.9 MB\u001b[0m \u001b[31m3.0 MB/s\u001b[0m eta \u001b[36m0:00:00\u001b[0m\n",
            "\u001b[?25hDownloading torchtext-0.15.1-cp310-cp310-manylinux1_x86_64.whl (2.0 MB)\n",
            "\u001b[2K   \u001b[90m━━━━━━━━━━━━━━━━━━━━━━━━━━━━━━━━━━━━━━━━\u001b[0m \u001b[32m2.0/2.0 MB\u001b[0m \u001b[31m80.9 MB/s\u001b[0m eta \u001b[36m0:00:00\u001b[0m\n",
            "\u001b[?25hDownloading nvidia_cublas_cu11-11.10.3.66-py3-none-manylinux1_x86_64.whl (317.1 MB)\n",
            "\u001b[2K   \u001b[90m━━━━━━━━━━━━━━━━━━━━━━━━━━━━━━━━━━━━━━━━\u001b[0m \u001b[32m317.1/317.1 MB\u001b[0m \u001b[31m5.7 MB/s\u001b[0m eta \u001b[36m0:00:00\u001b[0m\n",
            "\u001b[?25hDownloading nvidia_cuda_cupti_cu11-11.7.101-py3-none-manylinux1_x86_64.whl (11.8 MB)\n",
            "\u001b[2K   \u001b[90m━━━━━━━━━━━━━━━━━━━━━━━━━━━━━━━━━━━━━━━━\u001b[0m \u001b[32m11.8/11.8 MB\u001b[0m \u001b[31m70.7 MB/s\u001b[0m eta \u001b[36m0:00:00\u001b[0m\n",
            "\u001b[?25hDownloading nvidia_cuda_nvrtc_cu11-11.7.99-2-py3-none-manylinux1_x86_64.whl (21.0 MB)\n",
            "\u001b[2K   \u001b[90m━━━━━━━━━━━━━━━━━━━━━━━━━━━━━━━━━━━━━━━━\u001b[0m \u001b[32m21.0/21.0 MB\u001b[0m \u001b[31m59.7 MB/s\u001b[0m eta \u001b[36m0:00:00\u001b[0m\n",
            "\u001b[?25hDownloading nvidia_cuda_runtime_cu11-11.7.99-py3-none-manylinux1_x86_64.whl (849 kB)\n",
            "\u001b[2K   \u001b[90m━━━━━━━━━━━━━━━━━━━━━━━━━━━━━━━━━━━━━━━━\u001b[0m \u001b[32m849.3/849.3 kB\u001b[0m \u001b[31m45.8 MB/s\u001b[0m eta \u001b[36m0:00:00\u001b[0m\n",
            "\u001b[?25hDownloading nvidia_cudnn_cu11-8.5.0.96-2-py3-none-manylinux1_x86_64.whl (557.1 MB)\n",
            "\u001b[2K   \u001b[90m━━━━━━━━━━━━━━━━━━━━━━━━━━━━━━━━━━━━━━━━\u001b[0m \u001b[32m557.1/557.1 MB\u001b[0m \u001b[31m3.3 MB/s\u001b[0m eta \u001b[36m0:00:00\u001b[0m\n",
            "\u001b[?25hDownloading nvidia_cufft_cu11-10.9.0.58-py3-none-manylinux2014_x86_64.whl (168.4 MB)\n",
            "\u001b[2K   \u001b[90m━━━━━━━━━━━━━━━━━━━━━━━━━━━━━━━━━━━━━━━━\u001b[0m \u001b[32m168.4/168.4 MB\u001b[0m \u001b[31m6.8 MB/s\u001b[0m eta \u001b[36m0:00:00\u001b[0m\n",
            "\u001b[?25hDownloading nvidia_curand_cu11-10.2.10.91-py3-none-manylinux1_x86_64.whl (54.6 MB)\n",
            "\u001b[2K   \u001b[90m━━━━━━━━━━━━━━━━━━━━━━━━━━━━━━━━━━━━━━━━\u001b[0m \u001b[32m54.6/54.6 MB\u001b[0m \u001b[31m10.2 MB/s\u001b[0m eta \u001b[36m0:00:00\u001b[0m\n",
            "\u001b[?25hDownloading nvidia_cusolver_cu11-11.4.0.1-2-py3-none-manylinux1_x86_64.whl (102.6 MB)\n",
            "\u001b[2K   \u001b[90m━━━━━━━━━━━━━━━━━━━━━━━━━━━━━━━━━━━━━━━━\u001b[0m \u001b[32m102.6/102.6 MB\u001b[0m \u001b[31m8.9 MB/s\u001b[0m eta \u001b[36m0:00:00\u001b[0m\n",
            "\u001b[?25hDownloading nvidia_cusparse_cu11-11.7.4.91-py3-none-manylinux1_x86_64.whl (173.2 MB)\n",
            "\u001b[2K   \u001b[90m━━━━━━━━━━━━━━━━━━━━━━━━━━━━━━━━━━━━━━━━\u001b[0m \u001b[32m173.2/173.2 MB\u001b[0m \u001b[31m6.6 MB/s\u001b[0m eta \u001b[36m0:00:00\u001b[0m\n",
            "\u001b[?25hDownloading nvidia_nccl_cu11-2.14.3-py3-none-manylinux1_x86_64.whl (177.1 MB)\n",
            "\u001b[2K   \u001b[90m━━━━━━━━━━━━━━━━━━━━━━━━━━━━━━━━━━━━━━━━\u001b[0m \u001b[32m177.1/177.1 MB\u001b[0m \u001b[31m6.8 MB/s\u001b[0m eta \u001b[36m0:00:00\u001b[0m\n",
            "\u001b[?25hDownloading nvidia_nvtx_cu11-11.7.91-py3-none-manylinux1_x86_64.whl (98 kB)\n",
            "\u001b[2K   \u001b[90m━━━━━━━━━━━━━━━━━━━━━━━━━━━━━━━━━━━━━━━━\u001b[0m \u001b[32m98.6/98.6 kB\u001b[0m \u001b[31m9.2 MB/s\u001b[0m eta \u001b[36m0:00:00\u001b[0m\n",
            "\u001b[?25hDownloading torchdata-0.6.0-cp310-cp310-manylinux_2_17_x86_64.manylinux2014_x86_64.whl (4.6 MB)\n",
            "\u001b[2K   \u001b[90m━━━━━━━━━━━━━━━━━━━━━━━━━━━━━━━━━━━━━━━━\u001b[0m \u001b[32m4.6/4.6 MB\u001b[0m \u001b[31m33.6 MB/s\u001b[0m eta \u001b[36m0:00:00\u001b[0m\n",
            "\u001b[?25hDownloading triton-2.0.0-1-cp310-cp310-manylinux2014_x86_64.manylinux_2_17_x86_64.whl (63.3 MB)\n",
            "\u001b[2K   \u001b[90m━━━━━━━━━━━━━━━━━━━━━━━━━━━━━━━━━━━━━━━━\u001b[0m \u001b[32m63.3/63.3 MB\u001b[0m \u001b[31m12.1 MB/s\u001b[0m eta \u001b[36m0:00:00\u001b[0m\n",
            "\u001b[?25hDownloading lit-18.1.8-py3-none-any.whl (96 kB)\n",
            "\u001b[2K   \u001b[90m━━━━━━━━━━━━━━━━━━━━━━━━━━━━━━━━━━━━━━━━\u001b[0m \u001b[32m96.4/96.4 kB\u001b[0m \u001b[31m9.2 MB/s\u001b[0m eta \u001b[36m0:00:00\u001b[0m\n",
            "\u001b[?25h\u001b[33mWARNING: Ignoring invalid distribution -orch (/usr/local/lib/python3.10/dist-packages)\u001b[0m\u001b[33m\n",
            "\u001b[0mInstalling collected packages: lit, nvidia-nvtx-cu11, nvidia-nccl-cu11, nvidia-cusparse-cu11, nvidia-curand-cu11, nvidia-cufft-cu11, nvidia-cuda-runtime-cu11, nvidia-cuda-nvrtc-cu11, nvidia-cuda-cupti-cu11, nvidia-cublas-cu11, nvidia-cusolver-cu11, nvidia-cudnn-cu11, triton, torch, torchdata, torchtext\n",
            "  Attempting uninstall: triton\n",
            "    Found existing installation: triton 3.0.0\n",
            "    Uninstalling triton-3.0.0:\n",
            "      Successfully uninstalled triton-3.0.0\n",
            "  Attempting uninstall: torch\n",
            "    Found existing installation: torch 2.4.0\n",
            "    Uninstalling torch-2.4.0:\n",
            "      Successfully uninstalled torch-2.4.0\n",
            "  Attempting uninstall: torchdata\n",
            "    Found existing installation: torchdata 0.8.0\n",
            "    Uninstalling torchdata-0.8.0:\n",
            "      Successfully uninstalled torchdata-0.8.0\n",
            "  Attempting uninstall: torchtext\n",
            "    Found existing installation: torchtext 0.18.0\n",
            "    Uninstalling torchtext-0.18.0:\n",
            "      Successfully uninstalled torchtext-0.18.0\n",
            "\u001b[31mERROR: pip's dependency resolver does not currently take into account all the packages that are installed. This behaviour is the source of the following dependency conflicts.\n",
            "torchaudio 2.4.0+cu121 requires torch==2.4.0, but you have torch 2.0.0 which is incompatible.\n",
            "torchvision 0.19.0+cu121 requires torch==2.4.0, but you have torch 2.0.0 which is incompatible.\u001b[0m\u001b[31m\n",
            "\u001b[0mSuccessfully installed lit-18.1.8 nvidia-cublas-cu11-11.10.3.66 nvidia-cuda-cupti-cu11-11.7.101 nvidia-cuda-nvrtc-cu11-11.7.99 nvidia-cuda-runtime-cu11-11.7.99 nvidia-cudnn-cu11-8.5.0.96 nvidia-cufft-cu11-10.9.0.58 nvidia-curand-cu11-10.2.10.91 nvidia-cusolver-cu11-11.4.0.1 nvidia-cusparse-cu11-11.7.4.91 nvidia-nccl-cu11-2.14.3 nvidia-nvtx-cu11-11.7.91 torch-2.0.0 torchdata-0.6.0 torchtext-0.15.1 triton-2.0.0\n"
          ]
        },
        {
          "data": {
            "application/vnd.colab-display-data+json": {
              "id": "e780ad1ffa4b4d4f96ede6600ad5f5da",
              "pip_warning": {
                "packages": [
                  "torch",
                  "torchgen"
                ]
              }
            }
          },
          "metadata": {},
          "output_type": "display_data"
        }
      ],
      "source": [
        "pip install torch==2.0.0 torchtext==0.15.1"
      ]
    },
    {
      "cell_type": "code",
      "execution_count": 1,
      "metadata": {
        "id": "orscGBRCTkV2"
      },
      "outputs": [],
      "source": [
        "import os\n",
        "from functools import partial\n",
        "from typing import Union, Tuple\n",
        "\n",
        "from torchtext._internal.module_utils import is_module_available\n",
        "from torchtext.data.datasets_utils import (\n",
        "    _wrap_split_argument,\n",
        "    _create_dataset_directory,\n",
        ")\n",
        "\n",
        "URL = \"https://huggingface.co/Ayushkm10/SpeechToText/resolve/main/text2.zip\"\n",
        "\n",
        "\n",
        "NUM_LINES = {\n",
        "    \"train\": 36718,\n",
        "    \"valid\": 3760,\n",
        "}\n",
        "\n",
        "DATASET_NAME = \"WikiText2\"\n",
        "\n",
        "_EXTRACTED_FILES = {\n",
        "    \"train\": os.path.join(\"wikitext-2\", \"wiki.train.tokens\"),\n",
        "    \"test\": os.path.join(\"wikitext-2\", \"wiki.test.tokens\"),\n",
        "    \"valid\": os.path.join(\"wikitext-2\", \"wiki.valid.tokens\"),\n",
        "}\n",
        "\n",
        "\n",
        "def _filepath_fn(root, _=None):\n",
        "    return os.path.join(root, os.path.basename(URL))\n",
        "\n",
        "\n",
        "def _extracted_filepath_fn(root, split, _=None):\n",
        "    return os.path.join(root, _EXTRACTED_FILES[split])\n",
        "\n",
        "\n",
        "def _filter_fn(split, x):\n",
        "    return _EXTRACTED_FILES[split] in x[0]\n",
        "\n",
        "\n",
        "def WikiText21(root: str, split: Union[Tuple[str], str]):\n",
        "    \"\"\"WikiText2 Dataset\n",
        "\n",
        "    .. warning::\n",
        "\n",
        "        using datapipes is still currently subject to a few caveats. if you wish\n",
        "        to use this dataset with shuffling, multi-processing, or distributed\n",
        "        learning, please see :ref:`this note <datapipes_warnings>` for further\n",
        "        instructions.\n",
        "\n",
        "    For additional details refer to https://blog.salesforceairesearch.com/the-wikitext-long-term-dependency-language-modeling-dataset/\n",
        "\n",
        "    Number of lines per split:\n",
        "        - train: 36718\n",
        "        - valid: 3760\n",
        "        - test: 4358\n",
        "\n",
        "    Args:\n",
        "        root: Directory where the datasets are saved. Default: os.path.expanduser('~/.torchtext/cache')\n",
        "        split: split or splits to be returned. Can be a string or tuple of strings. Default: (`train`, `valid`, `test`)\n",
        "\n",
        "    :returns: DataPipe that yields text from Wikipedia articles\n",
        "    :rtype: str\n",
        "    \"\"\"\n",
        "    if not is_module_available(\"torchdata\"):\n",
        "        raise ModuleNotFoundError(\n",
        "            \"Package `torchdata` not found. Please install following instructions at https://github.com/pytorch/data\"\n",
        "        )\n",
        "    from torchdata.datapipes.iter import FileOpener, GDriveReader, HttpReader, IterableWrapper  # noqa\n",
        "\n",
        "    url_dp = IterableWrapper([URL])\n",
        "    # cache data on-disk\n",
        "    cache_compressed_dp = url_dp.on_disk_cache(\n",
        "        filepath_fn=partial(_filepath_fn, root),\n",
        "    )\n",
        "    cache_compressed_dp = HttpReader(cache_compressed_dp).end_caching(mode=\"wb\", same_filepath_fn=True)\n",
        "    cache_decompressed_dp = cache_compressed_dp.on_disk_cache(filepath_fn=partial(_extracted_filepath_fn, root, split))\n",
        "    # Extract zip and filter the appropriate split file\n",
        "    cache_decompressed_dp = (\n",
        "        FileOpener(cache_decompressed_dp, mode=\"b\").load_from_zip().filter(partial(_filter_fn, split))\n",
        "    )\n",
        "    cache_decompressed_dp = cache_decompressed_dp.end_caching(mode=\"wb\", same_filepath_fn=True)\n",
        "    data_dp = FileOpener(cache_decompressed_dp, encoding=\"utf-8\")\n",
        "    return data_dp.readlines(strip_newline=False, return_path=False).shuffle().set_shuffle(False).sharding_filter()"
      ]
    },
    {
      "cell_type": "code",
      "execution_count": 2,
      "metadata": {
        "id": "w2gDnRDfTkV3"
      },
      "outputs": [],
      "source": [
        "from torchtext.data import get_tokenizer, to_map_style_dataset\n",
        "from torchtext.datasets import WikiText2\n",
        "from torchtext.vocab import build_vocab_from_iterator\n",
        "from torch.utils.data import DataLoader, Dataset\n",
        "\n",
        "MIN_WORD_FREQ = 5\n",
        "CONTEXT_LEN = 2\n",
        "MAX_SEQ_LEN = 150\n",
        "\n",
        "class TextDataset(Dataset):\n",
        "\n",
        "    def __init__(self, file_path):\n",
        "        with open(file_path, 'r') as f:\n",
        "            self.texts = f.readlines()\n",
        "\n",
        "    def __len__(self):\n",
        "        return len(self.texts)\n",
        "\n",
        "    def __getitem__(self, idx):\n",
        "        return self.texts[idx].strip()\n",
        "\n",
        "def get_data_iterator(ds_type, data_dir):\n",
        "    file_path = f\"{data_dir}/{ds_type}.txt\"\n",
        "    dataset = TextDataset(file_path)\n",
        "    return dataset\n",
        "\n",
        "def build_vocab(data_iter, tokenizer):\n",
        "    vocab = build_vocab_from_iterator(map(tokenizer, data_iter), specials=[\"<unk>\"],\n",
        "                                      min_freq=MIN_WORD_FREQ)\n",
        "\n",
        "    vocab.set_default_index(vocab[\"<unk>\"])\n",
        "    return vocab"
      ]
    },
    {
      "cell_type": "code",
      "execution_count": 3,
      "metadata": {
        "id": "E6HrKPY7TkV3"
      },
      "outputs": [],
      "source": [
        "import torch\n",
        "import torch.nn as nn\n",
        "\n",
        "def collate(batch, text_pipeline):\n",
        "    batch_in, batch_out = [], []\n",
        "\n",
        "    for text in batch:\n",
        "        tokens = text_pipeline(text)\n",
        "        if len(tokens) < CONTEXT_LEN * 2 + 1:# Context length on both sides\n",
        "            continue\n",
        "\n",
        "        if MAX_SEQ_LEN > 0:\n",
        "            tokens = tokens[:MAX_SEQ_LEN]\n",
        "\n",
        "        for i in range(len(tokens) - CONTEXT_LEN * 2):\n",
        "            context = tokens[i:i + CONTEXT_LEN * 2 + 1]\n",
        "            input = context.pop(CONTEXT_LEN)\n",
        "            outputs = context\n",
        "\n",
        "            for output in outputs:\n",
        "                batch_in.append(input)\n",
        "                batch_out.append(output)\n",
        "\n",
        "    batch_in = torch.tensor(batch_in, dtype=torch.long)\n",
        "    batch_out = torch.tensor(batch_out, dtype=torch.long)\n",
        "\n",
        "    return batch_in, batch_out"
      ]
    },
    {
      "cell_type": "code",
      "execution_count": 4,
      "metadata": {
        "id": "L9pl4ngTTkV3"
      },
      "outputs": [],
      "source": [
        "from functools import partial\n",
        "\n",
        "def get_dataloader_vocab(ds_type, data_dir, batch_size, shuffle=True, vocab=None):\n",
        "\n",
        "    data_iter = get_data_iterator(ds_type, data_dir)\n",
        "    tokenizer = get_tokenizer(\"basic_english\")\n",
        "\n",
        "    if vocab is None:\n",
        "        vocab = build_vocab(data_iter, tokenizer)\n",
        "    text_pipeline = lambda x: vocab(tokenizer(x))\n",
        "\n",
        "    dataloader = DataLoader(data_iter, batch_size=batch_size, shuffle=shuffle,\n",
        "                            collate_fn=partial(collate, text_pipeline=text_pipeline))\n",
        "\n",
        "    return dataloader, vocab"
      ]
    },
    {
      "cell_type": "code",
      "execution_count": 34,
      "metadata": {
        "id": "i_jgHkYuTkV3"
      },
      "outputs": [],
      "source": [
        "\n",
        "class Skipgram(nn.Module):\n",
        "    def __init__(self, vocab_size, embed_size):\n",
        "        super().__init__()\n",
        "        self.embed = nn.Embedding(vocab_size, embed_size)\n",
        "        self.linear = nn.Linear(embed_size, vocab_size)\n",
        "\n",
        "    def forward(self, x):\n",
        "        x = self.embed(x)\n",
        "        x = self.linear(x)\n",
        "        return x\n",
        "\n",
        "    def get_word_embedding(self):\n",
        "        embed_data = self.embed.weight.data.cpu().numpy()\n",
        "        normalized_embed_data = embed_data / np.linalg.norm(embed_data, axis=1)[:, None]\n",
        "\n",
        "        return normalized_embed_data"
      ]
    },
    {
      "cell_type": "code",
      "execution_count": 36,
      "metadata": {
        "id": "enktHZeVTkV4"
      },
      "outputs": [],
      "source": [
        "import json\n",
        "class Trainer:\n",
        "    def __init__(self, model, epochs, train_dl, valid_dl,\n",
        "                 criterion, optimizer, device, model_dir, model_name):\n",
        "\n",
        "        self.model = model\n",
        "        self.epochs = epochs\n",
        "        self.train_dl = train_dl\n",
        "        self.valid_dl = valid_dl\n",
        "        self.criterion = criterion\n",
        "        self.optimizer = optimizer\n",
        "        self.device = device\n",
        "        self.model_dir = model_dir\n",
        "        self.model_name = model_name\n",
        "\n",
        "        self.loss = { 'train': [], 'valid': [] }\n",
        "        self.model.to(device)\n",
        "\n",
        "    def train_epoch(self):\n",
        "        self.model.train()\n",
        "        total_loss = 0\n",
        "        for x, y in self.train_dl:\n",
        "            x, y = x.to(self.device), y.to(self.device)\n",
        "            self.optimizer.zero_grad()\n",
        "            output = self.model(x)\n",
        "            loss = self.criterion(output, y)\n",
        "            loss.backward()\n",
        "            self.optimizer.step()\n",
        "            total_loss += loss.item()\n",
        "\n",
        "        return total_loss / len(self.train_dl)\n",
        "\n",
        "    def valid_epoch(self):\n",
        "        self.model.eval()\n",
        "        total_loss = 0\n",
        "        with torch.no_grad():\n",
        "            for x, y in self.valid_dl:\n",
        "                x, y = x.to(self.device), y.to(self.device)\n",
        "                output = self.model(x)\n",
        "                loss = self.criterion(output, y)\n",
        "                total_loss += loss.item()\n",
        "\n",
        "        return total_loss / len(self.valid_dl)\n",
        "\n",
        "    def save_model(self):\n",
        "        torch.save(self.model.state_dict(), f\"{self.model_dir}/{self.model_name}.pt\")\n",
        "\n",
        "    def save_loss(self):\n",
        "        loss_path = os.path.join(self.model_dir, f\"{self.model_name}_loss.json\")\n",
        "        with open(loss_path, 'w') as f:\n",
        "            json.dump(self.loss, f)\n",
        "\n",
        "    def train(self):\n",
        "        for epoch in range(self.epochs):\n",
        "            train_loss = self.train_epoch()\n",
        "            valid_loss = self.valid_epoch()\n",
        "            self.loss['train'].append(train_loss)\n",
        "            self.loss['valid'].append(valid_loss)\n",
        "            print(f\"Epoch {epoch+1}/{self.epochs}: Train Loss: {train_loss:.4f}, Valid Loss: {valid_loss:.4f}\")\n",
        "\n",
        "        self.save_model()\n",
        "        self.save_loss()"
      ]
    },
    {
      "cell_type": "code",
      "execution_count": 116,
      "metadata": {
        "id": "PquL9VmETkV4"
      },
      "outputs": [],
      "source": [
        "# Setting Parameters\n",
        "model_name = \"skipgram\"\n",
        "data_dir = \"data\"\n",
        "train_batch_size = 32\n",
        "valid_batch_size = 32\n",
        "shuffle = True\n",
        "optimizer = torch.optim\n",
        "criterion = nn.CrossEntropyLoss()\n",
        "epochs = 100\n",
        "\n",
        "model_dir = \".\"\n",
        "EMBED_SIZE = 100"
      ]
    },
    {
      "cell_type": "code",
      "execution_count": 117,
      "metadata": {
        "colab": {
          "base_uri": "https://localhost:8080/"
        },
        "id": "kgGRi2E6TkV4",
        "outputId": "3afef28d-3ad0-4649-801e-382bd994f135"
      },
      "outputs": [
        {
          "name": "stdout",
          "output_type": "stream",
          "text": [
            "Vocab Size :  19538\n",
            "Epoch 1/100: Train Loss: 7.5782, Valid Loss: 6.5402\n",
            "Epoch 2/100: Train Loss: 6.6319, Valid Loss: 6.3370\n",
            "Epoch 3/100: Train Loss: 6.4855, Valid Loss: 6.2820\n",
            "Epoch 4/100: Train Loss: 6.4170, Valid Loss: 6.2609\n",
            "Epoch 5/100: Train Loss: 6.3723, Valid Loss: 6.2517\n",
            "Epoch 6/100: Train Loss: 6.3366, Valid Loss: 6.2430\n",
            "Epoch 7/100: Train Loss: 6.3104, Valid Loss: 6.2328\n",
            "Epoch 8/100: Train Loss: 6.2872, Valid Loss: 6.2293\n",
            "Epoch 9/100: Train Loss: 6.2656, Valid Loss: 6.2233\n",
            "Epoch 10/100: Train Loss: 6.2447, Valid Loss: 6.2182\n",
            "Epoch 11/100: Train Loss: 6.2293, Valid Loss: 6.2158\n",
            "Epoch 12/100: Train Loss: 6.2148, Valid Loss: 6.2129\n",
            "Epoch 13/100: Train Loss: 6.1996, Valid Loss: 6.2133\n",
            "Epoch 14/100: Train Loss: 6.1863, Valid Loss: 6.2215\n",
            "Epoch 15/100: Train Loss: 6.1736, Valid Loss: 6.2159\n",
            "Epoch 16/100: Train Loss: 6.1619, Valid Loss: 6.2135\n",
            "Epoch 17/100: Train Loss: 6.1517, Valid Loss: 6.2131\n",
            "Epoch 18/100: Train Loss: 6.1401, Valid Loss: 6.2136\n",
            "Epoch 19/100: Train Loss: 6.1323, Valid Loss: 6.2136\n",
            "Epoch 20/100: Train Loss: 6.1218, Valid Loss: 6.2079\n",
            "Epoch 21/100: Train Loss: 6.1139, Valid Loss: 6.2129\n",
            "Epoch 22/100: Train Loss: 6.1048, Valid Loss: 6.2098\n",
            "Epoch 23/100: Train Loss: 6.0976, Valid Loss: 6.2102\n",
            "Epoch 24/100: Train Loss: 6.0906, Valid Loss: 6.2188\n",
            "Epoch 25/100: Train Loss: 6.0833, Valid Loss: 6.2140\n",
            "Epoch 26/100: Train Loss: 6.0758, Valid Loss: 6.2187\n",
            "Epoch 27/100: Train Loss: 6.0694, Valid Loss: 6.2171\n",
            "Epoch 28/100: Train Loss: 6.0646, Valid Loss: 6.2235\n",
            "Epoch 29/100: Train Loss: 6.0577, Valid Loss: 6.2137\n",
            "Epoch 30/100: Train Loss: 6.0521, Valid Loss: 6.2174\n",
            "Epoch 31/100: Train Loss: 6.0477, Valid Loss: 6.2300\n",
            "Epoch 32/100: Train Loss: 6.0425, Valid Loss: 6.2213\n",
            "Epoch 33/100: Train Loss: 6.0374, Valid Loss: 6.2188\n",
            "Epoch 34/100: Train Loss: 6.0309, Valid Loss: 6.2216\n",
            "Epoch 35/100: Train Loss: 6.0272, Valid Loss: 6.2283\n",
            "Epoch 36/100: Train Loss: 6.0213, Valid Loss: 6.2319\n",
            "Epoch 37/100: Train Loss: 6.0188, Valid Loss: 6.2293\n",
            "Epoch 38/100: Train Loss: 6.0131, Valid Loss: 6.2311\n",
            "Epoch 39/100: Train Loss: 6.0095, Valid Loss: 6.2287\n",
            "Epoch 40/100: Train Loss: 6.0053, Valid Loss: 6.2299\n",
            "Epoch 41/100: Train Loss: 6.0004, Valid Loss: 6.2281\n",
            "Epoch 42/100: Train Loss: 5.9973, Valid Loss: 6.2277\n",
            "Epoch 43/100: Train Loss: 5.9921, Valid Loss: 6.2339\n",
            "Epoch 44/100: Train Loss: 5.9902, Valid Loss: 6.2413\n",
            "Epoch 45/100: Train Loss: 5.9869, Valid Loss: 6.2393\n",
            "Epoch 46/100: Train Loss: 5.9836, Valid Loss: 6.2456\n",
            "Epoch 47/100: Train Loss: 5.9809, Valid Loss: 6.2448\n",
            "Epoch 48/100: Train Loss: 5.9765, Valid Loss: 6.2420\n",
            "Epoch 49/100: Train Loss: 5.9736, Valid Loss: 6.2502\n",
            "Epoch 50/100: Train Loss: 5.9720, Valid Loss: 6.2456\n",
            "Epoch 51/100: Train Loss: 5.9682, Valid Loss: 6.2485\n",
            "Epoch 52/100: Train Loss: 5.9654, Valid Loss: 6.2548\n",
            "Epoch 53/100: Train Loss: 5.9617, Valid Loss: 6.2571\n",
            "Epoch 54/100: Train Loss: 5.9599, Valid Loss: 6.2532\n",
            "Epoch 55/100: Train Loss: 5.9562, Valid Loss: 6.2572\n",
            "Epoch 56/100: Train Loss: 5.9538, Valid Loss: 6.2589\n",
            "Epoch 57/100: Train Loss: 5.9514, Valid Loss: 6.2544\n",
            "Epoch 58/100: Train Loss: 5.9493, Valid Loss: 6.2584\n",
            "Epoch 59/100: Train Loss: 5.9466, Valid Loss: 6.2662\n",
            "Epoch 60/100: Train Loss: 5.9443, Valid Loss: 6.2647\n",
            "Epoch 61/100: Train Loss: 5.9418, Valid Loss: 6.2693\n",
            "Epoch 62/100: Train Loss: 5.9393, Valid Loss: 6.2594\n",
            "Epoch 63/100: Train Loss: 5.9384, Valid Loss: 6.2610\n",
            "Epoch 64/100: Train Loss: 5.9352, Valid Loss: 6.2705\n",
            "Epoch 65/100: Train Loss: 5.9336, Valid Loss: 6.2716\n",
            "Epoch 66/100: Train Loss: 5.9323, Valid Loss: 6.2672\n",
            "Epoch 67/100: Train Loss: 5.9304, Valid Loss: 6.2748\n",
            "Epoch 68/100: Train Loss: 5.9291, Valid Loss: 6.2665\n",
            "Epoch 69/100: Train Loss: 5.9252, Valid Loss: 6.2788\n",
            "Epoch 70/100: Train Loss: 5.9243, Valid Loss: 6.2675\n",
            "Epoch 71/100: Train Loss: 5.9226, Valid Loss: 6.2752\n",
            "Epoch 72/100: Train Loss: 5.9208, Valid Loss: 6.2832\n",
            "Epoch 73/100: Train Loss: 5.9185, Valid Loss: 6.2795\n",
            "Epoch 74/100: Train Loss: 5.9168, Valid Loss: 6.2827\n",
            "Epoch 75/100: Train Loss: 5.9157, Valid Loss: 6.2809\n",
            "Epoch 76/100: Train Loss: 5.9137, Valid Loss: 6.2873\n",
            "Epoch 77/100: Train Loss: 5.9120, Valid Loss: 6.2921\n",
            "Epoch 78/100: Train Loss: 5.9108, Valid Loss: 6.2890\n",
            "Epoch 79/100: Train Loss: 5.9081, Valid Loss: 6.2935\n",
            "Epoch 80/100: Train Loss: 5.9078, Valid Loss: 6.2902\n",
            "Epoch 81/100: Train Loss: 5.9056, Valid Loss: 6.2888\n",
            "Epoch 82/100: Train Loss: 5.9036, Valid Loss: 6.2948\n",
            "Epoch 83/100: Train Loss: 5.9034, Valid Loss: 6.2931\n",
            "Epoch 84/100: Train Loss: 5.9007, Valid Loss: 6.2920\n",
            "Epoch 85/100: Train Loss: 5.8992, Valid Loss: 6.2927\n",
            "Epoch 86/100: Train Loss: 5.8986, Valid Loss: 6.2975\n",
            "Epoch 87/100: Train Loss: 5.8969, Valid Loss: 6.2946\n",
            "Epoch 88/100: Train Loss: 5.8959, Valid Loss: 6.2982\n",
            "Epoch 89/100: Train Loss: 5.8959, Valid Loss: 6.3084\n",
            "Epoch 90/100: Train Loss: 5.8929, Valid Loss: 6.2987\n",
            "Epoch 91/100: Train Loss: 5.8921, Valid Loss: 6.3057\n",
            "Epoch 92/100: Train Loss: 5.8909, Valid Loss: 6.3013\n",
            "Epoch 93/100: Train Loss: 5.8895, Valid Loss: 6.3082\n",
            "Epoch 94/100: Train Loss: 5.8881, Valid Loss: 6.3109\n",
            "Epoch 95/100: Train Loss: 5.8874, Valid Loss: 6.3142\n",
            "Epoch 96/100: Train Loss: 5.8861, Valid Loss: 6.3023\n",
            "Epoch 97/100: Train Loss: 5.8856, Valid Loss: 6.3157\n",
            "Epoch 98/100: Train Loss: 5.8843, Valid Loss: 6.3140\n",
            "Epoch 99/100: Train Loss: 5.8832, Valid Loss: 6.3173\n",
            "Epoch 100/100: Train Loss: 5.8821, Valid Loss: 6.3242\n",
            "Training Completed\n",
            "Vocab file saved ./skipgram_vocab.pt\n"
          ]
        }
      ],
      "source": [
        "# get_dataloader_vocab(ds_type, data_dir, batch_size, shuffle=True, vocab=None):\n",
        "train_dl, vocab = get_dataloader_vocab(\"train\", data_dir, train_batch_size, shuffle)\n",
        "valid_dl, _ = get_dataloader_vocab(\"valid\", data_dir, valid_batch_size, vocab=vocab)\n",
        "\n",
        "vocab_size = len(vocab.get_stoi())\n",
        "print(\"Vocab Size : \", vocab_size)\n",
        "\n",
        "model = Skipgram(vocab_size, EMBED_SIZE)\n",
        "optimizer = torch.optim.Adam(model.parameters())\n",
        "device = torch.device(\"cuda\" if torch.cuda.is_available() else \"cpu\")\n",
        "\n",
        "trainer = Trainer(model, epochs, train_dl, valid_dl, criterion, optimizer, device, model_dir, model_name)\n",
        "trainer.train()\n",
        "print(\"Training Completed\")\n",
        "\n",
        "vocab_path = os.path.join(model_dir, f\"{model_name}_vocab.pt\")\n",
        "torch.save(vocab, vocab_path)\n",
        "print(\"Vocab file saved\", vocab_path)"
      ]
    },
    {
      "cell_type": "markdown",
      "metadata": {
        "id": "Sp1s7vg5TkV5"
      },
      "source": [
        "### Analysis of performance of Skipgram model"
      ]
    },
    {
      "cell_type": "code",
      "execution_count": 118,
      "metadata": {
        "id": "BL1wUZOBcUhb"
      },
      "outputs": [],
      "source": [
        "import numpy as np\n",
        "import pandas as pd"
      ]
    },
    {
      "cell_type": "code",
      "execution_count": 119,
      "metadata": {
        "id": "wqQGL7QzTkV5"
      },
      "outputs": [],
      "source": [
        "#device = torch.device(\"cuda\" if torch.cuda.is_available() else \"cpu\")\n",
        "\n",
        "# model = torch.load(f\"{model_dir}/{model_name}.pt\", map_location=device)\n",
        "# vocab = torch.load(vocab_path)\n",
        "\n",
        "word_embedding = model.get_word_embedding()\n",
        "np.save(f\"{model_dir}/{model_name}_word_embedding.npy\", word_embedding)"
      ]
    },
    {
      "cell_type": "code",
      "execution_count": 120,
      "metadata": {
        "id": "cwzV4cURTkV5"
      },
      "outputs": [],
      "source": [
        "from sklearn.metrics.pairwise import cosine_similarity\n",
        "\n",
        "def get_similarity(words):\n",
        "    word_vectors = [word_embedding[vocab[word]] for word in words]\n",
        "    word_vectors = [w for w in word_vectors]\n",
        "\n",
        "    norm = np.linalg.norm(word_vectors, axis=1, keepdims=True)\n",
        "    normalized_word_vectors = word_vectors / norm\n",
        "\n",
        "    similarity_matrix = np.dot(normalized_word_vectors, normalized_word_vectors.T)\n",
        "\n",
        "    similarity = cosine_similarity(normalized_word_vectors)\n",
        "    return word_vectors, similarity\n"
      ]
    },
    {
      "cell_type": "code",
      "execution_count": 121,
      "metadata": {
        "colab": {
          "base_uri": "https://localhost:8080/",
          "height": 414
        },
        "id": "XOCjaUdcTkV5",
        "outputId": "4ac40d6e-9daa-49f4-b20e-6f18ce3857b5"
      },
      "outputs": [
        {
          "data": {
            "application/vnd.google.colaboratory.intrinsic+json": {
              "summary": "{\n  \"name\": \"df\",\n  \"rows\": 11,\n  \"fields\": [\n    {\n      \"column\": \"king\",\n      \"properties\": {\n        \"dtype\": \"float32\",\n        \"num_unique_values\": 11,\n        \"samples\": [\n          0.10251164436340332,\n          1.0,\n          0.14637167751789093\n        ],\n        \"semantic_type\": \"\",\n        \"description\": \"\"\n      }\n    },\n    {\n      \"column\": \"queen\",\n      \"properties\": {\n        \"dtype\": \"float32\",\n        \"num_unique_values\": 11,\n        \"samples\": [\n          0.19177556037902832,\n          0.29765239357948303,\n          0.20615117251873016\n        ],\n        \"semantic_type\": \"\",\n        \"description\": \"\"\n      }\n    },\n    {\n      \"column\": \"river\",\n      \"properties\": {\n        \"dtype\": \"float32\",\n        \"num_unique_values\": 11,\n        \"samples\": [\n          0.15019169449806213,\n          0.08619159460067749,\n          0.10962522029876709\n        ],\n        \"semantic_type\": \"\",\n        \"description\": \"\"\n      }\n    },\n    {\n      \"column\": \"water\",\n      \"properties\": {\n        \"dtype\": \"float32\",\n        \"num_unique_values\": 11,\n        \"samples\": [\n          0.009206620045006275,\n          -0.0028883614577353,\n          0.04612335190176964\n        ],\n        \"semantic_type\": \"\",\n        \"description\": \"\"\n      }\n    },\n    {\n      \"column\": \"ocean\",\n      \"properties\": {\n        \"dtype\": \"float32\",\n        \"num_unique_values\": 11,\n        \"samples\": [\n          -0.03497985377907753,\n          0.04963368922472,\n          -0.021621372550725937\n        ],\n        \"semantic_type\": \"\",\n        \"description\": \"\"\n      }\n    },\n    {\n      \"column\": \"tree\",\n      \"properties\": {\n        \"dtype\": \"float32\",\n        \"num_unique_values\": 11,\n        \"samples\": [\n          1.0000001192092896,\n          0.10251164436340332,\n          -0.06014478579163551\n        ],\n        \"semantic_type\": \"\",\n        \"description\": \"\"\n      }\n    },\n    {\n      \"column\": \"plant\",\n      \"properties\": {\n        \"dtype\": \"float32\",\n        \"num_unique_values\": 11,\n        \"samples\": [\n          0.07360640913248062,\n          0.01196275930851698,\n          0.029675038531422615\n        ],\n        \"semantic_type\": \"\",\n        \"description\": \"\"\n      }\n    },\n    {\n      \"column\": \"happy\",\n      \"properties\": {\n        \"dtype\": \"float32\",\n        \"num_unique_values\": 11,\n        \"samples\": [\n          0.15817800164222717,\n          0.22284670174121857,\n          -0.0369294248521328\n        ],\n        \"semantic_type\": \"\",\n        \"description\": \"\"\n      }\n    },\n    {\n      \"column\": \"glad\",\n      \"properties\": {\n        \"dtype\": \"float32\",\n        \"num_unique_values\": 11,\n        \"samples\": [\n          -0.04697873815894127,\n          -0.05598737671971321,\n          0.06254250556230545\n        ],\n        \"semantic_type\": \"\",\n        \"description\": \"\"\n      }\n    },\n    {\n      \"column\": \"mother\",\n      \"properties\": {\n        \"dtype\": \"float32\",\n        \"num_unique_values\": 11,\n        \"samples\": [\n          -0.06014478579163551,\n          0.14637167751789093,\n          1.0000003576278687\n        ],\n        \"semantic_type\": \"\",\n        \"description\": \"\"\n      }\n    },\n    {\n      \"column\": \"daughter\",\n      \"properties\": {\n        \"dtype\": \"float32\",\n        \"num_unique_values\": 11,\n        \"samples\": [\n          -0.006374185439199209,\n          0.1428101658821106,\n          0.2508929967880249\n        ],\n        \"semantic_type\": \"\",\n        \"description\": \"\"\n      }\n    }\n  ]\n}",
              "type": "dataframe",
              "variable_name": "df"
            },
            "text/html": [
              "\n",
              "  <div id=\"df-c2bb8a62-d50f-474a-b41f-872f864a0e6a\" class=\"colab-df-container\">\n",
              "    <div>\n",
              "<style scoped>\n",
              "    .dataframe tbody tr th:only-of-type {\n",
              "        vertical-align: middle;\n",
              "    }\n",
              "\n",
              "    .dataframe tbody tr th {\n",
              "        vertical-align: top;\n",
              "    }\n",
              "\n",
              "    .dataframe thead th {\n",
              "        text-align: right;\n",
              "    }\n",
              "</style>\n",
              "<table border=\"1\" class=\"dataframe\">\n",
              "  <thead>\n",
              "    <tr style=\"text-align: right;\">\n",
              "      <th></th>\n",
              "      <th>king</th>\n",
              "      <th>queen</th>\n",
              "      <th>river</th>\n",
              "      <th>water</th>\n",
              "      <th>ocean</th>\n",
              "      <th>tree</th>\n",
              "      <th>plant</th>\n",
              "      <th>happy</th>\n",
              "      <th>glad</th>\n",
              "      <th>mother</th>\n",
              "      <th>daughter</th>\n",
              "    </tr>\n",
              "  </thead>\n",
              "  <tbody>\n",
              "    <tr>\n",
              "      <th>king</th>\n",
              "      <td>1.000000</td>\n",
              "      <td>0.297652</td>\n",
              "      <td>0.086192</td>\n",
              "      <td>-0.002888</td>\n",
              "      <td>0.049634</td>\n",
              "      <td>0.102512</td>\n",
              "      <td>0.011963</td>\n",
              "      <td>0.222847</td>\n",
              "      <td>-0.055987</td>\n",
              "      <td>0.146372</td>\n",
              "      <td>0.142810</td>\n",
              "    </tr>\n",
              "    <tr>\n",
              "      <th>queen</th>\n",
              "      <td>0.297652</td>\n",
              "      <td>1.000000</td>\n",
              "      <td>0.076086</td>\n",
              "      <td>-0.210278</td>\n",
              "      <td>-0.125153</td>\n",
              "      <td>0.191776</td>\n",
              "      <td>-0.044069</td>\n",
              "      <td>0.104617</td>\n",
              "      <td>0.009620</td>\n",
              "      <td>0.206151</td>\n",
              "      <td>0.289875</td>\n",
              "    </tr>\n",
              "    <tr>\n",
              "      <th>river</th>\n",
              "      <td>0.086192</td>\n",
              "      <td>0.076086</td>\n",
              "      <td>1.000000</td>\n",
              "      <td>-0.027220</td>\n",
              "      <td>0.053040</td>\n",
              "      <td>0.150192</td>\n",
              "      <td>0.078402</td>\n",
              "      <td>-0.018225</td>\n",
              "      <td>-0.051179</td>\n",
              "      <td>0.109625</td>\n",
              "      <td>0.104886</td>\n",
              "    </tr>\n",
              "    <tr>\n",
              "      <th>water</th>\n",
              "      <td>-0.002888</td>\n",
              "      <td>-0.210278</td>\n",
              "      <td>-0.027220</td>\n",
              "      <td>1.000000</td>\n",
              "      <td>0.273973</td>\n",
              "      <td>0.009207</td>\n",
              "      <td>0.225814</td>\n",
              "      <td>-0.042162</td>\n",
              "      <td>0.057715</td>\n",
              "      <td>0.046123</td>\n",
              "      <td>0.054425</td>\n",
              "    </tr>\n",
              "    <tr>\n",
              "      <th>ocean</th>\n",
              "      <td>0.049634</td>\n",
              "      <td>-0.125153</td>\n",
              "      <td>0.053040</td>\n",
              "      <td>0.273973</td>\n",
              "      <td>1.000000</td>\n",
              "      <td>-0.034980</td>\n",
              "      <td>-0.119094</td>\n",
              "      <td>-0.138707</td>\n",
              "      <td>0.039078</td>\n",
              "      <td>-0.021621</td>\n",
              "      <td>-0.114652</td>\n",
              "    </tr>\n",
              "    <tr>\n",
              "      <th>tree</th>\n",
              "      <td>0.102512</td>\n",
              "      <td>0.191776</td>\n",
              "      <td>0.150192</td>\n",
              "      <td>0.009207</td>\n",
              "      <td>-0.034980</td>\n",
              "      <td>1.000000</td>\n",
              "      <td>0.073606</td>\n",
              "      <td>0.158178</td>\n",
              "      <td>-0.046979</td>\n",
              "      <td>-0.060145</td>\n",
              "      <td>-0.006374</td>\n",
              "    </tr>\n",
              "    <tr>\n",
              "      <th>plant</th>\n",
              "      <td>0.011963</td>\n",
              "      <td>-0.044069</td>\n",
              "      <td>0.078402</td>\n",
              "      <td>0.225814</td>\n",
              "      <td>-0.119094</td>\n",
              "      <td>0.073606</td>\n",
              "      <td>1.000000</td>\n",
              "      <td>-0.032019</td>\n",
              "      <td>0.096255</td>\n",
              "      <td>0.029675</td>\n",
              "      <td>0.113908</td>\n",
              "    </tr>\n",
              "    <tr>\n",
              "      <th>happy</th>\n",
              "      <td>0.222847</td>\n",
              "      <td>0.104617</td>\n",
              "      <td>-0.018225</td>\n",
              "      <td>-0.042162</td>\n",
              "      <td>-0.138707</td>\n",
              "      <td>0.158178</td>\n",
              "      <td>-0.032019</td>\n",
              "      <td>1.000000</td>\n",
              "      <td>-0.016747</td>\n",
              "      <td>-0.036929</td>\n",
              "      <td>0.181766</td>\n",
              "    </tr>\n",
              "    <tr>\n",
              "      <th>glad</th>\n",
              "      <td>-0.055987</td>\n",
              "      <td>0.009620</td>\n",
              "      <td>-0.051179</td>\n",
              "      <td>0.057715</td>\n",
              "      <td>0.039078</td>\n",
              "      <td>-0.046979</td>\n",
              "      <td>0.096255</td>\n",
              "      <td>-0.016747</td>\n",
              "      <td>1.000000</td>\n",
              "      <td>0.062543</td>\n",
              "      <td>0.095835</td>\n",
              "    </tr>\n",
              "    <tr>\n",
              "      <th>mother</th>\n",
              "      <td>0.146372</td>\n",
              "      <td>0.206151</td>\n",
              "      <td>0.109625</td>\n",
              "      <td>0.046123</td>\n",
              "      <td>-0.021621</td>\n",
              "      <td>-0.060145</td>\n",
              "      <td>0.029675</td>\n",
              "      <td>-0.036929</td>\n",
              "      <td>0.062543</td>\n",
              "      <td>1.000000</td>\n",
              "      <td>0.250893</td>\n",
              "    </tr>\n",
              "    <tr>\n",
              "      <th>daughter</th>\n",
              "      <td>0.142810</td>\n",
              "      <td>0.289875</td>\n",
              "      <td>0.104886</td>\n",
              "      <td>0.054425</td>\n",
              "      <td>-0.114652</td>\n",
              "      <td>-0.006374</td>\n",
              "      <td>0.113908</td>\n",
              "      <td>0.181766</td>\n",
              "      <td>0.095835</td>\n",
              "      <td>0.250893</td>\n",
              "      <td>1.000000</td>\n",
              "    </tr>\n",
              "  </tbody>\n",
              "</table>\n",
              "</div>\n",
              "    <div class=\"colab-df-buttons\">\n",
              "\n",
              "  <div class=\"colab-df-container\">\n",
              "    <button class=\"colab-df-convert\" onclick=\"convertToInteractive('df-c2bb8a62-d50f-474a-b41f-872f864a0e6a')\"\n",
              "            title=\"Convert this dataframe to an interactive table.\"\n",
              "            style=\"display:none;\">\n",
              "\n",
              "  <svg xmlns=\"http://www.w3.org/2000/svg\" height=\"24px\" viewBox=\"0 -960 960 960\">\n",
              "    <path d=\"M120-120v-720h720v720H120Zm60-500h600v-160H180v160Zm220 220h160v-160H400v160Zm0 220h160v-160H400v160ZM180-400h160v-160H180v160Zm440 0h160v-160H620v160ZM180-180h160v-160H180v160Zm440 0h160v-160H620v160Z\"/>\n",
              "  </svg>\n",
              "    </button>\n",
              "\n",
              "  <style>\n",
              "    .colab-df-container {\n",
              "      display:flex;\n",
              "      gap: 12px;\n",
              "    }\n",
              "\n",
              "    .colab-df-convert {\n",
              "      background-color: #E8F0FE;\n",
              "      border: none;\n",
              "      border-radius: 50%;\n",
              "      cursor: pointer;\n",
              "      display: none;\n",
              "      fill: #1967D2;\n",
              "      height: 32px;\n",
              "      padding: 0 0 0 0;\n",
              "      width: 32px;\n",
              "    }\n",
              "\n",
              "    .colab-df-convert:hover {\n",
              "      background-color: #E2EBFA;\n",
              "      box-shadow: 0px 1px 2px rgba(60, 64, 67, 0.3), 0px 1px 3px 1px rgba(60, 64, 67, 0.15);\n",
              "      fill: #174EA6;\n",
              "    }\n",
              "\n",
              "    .colab-df-buttons div {\n",
              "      margin-bottom: 4px;\n",
              "    }\n",
              "\n",
              "    [theme=dark] .colab-df-convert {\n",
              "      background-color: #3B4455;\n",
              "      fill: #D2E3FC;\n",
              "    }\n",
              "\n",
              "    [theme=dark] .colab-df-convert:hover {\n",
              "      background-color: #434B5C;\n",
              "      box-shadow: 0px 1px 3px 1px rgba(0, 0, 0, 0.15);\n",
              "      filter: drop-shadow(0px 1px 2px rgba(0, 0, 0, 0.3));\n",
              "      fill: #FFFFFF;\n",
              "    }\n",
              "  </style>\n",
              "\n",
              "    <script>\n",
              "      const buttonEl =\n",
              "        document.querySelector('#df-c2bb8a62-d50f-474a-b41f-872f864a0e6a button.colab-df-convert');\n",
              "      buttonEl.style.display =\n",
              "        google.colab.kernel.accessAllowed ? 'block' : 'none';\n",
              "\n",
              "      async function convertToInteractive(key) {\n",
              "        const element = document.querySelector('#df-c2bb8a62-d50f-474a-b41f-872f864a0e6a');\n",
              "        const dataTable =\n",
              "          await google.colab.kernel.invokeFunction('convertToInteractive',\n",
              "                                                    [key], {});\n",
              "        if (!dataTable) return;\n",
              "\n",
              "        const docLinkHtml = 'Like what you see? Visit the ' +\n",
              "          '<a target=\"_blank\" href=https://colab.research.google.com/notebooks/data_table.ipynb>data table notebook</a>'\n",
              "          + ' to learn more about interactive tables.';\n",
              "        element.innerHTML = '';\n",
              "        dataTable['output_type'] = 'display_data';\n",
              "        await google.colab.output.renderOutput(dataTable, element);\n",
              "        const docLink = document.createElement('div');\n",
              "        docLink.innerHTML = docLinkHtml;\n",
              "        element.appendChild(docLink);\n",
              "      }\n",
              "    </script>\n",
              "  </div>\n",
              "\n",
              "\n",
              "<div id=\"df-f002a8f7-4c67-4be2-9807-20159a871d2e\">\n",
              "  <button class=\"colab-df-quickchart\" onclick=\"quickchart('df-f002a8f7-4c67-4be2-9807-20159a871d2e')\"\n",
              "            title=\"Suggest charts\"\n",
              "            style=\"display:none;\">\n",
              "\n",
              "<svg xmlns=\"http://www.w3.org/2000/svg\" height=\"24px\"viewBox=\"0 0 24 24\"\n",
              "     width=\"24px\">\n",
              "    <g>\n",
              "        <path d=\"M19 3H5c-1.1 0-2 .9-2 2v14c0 1.1.9 2 2 2h14c1.1 0 2-.9 2-2V5c0-1.1-.9-2-2-2zM9 17H7v-7h2v7zm4 0h-2V7h2v10zm4 0h-2v-4h2v4z\"/>\n",
              "    </g>\n",
              "</svg>\n",
              "  </button>\n",
              "\n",
              "<style>\n",
              "  .colab-df-quickchart {\n",
              "      --bg-color: #E8F0FE;\n",
              "      --fill-color: #1967D2;\n",
              "      --hover-bg-color: #E2EBFA;\n",
              "      --hover-fill-color: #174EA6;\n",
              "      --disabled-fill-color: #AAA;\n",
              "      --disabled-bg-color: #DDD;\n",
              "  }\n",
              "\n",
              "  [theme=dark] .colab-df-quickchart {\n",
              "      --bg-color: #3B4455;\n",
              "      --fill-color: #D2E3FC;\n",
              "      --hover-bg-color: #434B5C;\n",
              "      --hover-fill-color: #FFFFFF;\n",
              "      --disabled-bg-color: #3B4455;\n",
              "      --disabled-fill-color: #666;\n",
              "  }\n",
              "\n",
              "  .colab-df-quickchart {\n",
              "    background-color: var(--bg-color);\n",
              "    border: none;\n",
              "    border-radius: 50%;\n",
              "    cursor: pointer;\n",
              "    display: none;\n",
              "    fill: var(--fill-color);\n",
              "    height: 32px;\n",
              "    padding: 0;\n",
              "    width: 32px;\n",
              "  }\n",
              "\n",
              "  .colab-df-quickchart:hover {\n",
              "    background-color: var(--hover-bg-color);\n",
              "    box-shadow: 0 1px 2px rgba(60, 64, 67, 0.3), 0 1px 3px 1px rgba(60, 64, 67, 0.15);\n",
              "    fill: var(--button-hover-fill-color);\n",
              "  }\n",
              "\n",
              "  .colab-df-quickchart-complete:disabled,\n",
              "  .colab-df-quickchart-complete:disabled:hover {\n",
              "    background-color: var(--disabled-bg-color);\n",
              "    fill: var(--disabled-fill-color);\n",
              "    box-shadow: none;\n",
              "  }\n",
              "\n",
              "  .colab-df-spinner {\n",
              "    border: 2px solid var(--fill-color);\n",
              "    border-color: transparent;\n",
              "    border-bottom-color: var(--fill-color);\n",
              "    animation:\n",
              "      spin 1s steps(1) infinite;\n",
              "  }\n",
              "\n",
              "  @keyframes spin {\n",
              "    0% {\n",
              "      border-color: transparent;\n",
              "      border-bottom-color: var(--fill-color);\n",
              "      border-left-color: var(--fill-color);\n",
              "    }\n",
              "    20% {\n",
              "      border-color: transparent;\n",
              "      border-left-color: var(--fill-color);\n",
              "      border-top-color: var(--fill-color);\n",
              "    }\n",
              "    30% {\n",
              "      border-color: transparent;\n",
              "      border-left-color: var(--fill-color);\n",
              "      border-top-color: var(--fill-color);\n",
              "      border-right-color: var(--fill-color);\n",
              "    }\n",
              "    40% {\n",
              "      border-color: transparent;\n",
              "      border-right-color: var(--fill-color);\n",
              "      border-top-color: var(--fill-color);\n",
              "    }\n",
              "    60% {\n",
              "      border-color: transparent;\n",
              "      border-right-color: var(--fill-color);\n",
              "    }\n",
              "    80% {\n",
              "      border-color: transparent;\n",
              "      border-right-color: var(--fill-color);\n",
              "      border-bottom-color: var(--fill-color);\n",
              "    }\n",
              "    90% {\n",
              "      border-color: transparent;\n",
              "      border-bottom-color: var(--fill-color);\n",
              "    }\n",
              "  }\n",
              "</style>\n",
              "\n",
              "  <script>\n",
              "    async function quickchart(key) {\n",
              "      const quickchartButtonEl =\n",
              "        document.querySelector('#' + key + ' button');\n",
              "      quickchartButtonEl.disabled = true;  // To prevent multiple clicks.\n",
              "      quickchartButtonEl.classList.add('colab-df-spinner');\n",
              "      try {\n",
              "        const charts = await google.colab.kernel.invokeFunction(\n",
              "            'suggestCharts', [key], {});\n",
              "      } catch (error) {\n",
              "        console.error('Error during call to suggestCharts:', error);\n",
              "      }\n",
              "      quickchartButtonEl.classList.remove('colab-df-spinner');\n",
              "      quickchartButtonEl.classList.add('colab-df-quickchart-complete');\n",
              "    }\n",
              "    (() => {\n",
              "      let quickchartButtonEl =\n",
              "        document.querySelector('#df-f002a8f7-4c67-4be2-9807-20159a871d2e button');\n",
              "      quickchartButtonEl.style.display =\n",
              "        google.colab.kernel.accessAllowed ? 'block' : 'none';\n",
              "    })();\n",
              "  </script>\n",
              "</div>\n",
              "\n",
              "  <div id=\"id_76c56872-1347-4a47-a086-9efbb10d3302\">\n",
              "    <style>\n",
              "      .colab-df-generate {\n",
              "        background-color: #E8F0FE;\n",
              "        border: none;\n",
              "        border-radius: 50%;\n",
              "        cursor: pointer;\n",
              "        display: none;\n",
              "        fill: #1967D2;\n",
              "        height: 32px;\n",
              "        padding: 0 0 0 0;\n",
              "        width: 32px;\n",
              "      }\n",
              "\n",
              "      .colab-df-generate:hover {\n",
              "        background-color: #E2EBFA;\n",
              "        box-shadow: 0px 1px 2px rgba(60, 64, 67, 0.3), 0px 1px 3px 1px rgba(60, 64, 67, 0.15);\n",
              "        fill: #174EA6;\n",
              "      }\n",
              "\n",
              "      [theme=dark] .colab-df-generate {\n",
              "        background-color: #3B4455;\n",
              "        fill: #D2E3FC;\n",
              "      }\n",
              "\n",
              "      [theme=dark] .colab-df-generate:hover {\n",
              "        background-color: #434B5C;\n",
              "        box-shadow: 0px 1px 3px 1px rgba(0, 0, 0, 0.15);\n",
              "        filter: drop-shadow(0px 1px 2px rgba(0, 0, 0, 0.3));\n",
              "        fill: #FFFFFF;\n",
              "      }\n",
              "    </style>\n",
              "    <button class=\"colab-df-generate\" onclick=\"generateWithVariable('df')\"\n",
              "            title=\"Generate code using this dataframe.\"\n",
              "            style=\"display:none;\">\n",
              "\n",
              "  <svg xmlns=\"http://www.w3.org/2000/svg\" height=\"24px\"viewBox=\"0 0 24 24\"\n",
              "       width=\"24px\">\n",
              "    <path d=\"M7,19H8.4L18.45,9,17,7.55,7,17.6ZM5,21V16.75L18.45,3.32a2,2,0,0,1,2.83,0l1.4,1.43a1.91,1.91,0,0,1,.58,1.4,1.91,1.91,0,0,1-.58,1.4L9.25,21ZM18.45,9,17,7.55Zm-12,3A5.31,5.31,0,0,0,4.9,8.1,5.31,5.31,0,0,0,1,6.5,5.31,5.31,0,0,0,4.9,4.9,5.31,5.31,0,0,0,6.5,1,5.31,5.31,0,0,0,8.1,4.9,5.31,5.31,0,0,0,12,6.5,5.46,5.46,0,0,0,6.5,12Z\"/>\n",
              "  </svg>\n",
              "    </button>\n",
              "    <script>\n",
              "      (() => {\n",
              "      const buttonEl =\n",
              "        document.querySelector('#id_76c56872-1347-4a47-a086-9efbb10d3302 button.colab-df-generate');\n",
              "      buttonEl.style.display =\n",
              "        google.colab.kernel.accessAllowed ? 'block' : 'none';\n",
              "\n",
              "      buttonEl.onclick = () => {\n",
              "        google.colab.notebook.generateWithVariable('df');\n",
              "      }\n",
              "      })();\n",
              "    </script>\n",
              "  </div>\n",
              "\n",
              "    </div>\n",
              "  </div>\n"
            ],
            "text/plain": [
              "              king     queen     river     water     ocean      tree  \\\n",
              "king      1.000000  0.297652  0.086192 -0.002888  0.049634  0.102512   \n",
              "queen     0.297652  1.000000  0.076086 -0.210278 -0.125153  0.191776   \n",
              "river     0.086192  0.076086  1.000000 -0.027220  0.053040  0.150192   \n",
              "water    -0.002888 -0.210278 -0.027220  1.000000  0.273973  0.009207   \n",
              "ocean     0.049634 -0.125153  0.053040  0.273973  1.000000 -0.034980   \n",
              "tree      0.102512  0.191776  0.150192  0.009207 -0.034980  1.000000   \n",
              "plant     0.011963 -0.044069  0.078402  0.225814 -0.119094  0.073606   \n",
              "happy     0.222847  0.104617 -0.018225 -0.042162 -0.138707  0.158178   \n",
              "glad     -0.055987  0.009620 -0.051179  0.057715  0.039078 -0.046979   \n",
              "mother    0.146372  0.206151  0.109625  0.046123 -0.021621 -0.060145   \n",
              "daughter  0.142810  0.289875  0.104886  0.054425 -0.114652 -0.006374   \n",
              "\n",
              "             plant     happy      glad    mother  daughter  \n",
              "king      0.011963  0.222847 -0.055987  0.146372  0.142810  \n",
              "queen    -0.044069  0.104617  0.009620  0.206151  0.289875  \n",
              "river     0.078402 -0.018225 -0.051179  0.109625  0.104886  \n",
              "water     0.225814 -0.042162  0.057715  0.046123  0.054425  \n",
              "ocean    -0.119094 -0.138707  0.039078 -0.021621 -0.114652  \n",
              "tree      0.073606  0.158178 -0.046979 -0.060145 -0.006374  \n",
              "plant     1.000000 -0.032019  0.096255  0.029675  0.113908  \n",
              "happy    -0.032019  1.000000 -0.016747 -0.036929  0.181766  \n",
              "glad      0.096255 -0.016747  1.000000  0.062543  0.095835  \n",
              "mother    0.029675 -0.036929  0.062543  1.000000  0.250893  \n",
              "daughter  0.113908  0.181766  0.095835  0.250893  1.000000  "
            ]
          },
          "execution_count": 121,
          "metadata": {},
          "output_type": "execute_result"
        }
      ],
      "source": [
        "words = ['king', 'queen', 'river', 'water', 'ocean', 'tree', 'plant', 'happy', 'glad', 'mother', 'daughter']\n",
        "\n",
        "word_vectors, similarity = get_similarity(words)\n",
        "df = pd.DataFrame(similarity, index = words, columns = words)\n",
        "df"
      ]
    },
    {
      "cell_type": "code",
      "execution_count": 122,
      "metadata": {
        "colab": {
          "base_uri": "https://localhost:8080/",
          "height": 502
        },
        "id": "7_2DW4LbTkV6",
        "outputId": "861ae61b-e4d0-4fab-f580-9fbd3256ca86"
      },
      "outputs": [
        {
          "data": {
            "text/plain": [
              "<Axes: >"
            ]
          },
          "execution_count": 122,
          "metadata": {},
          "output_type": "execute_result"
        },
        {
          "data": {
            "image/png": "[encoded data removed]",
            "text/plain": [
              "<Figure size 640x480 with 2 Axes>"
            ]
          },
          "metadata": {},
          "output_type": "display_data"
        }
      ],
      "source": [
        "import seaborn as sns\n",
        "sns.heatmap(df)"
      ]
    },
    {
      "cell_type": "code",
      "execution_count": 123,
      "metadata": {
        "id": "p1HZJvzbTkV6"
      },
      "outputs": [],
      "source": [
        "# Dimensionality Reduction\n",
        "from sklearn.decomposition import PCA\n",
        "\n",
        "pca = PCA(n_components=2)\n",
        "reduced_word_vectors = pca.fit_transform(word_vectors)"
      ]
    },
    {
      "cell_type": "code",
      "execution_count": 124,
      "metadata": {
        "id": "dEh2LjF9d8HC"
      },
      "outputs": [],
      "source": [
        "import matplotlib.pyplot as plt"
      ]
    },
    {
      "cell_type": "code",
      "execution_count": 125,
      "metadata": {
        "colab": {
          "base_uri": "https://localhost:8080/",
          "height": 468
        },
        "id": "xwDoY4NzTkV6",
        "outputId": "09dc6f4c-04ab-43fb-9312-0c1c6173fbb7"
      },
      "outputs": [
        {
          "data": {
            "image/png": "[encoded data removed]",
            "text/plain": [
              "<Figure size 800x500 with 1 Axes>"
            ]
          },
          "metadata": {},
          "output_type": "display_data"
        }
      ],
      "source": [
        "plt.figure(figsize=(8, 5))\n",
        "plt.scatter(reduced_word_vectors[:, 0], reduced_word_vectors[:, 1], s = 12, color = \"red\")\n",
        "plt.xlim([-1, 1])\n",
        "plt.ylim([-1, 1])\n",
        "plt.title(\"Word Similarity\")\n",
        "x, y = reduced_word_vectors[:, 0], reduced_word_vectors[:, 1]\n",
        "offset = 0.5\n",
        "for i in range(len(x)):\n",
        "    label = words[i]\n",
        "    plt.annotate(label, (x[i], y[i]), xytext=(x[i] + offset, y[i] + offset),\n",
        "                 textcoords = 'offset points', ha = 'center', va = 'center')"
      ]
    },
    {
      "cell_type": "code",
      "execution_count": 126,
      "metadata": {
        "id": "knFfvnPITkV6"
      },
      "outputs": [],
      "source": [
        "def get_top_similarity(word:str, top_n:int = 10):\n",
        "    word_id = vocab[word]\n",
        "    if word_id is None:\n",
        "        print(f\"{word} not found in vocab\")\n",
        "        return\n",
        "\n",
        "    word_vector = word_embedding[word_id]\n",
        "    word_vector = np.reshape(word_vector, (len(word_vector), 1))\n",
        "\n",
        "    distance = np.matmul(word_embedding, word_vector).flatten()\n",
        "    top_n_idx = np.argsort(-distance)[1:top_n+1]\n",
        "\n",
        "    top_n_dict = {}\n",
        "    for i in top_n_idx:\n",
        "        similar_word = vocab.lookup_token(i)\n",
        "        top_n_dict[similar_word] = distance[i]\n",
        "\n",
        "    return top_n_dict"
      ]
    },
    {
      "cell_type": "code",
      "execution_count": 127,
      "metadata": {
        "colab": {
          "base_uri": "https://localhost:8080/"
        },
        "id": "bLfJS2DLTkV7",
        "outputId": "18dae827-248d-4982-cac1-716053f11a58"
      },
      "outputs": [
        {
          "name": "stdout",
          "output_type": "stream",
          "text": [
            "Top 5 Similar words for king\n",
            "Word            | Similarity\n",
            "----------------------------\n",
            "kings      \t| 0.446\n",
            "bohemond   \t| 0.440\n",
            "ballala    \t| 0.436\n",
            "1793       \t| 0.398\n",
            "kamehameha \t| 0.396\n",
            "gregory    \t| 0.391\n",
            "spain      \t| 0.386\n",
            "patriarch  \t| 0.379\n",
            "joyce      \t| 0.374\n",
            "blish      \t| 0.369\n"
          ]
        }
      ],
      "source": [
        "s = \"king\"\n",
        "print(f\"Top 5 Similar words for {s}\")\n",
        "print(\"Word            | Similarity\")\n",
        "print(\"----------------------------\")\n",
        "for word, similar_words in get_top_similarity(s).items():\n",
        "    print(f\"{word:10} \\t| {similar_words.item():.3f}\")"
      ]
    },
    {
      "cell_type": "markdown",
      "metadata": {
        "id": "cWALoCn4TkV7"
      },
      "source": [
        "### Analogy tests"
      ]
    },
    {
      "cell_type": "markdown",
      "metadata": {
        "id": "9pX5GLVUTkV_"
      },
      "source": [
        "Solving `A:B::C:_` <=> if A is similar to B, then C is similar to _."
      ]
    },
    {
      "cell_type": "code",
      "execution_count": 128,
      "metadata": {
        "id": "FKxlw9pMTkV_"
      },
      "outputs": [],
      "source": [
        "def get_analogy( w1, w2, w3):\n",
        "\n",
        "    emb1 = word_embedding[vocab[w1]]\n",
        "    emb2 = word_embedding[vocab[w2]]\n",
        "    emb3 = word_embedding[vocab[w3]]\n",
        "\n",
        "    emb4 = emb1 - emb2 + emb3\n",
        "\n",
        "    emb4 = np.reshape(emb4, (len(emb4), 1))\n",
        "    dot_product = np.matmul(word_embedding, emb4).flatten()\n",
        "    top_5 = np.argsort(-dot_product)[1:6]\n",
        "\n",
        "    return top_5, dot_product"
      ]
    },
    {
      "cell_type": "code",
      "execution_count": 129,
      "metadata": {
        "colab": {
          "base_uri": "https://localhost:8080/"
        },
        "id": "OJjHvuZNTkWA",
        "outputId": "069986bd-72d8-409b-a95e-8342898db15d"
      },
      "outputs": [
        {
          "name": "stdout",
          "output_type": "stream",
          "text": [
            "Top 5 words for analogy - king : man :: queen : ?\n",
            "Word             Similarity\n",
            "queen      1.2773923873901367\n",
            "patriarch  0.8195511102676392\n",
            "scottish   0.7483762502670288\n",
            "ganymede   0.7218871116638184\n",
            "hudson     0.7167882919311523\n"
          ]
        }
      ],
      "source": [
        "top_5, dot_product = get_analogy(\"king\", \"man\",\"queen\")\n",
        "print(\"Top 5 words for analogy - king : man :: queen : ?\")\n",
        "print(\"Word             Similarity\")\n",
        "for i in top_5:\n",
        "    print(f\"{vocab.lookup_token(i):10} {dot_product[i]}\")"
      ]
    },
    {
      "cell_type": "markdown",
      "metadata": {
        "id": "KyRNORmMTkWA"
      },
      "source": [
        "### Measure Precision"
      ]
    },
    {
      "cell_type": "code",
      "execution_count": 130,
      "metadata": {
        "colab": {
          "base_uri": "https://localhost:8080/"
        },
        "id": "d9wpcSHjTkWA",
        "outputId": "0acd61e8-4179-4b77-98ed-b2f0be4e9772"
      },
      "outputs": [
        {
          "data": {
            "text/plain": [
              "0"
            ]
          },
          "execution_count": 130,
          "metadata": {},
          "output_type": "execute_result"
        }
      ],
      "source": [
        "# Downloading analogy dataset\n",
        "os.system('wget -O data/analogy_data.txt \"https://drive.google.com/uc?export=download&id=1jHx25dECegjtRKBB587nEfHiJesrH0g2\"')"
      ]
    },
    {
      "cell_type": "code",
      "execution_count": 131,
      "metadata": {
        "id": "bfqswcFoTkWA"
      },
      "outputs": [],
      "source": [
        "import random\n",
        "random.seed(42)\n",
        "\n",
        "def get_analogy_samples(file_path, num_samples = 5000):\n",
        "    with open(file_path, 'r') as f:\n",
        "        analogies = []\n",
        "        for line in f:\n",
        "            #print(line)\n",
        "            parts = line.strip().split()\n",
        "\n",
        "            if len(parts) == 4:\n",
        "                analogies.append(parts)\n",
        "\n",
        "        analogies = random.sample(analogies, min(num_samples, len(analogies)))\n",
        "        print(f\"Total Analogies : {len(analogies)}\")\n",
        "        return analogies"
      ]
    },
    {
      "cell_type": "code",
      "execution_count": 132,
      "metadata": {
        "colab": {
          "base_uri": "https://localhost:8080/"
        },
        "id": "j4YMqbVbTkWB",
        "outputId": "d74aaa0f-29b8-412c-da5b-767e067832ca"
      },
      "outputs": [
        {
          "name": "stdout",
          "output_type": "stream",
          "text": [
            "Total Analogies : 5000\n"
          ]
        }
      ],
      "source": [
        "file_path = \"data/analogy_data.txt\"\n",
        "analogy_data = get_analogy_samples(file_path)"
      ]
    },
    {
      "cell_type": "code",
      "execution_count": 133,
      "metadata": {
        "id": "GsxaAY90TkWB"
      },
      "outputs": [],
      "source": [
        "def get_word_idx(word):\n",
        "    return vocab[word] if word in vocab else None\n",
        "\n",
        "def get_precision(analogy_data):\n",
        "    total = 0\n",
        "    correct = 0\n",
        "\n",
        "    for a,b,c,d in  analogy_data:\n",
        "        a,b,c,d = a.lower(), b.lower(), c.lower(), d.lower()\n",
        "\n",
        "        if not all([get_word_idx(w) for w in [a,b,c,d]]):\n",
        "            continue\n",
        "\n",
        "        top_5, _ = get_analogy(a, b, c)\n",
        "        predicted_words = []\n",
        "\n",
        "        for i in top_5:\n",
        "            word = vocab.lookup_token(i)\n",
        "            predicted_words.append(word)\n",
        "\n",
        "        if d in predicted_words:\n",
        "            correct += 1\n",
        "        total += 1\n",
        "    print(f\"{correct} correct out of {total} total\")\n",
        "    precision = correct / total if total > 0 else 0\n",
        "    return precision"
      ]
    },
    {
      "cell_type": "code",
      "execution_count": 134,
      "metadata": {
        "colab": {
          "base_uri": "https://localhost:8080/"
        },
        "id": "RJOwd8r7TkWB",
        "outputId": "5ae86493-c0fc-4f59-dc0a-a5af10290845"
      },
      "outputs": [
        {
          "name": "stdout",
          "output_type": "stream",
          "text": [
            "26 correct out of 2787 total\n",
            "Analogy Precision :  0.009329027628274129\n"
          ]
        }
      ],
      "source": [
        "precision = get_precision(analogy_data)\n",
        "print(\"Analogy Precision : \", precision)\n",
        "# Required training more epochs to get better results"
      ]
    },
    {
      "cell_type": "markdown",
      "metadata": {
        "id": "SWAnddXJTkWB"
      },
      "source": [
        "### Comparision with Google word2vec"
      ]
    },
    {
      "cell_type": "code",
      "execution_count": 135,
      "metadata": {
        "colab": {
          "base_uri": "https://localhost:8080/"
        },
        "id": "TE6e9NS-TkWC",
        "outputId": "93ef9144-f439-49ee-aad6-2ea4ec0e0028"
      },
      "outputs": [
        {
          "data": {
            "text/plain": [
              "0"
            ]
          },
          "execution_count": 135,
          "metadata": {},
          "output_type": "execute_result"
        }
      ],
      "source": [
        "# Downloading analogy dataset\n",
        "os.system('wget -O data/GoogleNews-vectors-negative300.bin \"https://drive.google.com/uc?export=download&id=1jHx25dECegjtRKBB587nEfHiJesrH0g2\"')"
      ]
    },
    {
      "cell_type": "code",
      "execution_count": 136,
      "metadata": {
        "id": "FBUSQXa8TkWC"
      },
      "outputs": [],
      "source": [
        "import bs4\n",
        "import requests\n",
        "import tqdm.auto as tqdm\n",
        "\n",
        "def prepare_data(url, file_path):\n",
        "    response = requests.get(url, stream=True)\n",
        "    response.raise_for_status() # check for errors\n",
        "\n",
        "    if 'html' in response.headers['Content-Type']:\n",
        "        response = requests.get(url)\n",
        "        soup = bs4.BeautifulSoup(response.text, features='lxml') # parse the HTML\n",
        "        if form := soup.find('form', id = 'download-form'):\n",
        "            id = form.select_one('input[name=\"id\"]')['value']\n",
        "            uuid = form.select_one('input[name=\"uuid\"]')['value']\n",
        "            data = {\n",
        "                'id': id,\n",
        "                'uuid': uuid,\n",
        "                'export': 'download',\n",
        "                'confirm': 't'\n",
        "            }\n",
        "            response = requests.get(soup.find('form')['action'], params = data, stream = True)\n",
        "            response.raise_for_status()\n",
        "\n",
        "    with open(file_path, 'wb+') as f:\n",
        "        with tqdm.tqdm(\n",
        "            total = int(response.headers[\"Content-Length\"]),\n",
        "            unit = 'B',\n",
        "            unit_scale = True,\n",
        "            unit_divisor = 1024,\n",
        "        ) as pbar:\n",
        "            for chunk in response.iter_content(chunk_size = 1024):\n",
        "                f.write(chunk)\n",
        "                pbar.update(len(chunk))\n",
        "    print(\"Downloaded to\", file_path)"
      ]
    },
    {
      "cell_type": "code",
      "execution_count": 137,
      "metadata": {
        "colab": {
          "base_uri": "https://localhost:8080/",
          "height": 66,
          "referenced_widgets": [
            "7ef09c4e8d6f4bfbaeb14939998f5204",
            "548c067aaa0b433c8c1d75c29cfa9ba3",
            "41afae4c65e54535b00ad0f43bece98a",
            "03a75d603c384f0fad9c9caaefafa637",
            "fb0087f9938744b1a182201334ffad76",
            "62c7cdbea9ae44c4a7b7ab618d71f9ab",
            "1697e78b9e544be881a564cb805da2f0",
            "61b30c766d434922a60895684c6b6f69",
            "09f0f18315db4b1086d2001286c99561",
            "9cbe75fd30b54b98b2383aae4ac79d0b",
            "ae9024af898841d0b23654cf516abfe6"
          ]
        },
        "id": "OejGYPaHTkWC",
        "outputId": "895178f1-f816-447e-e4ad-581d9e7d1212"
      },
      "outputs": [
        {
          "data": {
            "application/vnd.jupyter.widget-view+json": {
              "model_id": "7ef09c4e8d6f4bfbaeb14939998f5204",
              "version_major": 2,
              "version_minor": 0
            },
            "text/plain": [
              "  0%|          | 0.00/3.39G [00:00<?, ?B/s]"
            ]
          },
          "metadata": {},
          "output_type": "display_data"
        },
        {
          "name": "stdout",
          "output_type": "stream",
          "text": [
            "Downloaded to data/GoogleNews-vectors-negative300.bin\n"
          ]
        }
      ],
      "source": [
        "drive_link = \"https://drive.google.com/uc?export=download&id=12Oicgl5scdJLR7t8jbzKpW6o8QkYOylg\"\n",
        "target_path = \"data/GoogleNews-vectors-negative300.bin\"\n",
        "\n",
        "prepare_data(drive_link, target_path)"
      ]
    },
    {
      "cell_type": "code",
      "execution_count": 138,
      "metadata": {
        "id": "qwEgAIpeTkWC"
      },
      "outputs": [],
      "source": [
        "from gensim.models import KeyedVectors\n",
        "\n",
        "google_model = KeyedVectors.load_word2vec_format(\"data/GoogleNews-vectors-negative300.bin\", binary=True, limit=50000)"
      ]
    },
    {
      "cell_type": "code",
      "execution_count": 139,
      "metadata": {
        "id": "MjD_YMdnTkWC"
      },
      "outputs": [],
      "source": [
        "words = ['king', 'queen', 'river', 'water', 'ocean', 'tree', 'plant', 'happy', 'glad', 'mother', 'daughter']\n",
        "\n",
        "def get_similarity_google(words):\n",
        "    word_vectors = [google_model[word] for word in words]\n",
        "    word_vectors = [w for w in word_vectors]\n",
        "\n",
        "    norm = np.linalg.norm(word_vectors, axis=1, keepdims=True)\n",
        "    normalized_word_vectors = word_vectors / norm\n",
        "\n",
        "    similarity_matrix = np.dot(normalized_word_vectors, normalized_word_vectors.T)\n",
        "\n",
        "    similarity = cosine_similarity(normalized_word_vectors)\n",
        "    return word_vectors, similarity"
      ]
    },
    {
      "cell_type": "code",
      "execution_count": 140,
      "metadata": {
        "colab": {
          "base_uri": "https://localhost:8080/",
          "height": 431
        },
        "id": "ih-f6UV3TkWD",
        "outputId": "f6af5708-6f2b-4f90-a30c-d59b2de23929"
      },
      "outputs": [
        {
          "name": "stdout",
          "output_type": "stream",
          "text": [
            "11\n"
          ]
        },
        {
          "data": {
            "application/vnd.google.colaboratory.intrinsic+json": {
              "summary": "{\n  \"name\": \"pd\",\n  \"rows\": 11,\n  \"fields\": [\n    {\n      \"column\": \"king\",\n      \"properties\": {\n        \"dtype\": \"float32\",\n        \"num_unique_values\": 11,\n        \"samples\": [\n          0.10914137214422226,\n          0.9999998807907104,\n          0.16005170345306396\n        ],\n        \"semantic_type\": \"\",\n        \"description\": \"\"\n      }\n    },\n    {\n      \"column\": \"queen\",\n      \"properties\": {\n        \"dtype\": \"float32\",\n        \"num_unique_values\": 11,\n        \"samples\": [\n          0.11222156137228012,\n          0.6510957479476929,\n          0.28844502568244934\n        ],\n        \"semantic_type\": \"\",\n        \"description\": \"\"\n      }\n    },\n    {\n      \"column\": \"river\",\n      \"properties\": {\n        \"dtype\": \"float32\",\n        \"num_unique_values\": 11,\n        \"samples\": [\n          0.23074564337730408,\n          0.08615533262491226,\n          0.13106250762939453\n        ],\n        \"semantic_type\": \"\",\n        \"description\": \"\"\n      }\n    },\n    {\n      \"column\": \"water\",\n      \"properties\": {\n        \"dtype\": \"float32\",\n        \"num_unique_values\": 11,\n        \"samples\": [\n          0.19602176547050476,\n          0.03560589253902435,\n          0.11072275042533875\n        ],\n        \"semantic_type\": \"\",\n        \"description\": \"\"\n      }\n    },\n    {\n      \"column\": \"ocean\",\n      \"properties\": {\n        \"dtype\": \"float32\",\n        \"num_unique_values\": 11,\n        \"samples\": [\n          0.14185883104801178,\n          0.06526347994804382,\n          0.10562343895435333\n        ],\n        \"semantic_type\": \"\",\n        \"description\": \"\"\n      }\n    },\n    {\n      \"column\": \"tree\",\n      \"properties\": {\n        \"dtype\": \"float32\",\n        \"num_unique_values\": 11,\n        \"samples\": [\n          1.0000005960464478,\n          0.10914137214422226,\n          0.18898501992225647\n        ],\n        \"semantic_type\": \"\",\n        \"description\": \"\"\n      }\n    },\n    {\n      \"column\": \"plant\",\n      \"properties\": {\n        \"dtype\": \"float32\",\n        \"num_unique_values\": 11,\n        \"samples\": [\n          0.26518696546554565,\n          0.057788435369729996,\n          0.14880511164665222\n        ],\n        \"semantic_type\": \"\",\n        \"description\": \"\"\n      }\n    },\n    {\n      \"column\": \"happy\",\n      \"properties\": {\n        \"dtype\": \"float32\",\n        \"num_unique_values\": 11,\n        \"samples\": [\n          0.07693250477313995,\n          0.11323948949575424,\n          0.11967191100120544\n        ],\n        \"semantic_type\": \"\",\n        \"description\": \"\"\n      }\n    },\n    {\n      \"column\": \"glad\",\n      \"properties\": {\n        \"dtype\": \"float32\",\n        \"num_unique_values\": 11,\n        \"samples\": [\n          0.10575982928276062,\n          0.0635237768292427,\n          0.12556621432304382\n        ],\n        \"semantic_type\": \"\",\n        \"description\": \"\"\n      }\n    },\n    {\n      \"column\": \"mother\",\n      \"properties\": {\n        \"dtype\": \"float32\",\n        \"num_unique_values\": 11,\n        \"samples\": [\n          0.18898501992225647,\n          0.16005170345306396,\n          0.9999997615814209\n        ],\n        \"semantic_type\": \"\",\n        \"description\": \"\"\n      }\n    },\n    {\n      \"column\": \"daughter\",\n      \"properties\": {\n        \"dtype\": \"float32\",\n        \"num_unique_values\": 11,\n        \"samples\": [\n          0.17351850867271423,\n          0.14881284534931183,\n          0.8706236481666565\n        ],\n        \"semantic_type\": \"\",\n        \"description\": \"\"\n      }\n    }\n  ]\n}",
              "type": "dataframe"
            },
            "text/html": [
              "\n",
              "  <div id=\"df-11d8ab29-5b6c-4840-b9d9-d37de2b5bfb2\" class=\"colab-df-container\">\n",
              "    <div>\n",
              "<style scoped>\n",
              "    .dataframe tbody tr th:only-of-type {\n",
              "        vertical-align: middle;\n",
              "    }\n",
              "\n",
              "    .dataframe tbody tr th {\n",
              "        vertical-align: top;\n",
              "    }\n",
              "\n",
              "    .dataframe thead th {\n",
              "        text-align: right;\n",
              "    }\n",
              "</style>\n",
              "<table border=\"1\" class=\"dataframe\">\n",
              "  <thead>\n",
              "    <tr style=\"text-align: right;\">\n",
              "      <th></th>\n",
              "      <th>king</th>\n",
              "      <th>queen</th>\n",
              "      <th>river</th>\n",
              "      <th>water</th>\n",
              "      <th>ocean</th>\n",
              "      <th>tree</th>\n",
              "      <th>plant</th>\n",
              "      <th>happy</th>\n",
              "      <th>glad</th>\n",
              "      <th>mother</th>\n",
              "      <th>daughter</th>\n",
              "    </tr>\n",
              "  </thead>\n",
              "  <tbody>\n",
              "    <tr>\n",
              "      <th>king</th>\n",
              "      <td>1.000000</td>\n",
              "      <td>0.651096</td>\n",
              "      <td>0.086155</td>\n",
              "      <td>0.035606</td>\n",
              "      <td>0.065263</td>\n",
              "      <td>0.109141</td>\n",
              "      <td>0.057788</td>\n",
              "      <td>0.113239</td>\n",
              "      <td>0.063524</td>\n",
              "      <td>0.160052</td>\n",
              "      <td>0.148813</td>\n",
              "    </tr>\n",
              "    <tr>\n",
              "      <th>queen</th>\n",
              "      <td>0.651096</td>\n",
              "      <td>1.000000</td>\n",
              "      <td>0.103566</td>\n",
              "      <td>0.018264</td>\n",
              "      <td>0.099157</td>\n",
              "      <td>0.112222</td>\n",
              "      <td>0.088803</td>\n",
              "      <td>0.121214</td>\n",
              "      <td>0.082538</td>\n",
              "      <td>0.288445</td>\n",
              "      <td>0.305139</td>\n",
              "    </tr>\n",
              "    <tr>\n",
              "      <th>river</th>\n",
              "      <td>0.086155</td>\n",
              "      <td>0.103566</td>\n",
              "      <td>1.000000</td>\n",
              "      <td>0.576898</td>\n",
              "      <td>0.477181</td>\n",
              "      <td>0.230746</td>\n",
              "      <td>0.201330</td>\n",
              "      <td>0.073289</td>\n",
              "      <td>0.071341</td>\n",
              "      <td>0.131063</td>\n",
              "      <td>0.116944</td>\n",
              "    </tr>\n",
              "    <tr>\n",
              "      <th>water</th>\n",
              "      <td>0.035606</td>\n",
              "      <td>0.018264</td>\n",
              "      <td>0.576898</td>\n",
              "      <td>1.000000</td>\n",
              "      <td>0.471691</td>\n",
              "      <td>0.196022</td>\n",
              "      <td>0.271738</td>\n",
              "      <td>0.067675</td>\n",
              "      <td>0.085623</td>\n",
              "      <td>0.110723</td>\n",
              "      <td>0.079457</td>\n",
              "    </tr>\n",
              "    <tr>\n",
              "      <th>ocean</th>\n",
              "      <td>0.065263</td>\n",
              "      <td>0.099157</td>\n",
              "      <td>0.477181</td>\n",
              "      <td>0.471691</td>\n",
              "      <td>1.000000</td>\n",
              "      <td>0.141859</td>\n",
              "      <td>0.067005</td>\n",
              "      <td>-0.000511</td>\n",
              "      <td>0.014122</td>\n",
              "      <td>0.105623</td>\n",
              "      <td>0.081207</td>\n",
              "    </tr>\n",
              "    <tr>\n",
              "      <th>tree</th>\n",
              "      <td>0.109141</td>\n",
              "      <td>0.112222</td>\n",
              "      <td>0.230746</td>\n",
              "      <td>0.196022</td>\n",
              "      <td>0.141859</td>\n",
              "      <td>1.000001</td>\n",
              "      <td>0.265187</td>\n",
              "      <td>0.076933</td>\n",
              "      <td>0.105760</td>\n",
              "      <td>0.188985</td>\n",
              "      <td>0.173519</td>\n",
              "    </tr>\n",
              "    <tr>\n",
              "      <th>plant</th>\n",
              "      <td>0.057788</td>\n",
              "      <td>0.088803</td>\n",
              "      <td>0.201330</td>\n",
              "      <td>0.271738</td>\n",
              "      <td>0.067005</td>\n",
              "      <td>0.265187</td>\n",
              "      <td>0.999999</td>\n",
              "      <td>-0.010519</td>\n",
              "      <td>-0.000679</td>\n",
              "      <td>0.148805</td>\n",
              "      <td>0.092466</td>\n",
              "    </tr>\n",
              "    <tr>\n",
              "      <th>happy</th>\n",
              "      <td>0.113239</td>\n",
              "      <td>0.121214</td>\n",
              "      <td>0.073289</td>\n",
              "      <td>0.067675</td>\n",
              "      <td>-0.000511</td>\n",
              "      <td>0.076933</td>\n",
              "      <td>-0.010519</td>\n",
              "      <td>1.000000</td>\n",
              "      <td>0.740889</td>\n",
              "      <td>0.119672</td>\n",
              "      <td>0.152536</td>\n",
              "    </tr>\n",
              "    <tr>\n",
              "      <th>glad</th>\n",
              "      <td>0.063524</td>\n",
              "      <td>0.082538</td>\n",
              "      <td>0.071341</td>\n",
              "      <td>0.085623</td>\n",
              "      <td>0.014122</td>\n",
              "      <td>0.105760</td>\n",
              "      <td>-0.000679</td>\n",
              "      <td>0.740889</td>\n",
              "      <td>1.000000</td>\n",
              "      <td>0.125566</td>\n",
              "      <td>0.181102</td>\n",
              "    </tr>\n",
              "    <tr>\n",
              "      <th>mother</th>\n",
              "      <td>0.160052</td>\n",
              "      <td>0.288445</td>\n",
              "      <td>0.131063</td>\n",
              "      <td>0.110723</td>\n",
              "      <td>0.105623</td>\n",
              "      <td>0.188985</td>\n",
              "      <td>0.148805</td>\n",
              "      <td>0.119672</td>\n",
              "      <td>0.125566</td>\n",
              "      <td>1.000000</td>\n",
              "      <td>0.870624</td>\n",
              "    </tr>\n",
              "    <tr>\n",
              "      <th>daughter</th>\n",
              "      <td>0.148813</td>\n",
              "      <td>0.305139</td>\n",
              "      <td>0.116944</td>\n",
              "      <td>0.079457</td>\n",
              "      <td>0.081207</td>\n",
              "      <td>0.173519</td>\n",
              "      <td>0.092466</td>\n",
              "      <td>0.152536</td>\n",
              "      <td>0.181102</td>\n",
              "      <td>0.870624</td>\n",
              "      <td>1.000000</td>\n",
              "    </tr>\n",
              "  </tbody>\n",
              "</table>\n",
              "</div>\n",
              "    <div class=\"colab-df-buttons\">\n",
              "\n",
              "  <div class=\"colab-df-container\">\n",
              "    <button class=\"colab-df-convert\" onclick=\"convertToInteractive('df-11d8ab29-5b6c-4840-b9d9-d37de2b5bfb2')\"\n",
              "            title=\"Convert this dataframe to an interactive table.\"\n",
              "            style=\"display:none;\">\n",
              "\n",
              "  <svg xmlns=\"http://www.w3.org/2000/svg\" height=\"24px\" viewBox=\"0 -960 960 960\">\n",
              "    <path d=\"M120-120v-720h720v720H120Zm60-500h600v-160H180v160Zm220 220h160v-160H400v160Zm0 220h160v-160H400v160ZM180-400h160v-160H180v160Zm440 0h160v-160H620v160ZM180-180h160v-160H180v160Zm440 0h160v-160H620v160Z\"/>\n",
              "  </svg>\n",
              "    </button>\n",
              "\n",
              "  <style>\n",
              "    .colab-df-container {\n",
              "      display:flex;\n",
              "      gap: 12px;\n",
              "    }\n",
              "\n",
              "    .colab-df-convert {\n",
              "      background-color: #E8F0FE;\n",
              "      border: none;\n",
              "      border-radius: 50%;\n",
              "      cursor: pointer;\n",
              "      display: none;\n",
              "      fill: #1967D2;\n",
              "      height: 32px;\n",
              "      padding: 0 0 0 0;\n",
              "      width: 32px;\n",
              "    }\n",
              "\n",
              "    .colab-df-convert:hover {\n",
              "      background-color: #E2EBFA;\n",
              "      box-shadow: 0px 1px 2px rgba(60, 64, 67, 0.3), 0px 1px 3px 1px rgba(60, 64, 67, 0.15);\n",
              "      fill: #174EA6;\n",
              "    }\n",
              "\n",
              "    .colab-df-buttons div {\n",
              "      margin-bottom: 4px;\n",
              "    }\n",
              "\n",
              "    [theme=dark] .colab-df-convert {\n",
              "      background-color: #3B4455;\n",
              "      fill: #D2E3FC;\n",
              "    }\n",
              "\n",
              "    [theme=dark] .colab-df-convert:hover {\n",
              "      background-color: #434B5C;\n",
              "      box-shadow: 0px 1px 3px 1px rgba(0, 0, 0, 0.15);\n",
              "      filter: drop-shadow(0px 1px 2px rgba(0, 0, 0, 0.3));\n",
              "      fill: #FFFFFF;\n",
              "    }\n",
              "  </style>\n",
              "\n",
              "    <script>\n",
              "      const buttonEl =\n",
              "        document.querySelector('#df-11d8ab29-5b6c-4840-b9d9-d37de2b5bfb2 button.colab-df-convert');\n",
              "      buttonEl.style.display =\n",
              "        google.colab.kernel.accessAllowed ? 'block' : 'none';\n",
              "\n",
              "      async function convertToInteractive(key) {\n",
              "        const element = document.querySelector('#df-11d8ab29-5b6c-4840-b9d9-d37de2b5bfb2');\n",
              "        const dataTable =\n",
              "          await google.colab.kernel.invokeFunction('convertToInteractive',\n",
              "                                                    [key], {});\n",
              "        if (!dataTable) return;\n",
              "\n",
              "        const docLinkHtml = 'Like what you see? Visit the ' +\n",
              "          '<a target=\"_blank\" href=https://colab.research.google.com/notebooks/data_table.ipynb>data table notebook</a>'\n",
              "          + ' to learn more about interactive tables.';\n",
              "        element.innerHTML = '';\n",
              "        dataTable['output_type'] = 'display_data';\n",
              "        await google.colab.output.renderOutput(dataTable, element);\n",
              "        const docLink = document.createElement('div');\n",
              "        docLink.innerHTML = docLinkHtml;\n",
              "        element.appendChild(docLink);\n",
              "      }\n",
              "    </script>\n",
              "  </div>\n",
              "\n",
              "\n",
              "<div id=\"df-6a0640b1-ea12-402b-88bb-23ab296b7dae\">\n",
              "  <button class=\"colab-df-quickchart\" onclick=\"quickchart('df-6a0640b1-ea12-402b-88bb-23ab296b7dae')\"\n",
              "            title=\"Suggest charts\"\n",
              "            style=\"display:none;\">\n",
              "\n",
              "<svg xmlns=\"http://www.w3.org/2000/svg\" height=\"24px\"viewBox=\"0 0 24 24\"\n",
              "     width=\"24px\">\n",
              "    <g>\n",
              "        <path d=\"M19 3H5c-1.1 0-2 .9-2 2v14c0 1.1.9 2 2 2h14c1.1 0 2-.9 2-2V5c0-1.1-.9-2-2-2zM9 17H7v-7h2v7zm4 0h-2V7h2v10zm4 0h-2v-4h2v4z\"/>\n",
              "    </g>\n",
              "</svg>\n",
              "  </button>\n",
              "\n",
              "<style>\n",
              "  .colab-df-quickchart {\n",
              "      --bg-color: #E8F0FE;\n",
              "      --fill-color: #1967D2;\n",
              "      --hover-bg-color: #E2EBFA;\n",
              "      --hover-fill-color: #174EA6;\n",
              "      --disabled-fill-color: #AAA;\n",
              "      --disabled-bg-color: #DDD;\n",
              "  }\n",
              "\n",
              "  [theme=dark] .colab-df-quickchart {\n",
              "      --bg-color: #3B4455;\n",
              "      --fill-color: #D2E3FC;\n",
              "      --hover-bg-color: #434B5C;\n",
              "      --hover-fill-color: #FFFFFF;\n",
              "      --disabled-bg-color: #3B4455;\n",
              "      --disabled-fill-color: #666;\n",
              "  }\n",
              "\n",
              "  .colab-df-quickchart {\n",
              "    background-color: var(--bg-color);\n",
              "    border: none;\n",
              "    border-radius: 50%;\n",
              "    cursor: pointer;\n",
              "    display: none;\n",
              "    fill: var(--fill-color);\n",
              "    height: 32px;\n",
              "    padding: 0;\n",
              "    width: 32px;\n",
              "  }\n",
              "\n",
              "  .colab-df-quickchart:hover {\n",
              "    background-color: var(--hover-bg-color);\n",
              "    box-shadow: 0 1px 2px rgba(60, 64, 67, 0.3), 0 1px 3px 1px rgba(60, 64, 67, 0.15);\n",
              "    fill: var(--button-hover-fill-color);\n",
              "  }\n",
              "\n",
              "  .colab-df-quickchart-complete:disabled,\n",
              "  .colab-df-quickchart-complete:disabled:hover {\n",
              "    background-color: var(--disabled-bg-color);\n",
              "    fill: var(--disabled-fill-color);\n",
              "    box-shadow: none;\n",
              "  }\n",
              "\n",
              "  .colab-df-spinner {\n",
              "    border: 2px solid var(--fill-color);\n",
              "    border-color: transparent;\n",
              "    border-bottom-color: var(--fill-color);\n",
              "    animation:\n",
              "      spin 1s steps(1) infinite;\n",
              "  }\n",
              "\n",
              "  @keyframes spin {\n",
              "    0% {\n",
              "      border-color: transparent;\n",
              "      border-bottom-color: var(--fill-color);\n",
              "      border-left-color: var(--fill-color);\n",
              "    }\n",
              "    20% {\n",
              "      border-color: transparent;\n",
              "      border-left-color: var(--fill-color);\n",
              "      border-top-color: var(--fill-color);\n",
              "    }\n",
              "    30% {\n",
              "      border-color: transparent;\n",
              "      border-left-color: var(--fill-color);\n",
              "      border-top-color: var(--fill-color);\n",
              "      border-right-color: var(--fill-color);\n",
              "    }\n",
              "    40% {\n",
              "      border-color: transparent;\n",
              "      border-right-color: var(--fill-color);\n",
              "      border-top-color: var(--fill-color);\n",
              "    }\n",
              "    60% {\n",
              "      border-color: transparent;\n",
              "      border-right-color: var(--fill-color);\n",
              "    }\n",
              "    80% {\n",
              "      border-color: transparent;\n",
              "      border-right-color: var(--fill-color);\n",
              "      border-bottom-color: var(--fill-color);\n",
              "    }\n",
              "    90% {\n",
              "      border-color: transparent;\n",
              "      border-bottom-color: var(--fill-color);\n",
              "    }\n",
              "  }\n",
              "</style>\n",
              "\n",
              "  <script>\n",
              "    async function quickchart(key) {\n",
              "      const quickchartButtonEl =\n",
              "        document.querySelector('#' + key + ' button');\n",
              "      quickchartButtonEl.disabled = true;  // To prevent multiple clicks.\n",
              "      quickchartButtonEl.classList.add('colab-df-spinner');\n",
              "      try {\n",
              "        const charts = await google.colab.kernel.invokeFunction(\n",
              "            'suggestCharts', [key], {});\n",
              "      } catch (error) {\n",
              "        console.error('Error during call to suggestCharts:', error);\n",
              "      }\n",
              "      quickchartButtonEl.classList.remove('colab-df-spinner');\n",
              "      quickchartButtonEl.classList.add('colab-df-quickchart-complete');\n",
              "    }\n",
              "    (() => {\n",
              "      let quickchartButtonEl =\n",
              "        document.querySelector('#df-6a0640b1-ea12-402b-88bb-23ab296b7dae button');\n",
              "      quickchartButtonEl.style.display =\n",
              "        google.colab.kernel.accessAllowed ? 'block' : 'none';\n",
              "    })();\n",
              "  </script>\n",
              "</div>\n",
              "\n",
              "    </div>\n",
              "  </div>\n"
            ],
            "text/plain": [
              "              king     queen     river     water     ocean      tree  \\\n",
              "king      1.000000  0.651096  0.086155  0.035606  0.065263  0.109141   \n",
              "queen     0.651096  1.000000  0.103566  0.018264  0.099157  0.112222   \n",
              "river     0.086155  0.103566  1.000000  0.576898  0.477181  0.230746   \n",
              "water     0.035606  0.018264  0.576898  1.000000  0.471691  0.196022   \n",
              "ocean     0.065263  0.099157  0.477181  0.471691  1.000000  0.141859   \n",
              "tree      0.109141  0.112222  0.230746  0.196022  0.141859  1.000001   \n",
              "plant     0.057788  0.088803  0.201330  0.271738  0.067005  0.265187   \n",
              "happy     0.113239  0.121214  0.073289  0.067675 -0.000511  0.076933   \n",
              "glad      0.063524  0.082538  0.071341  0.085623  0.014122  0.105760   \n",
              "mother    0.160052  0.288445  0.131063  0.110723  0.105623  0.188985   \n",
              "daughter  0.148813  0.305139  0.116944  0.079457  0.081207  0.173519   \n",
              "\n",
              "             plant     happy      glad    mother  daughter  \n",
              "king      0.057788  0.113239  0.063524  0.160052  0.148813  \n",
              "queen     0.088803  0.121214  0.082538  0.288445  0.305139  \n",
              "river     0.201330  0.073289  0.071341  0.131063  0.116944  \n",
              "water     0.271738  0.067675  0.085623  0.110723  0.079457  \n",
              "ocean     0.067005 -0.000511  0.014122  0.105623  0.081207  \n",
              "tree      0.265187  0.076933  0.105760  0.188985  0.173519  \n",
              "plant     0.999999 -0.010519 -0.000679  0.148805  0.092466  \n",
              "happy    -0.010519  1.000000  0.740889  0.119672  0.152536  \n",
              "glad     -0.000679  0.740889  1.000000  0.125566  0.181102  \n",
              "mother    0.148805  0.119672  0.125566  1.000000  0.870624  \n",
              "daughter  0.092466  0.152536  0.181102  0.870624  1.000000  "
            ]
          },
          "execution_count": 140,
          "metadata": {},
          "output_type": "execute_result"
        }
      ],
      "source": [
        "gword_vectors, gsimilarity = get_similarity_google(words)\n",
        "print(len(gword_vectors))\n",
        "pd.DataFrame(gsimilarity, index = words, columns = words)"
      ]
    },
    {
      "cell_type": "code",
      "execution_count": 141,
      "metadata": {
        "colab": {
          "base_uri": "https://localhost:8080/",
          "height": 502
        },
        "id": "XI-HqnR6TkWD",
        "outputId": "ab7f1f47-3132-4c18-8d26-b24c030dd580"
      },
      "outputs": [
        {
          "data": {
            "text/plain": [
              "<Axes: >"
            ]
          },
          "execution_count": 141,
          "metadata": {},
          "output_type": "execute_result"
        },
        {
          "data": {
            "image/png": "[encoded data removed]",
            "text/plain": [
              "<Figure size 640x480 with 2 Axes>"
            ]
          },
          "metadata": {},
          "output_type": "display_data"
        }
      ],
      "source": [
        "sns.heatmap(pd.DataFrame(gsimilarity, index = words, columns = words))"
      ]
    },
    {
      "cell_type": "code",
      "execution_count": 142,
      "metadata": {
        "id": "o0JHK59QTkWD"
      },
      "outputs": [],
      "source": [
        "pca = PCA(n_components=2)\n",
        "greduced_word_vectors = pca.fit_transform(gword_vectors)"
      ]
    },
    {
      "cell_type": "code",
      "execution_count": 143,
      "metadata": {
        "colab": {
          "base_uri": "https://localhost:8080/",
          "height": 445
        },
        "id": "_wWay2YATkWD",
        "outputId": "afbc6811-976f-4010-92c7-39f7ff02a337"
      },
      "outputs": [
        {
          "data": {
            "image/png": "[encoded data removed]",
            "text/plain": [
              "<Figure size 800x500 with 1 Axes>"
            ]
          },
          "metadata": {},
          "output_type": "display_data"
        }
      ],
      "source": [
        "plt.figure(figsize=(8, 5))\n",
        "x, y = greduced_word_vectors[:, 0], greduced_word_vectors[:, 1]\n",
        "plt.scatter(x, y, s = 12, color = \"red\")\n",
        "offset = 0.05\n",
        "for i in range(len(x)):\n",
        "    plt.annotate(words[i], xy = (x[i], y[i]), xytext = (x[i] + offset, y[i] + offset),)"
      ]
    },
    {
      "cell_type": "code",
      "execution_count": 144,
      "metadata": {
        "colab": {
          "base_uri": "https://localhost:8080/"
        },
        "id": "rS1PEt8aTkWE",
        "outputId": "1fdc90ec-6f18-4400-d403-d543c58bde4e"
      },
      "outputs": [
        {
          "data": {
            "text/plain": [
              "[('Pakistan', 0.6706860661506653),\n",
              " ('Delhi', 0.6632035374641418),\n",
              " ('Bangalore', 0.6583030819892883),\n",
              " ('subcontinent', 0.6579218506813049),\n",
              " ('Bangladesh', 0.6527796983718872),\n",
              " ('sub_continent', 0.6503037810325623),\n",
              " ('Mumbai', 0.6495688557624817),\n",
              " ('Sri_Lanka', 0.6445952653884888),\n",
              " ('Chennai', 0.64213627576828),\n",
              " ('Hyderabad', 0.6390925645828247)]"
            ]
          },
          "execution_count": 144,
          "metadata": {},
          "output_type": "execute_result"
        }
      ],
      "source": [
        "google_model.most_similar(\"India\")"
      ]
    },
    {
      "cell_type": "code",
      "execution_count": 145,
      "metadata": {
        "colab": {
          "base_uri": "https://localhost:8080/"
        },
        "id": "RisBeX3vTkWE",
        "outputId": "2fc7457a-13f2-4593-8e13-4aa602ef474c"
      },
      "outputs": [
        {
          "name": "stdout",
          "output_type": "stream",
          "text": [
            "queen      0.7118193507194519\n",
            "monarch    0.6189674139022827\n",
            "princess   0.5902431011199951\n",
            "prince     0.5377321839332581\n",
            "kings      0.5236844420433044\n"
          ]
        }
      ],
      "source": [
        "def analogy_google(a, b, c):\n",
        "    return google_model.most_similar(positive=[b, c], negative=[a], topn=5)\n",
        "\n",
        "for i in analogy_google('man', 'king','woman'):\n",
        "    print(f\"{i[0]:10} {i[1]}\")"
      ]
    },
    {
      "cell_type": "code",
      "execution_count": 146,
      "metadata": {
        "id": "84nDVAGETkWE"
      },
      "outputs": [],
      "source": [
        "def precision_google(analogy_data):\n",
        "    total = 0\n",
        "    correct = 0\n",
        "    for a,b,c,d in  analogy_data:\n",
        "        a,b,c,d = a.lower(), b.lower(), c.lower(), d.lower()\n",
        "\n",
        "        # Check if google_model contains the word\n",
        "        if not all([w in google_model for w in [a,b,c,d]]):\n",
        "            continue\n",
        "        predicted_words = [i[0] for i in analogy_google(a, b, c)]\n",
        "        if d in predicted_words:\n",
        "            correct += 1\n",
        "        total += 1\n",
        "    print(f\"{correct} correct out of {total} total\")\n",
        "    precision = correct / total if total > 0 else 0\n",
        "    return precision"
      ]
    },
    {
      "cell_type": "code",
      "execution_count": 147,
      "metadata": {
        "colab": {
          "base_uri": "https://localhost:8080/"
        },
        "id": "1Cx2-2t_TkWE",
        "outputId": "22b9a1e6-eebd-4767-a059-86a0eebfa373"
      },
      "outputs": [
        {
          "name": "stdout",
          "output_type": "stream",
          "text": [
            "4036 correct out of 4573 total\n",
            "Analogy Precision :-\n",
            "Model Precision        :  0.009329027628274129\n",
            "Google Model Precision :  0.8825716160069976\n"
          ]
        }
      ],
      "source": [
        "precision_google = precision_google(analogy_data)\n",
        "print(\"Analogy Precision :-\")\n",
        "print(\"Model Precision        : \", precision)\n",
        "print(\"Google Model Precision : \", precision_google)"
      ]
    }
  ],
  "metadata": {
    "accelerator": "GPU",
    "colab": {
      "gpuType": "T4",
      "provenance": []
    },
    "kernelspec": {
      "display_name": "Python 3",
      "name": "python3"
    },
    "language_info": {
      "codemirror_mode": {
        "name": "ipython",
        "version": 3
      },
      "file_extension": ".py",
      "mimetype": "text/x-python",
      "name": "python",
      "nbconvert_exporter": "python",
      "pygments_lexer": "ipython3",
      "version": "3.10.12"
    },
    "widgets": {
      "application/vnd.jupyter.widget-state+json": {
        "03a75d603c384f0fad9c9caaefafa637": {
          "model_module": "@jupyter-widgets/controls",
          "model_module_version": "1.5.0",
          "model_name": "HTMLModel",
          "state": {
            "_dom_classes": [],
            "_model_module": "@jupyter-widgets/controls",
            "_model_module_version": "1.5.0",
            "_model_name": "HTMLModel",
            "_view_count": null,
            "_view_module": "@jupyter-widgets/controls",
            "_view_module_version": "1.5.0",
            "_view_name": "HTMLView",
            "description": "",
            "description_tooltip": null,
            "layout": "IPY_MODEL_9cbe75fd30b54b98b2383aae4ac79d0b",
            "placeholder": "​",
            "style": "IPY_MODEL_ae9024af898841d0b23654cf516abfe6",
            "value": " 3.39G/3.39G [01:15&lt;00:00, 57.2MB/s]"
          }
        },
        "09f0f18315db4b1086d2001286c99561": {
          "model_module": "@jupyter-widgets/controls",
          "model_module_version": "1.5.0",
          "model_name": "ProgressStyleModel",
          "state": {
            "_model_module": "@jupyter-widgets/controls",
            "_model_module_version": "1.5.0",
            "_model_name": "ProgressStyleModel",
            "_view_count": null,
            "_view_module": "@jupyter-widgets/base",
            "_view_module_version": "1.2.0",
            "_view_name": "StyleView",
            "bar_color": null,
            "description_width": ""
          }
        },
        "1697e78b9e544be881a564cb805da2f0": {
          "model_module": "@jupyter-widgets/controls",
          "model_module_version": "1.5.0",
          "model_name": "DescriptionStyleModel",
          "state": {
            "_model_module": "@jupyter-widgets/controls",
            "_model_module_version": "1.5.0",
            "_model_name": "DescriptionStyleModel",
            "_view_count": null,
            "_view_module": "@jupyter-widgets/base",
            "_view_module_version": "1.2.0",
            "_view_name": "StyleView",
            "description_width": ""
          }
        },
        "41afae4c65e54535b00ad0f43bece98a": {
          "model_module": "@jupyter-widgets/controls",
          "model_module_version": "1.5.0",
          "model_name": "FloatProgressModel",
          "state": {
            "_dom_classes": [],
            "_model_module": "@jupyter-widgets/controls",
            "_model_module_version": "1.5.0",
            "_model_name": "FloatProgressModel",
            "_view_count": null,
            "_view_module": "@jupyter-widgets/controls",
            "_view_module_version": "1.5.0",
            "_view_name": "ProgressView",
            "bar_style": "success",
            "description": "",
            "description_tooltip": null,
            "layout": "IPY_MODEL_61b30c766d434922a60895684c6b6f69",
            "max": 3644258522,
            "min": 0,
            "orientation": "horizontal",
            "style": "IPY_MODEL_09f0f18315db4b1086d2001286c99561",
            "value": 3644258522
          }
        },
        "548c067aaa0b433c8c1d75c29cfa9ba3": {
          "model_module": "@jupyter-widgets/controls",
          "model_module_version": "1.5.0",
          "model_name": "HTMLModel",
          "state": {
            "_dom_classes": [],
            "_model_module": "@jupyter-widgets/controls",
            "_model_module_version": "1.5.0",
            "_model_name": "HTMLModel",
            "_view_count": null,
            "_view_module": "@jupyter-widgets/controls",
            "_view_module_version": "1.5.0",
            "_view_name": "HTMLView",
            "description": "",
            "description_tooltip": null,
            "layout": "IPY_MODEL_62c7cdbea9ae44c4a7b7ab618d71f9ab",
            "placeholder": "​",
            "style": "IPY_MODEL_1697e78b9e544be881a564cb805da2f0",
            "value": "100%"
          }
        },
        "61b30c766d434922a60895684c6b6f69": {
          "model_module": "@jupyter-widgets/base",
          "model_module_version": "1.2.0",
          "model_name": "LayoutModel",
          "state": {
            "_model_module": "@jupyter-widgets/base",
            "_model_module_version": "1.2.0",
            "_model_name": "LayoutModel",
            "_view_count": null,
            "_view_module": "@jupyter-widgets/base",
            "_view_module_version": "1.2.0",
            "_view_name": "LayoutView",
            "align_content": null,
            "align_items": null,
            "align_self": null,
            "border": null,
            "bottom": null,
            "display": null,
            "flex": null,
            "flex_flow": null,
            "grid_area": null,
            "grid_auto_columns": null,
            "grid_auto_flow": null,
            "grid_auto_rows": null,
            "grid_column": null,
            "grid_gap": null,
            "grid_row": null,
            "grid_template_areas": null,
            "grid_template_columns": null,
            "grid_template_rows": null,
            "height": null,
            "justify_content": null,
            "justify_items": null,
            "left": null,
            "margin": null,
            "max_height": null,
            "max_width": null,
            "min_height": null,
            "min_width": null,
            "object_fit": null,
            "object_position": null,
            "order": null,
            "overflow": null,
            "overflow_x": null,
            "overflow_y": null,
            "padding": null,
            "right": null,
            "top": null,
            "visibility": null,
            "width": null
          }
        },
        "62c7cdbea9ae44c4a7b7ab618d71f9ab": {
          "model_module": "@jupyter-widgets/base",
          "model_module_version": "1.2.0",
          "model_name": "LayoutModel",
          "state": {
            "_model_module": "@jupyter-widgets/base",
            "_model_module_version": "1.2.0",
            "_model_name": "LayoutModel",
            "_view_count": null,
            "_view_module": "@jupyter-widgets/base",
            "_view_module_version": "1.2.0",
            "_view_name": "LayoutView",
            "align_content": null,
            "align_items": null,
            "align_self": null,
            "border": null,
            "bottom": null,
            "display": null,
            "flex": null,
            "flex_flow": null,
            "grid_area": null,
            "grid_auto_columns": null,
            "grid_auto_flow": null,
            "grid_auto_rows": null,
            "grid_column": null,
            "grid_gap": null,
            "grid_row": null,
            "grid_template_areas": null,
            "grid_template_columns": null,
            "grid_template_rows": null,
            "height": null,
            "justify_content": null,
            "justify_items": null,
            "left": null,
            "margin": null,
            "max_height": null,
            "max_width": null,
            "min_height": null,
            "min_width": null,
            "object_fit": null,
            "object_position": null,
            "order": null,
            "overflow": null,
            "overflow_x": null,
            "overflow_y": null,
            "padding": null,
            "right": null,
            "top": null,
            "visibility": null,
            "width": null
          }
        },
        "7ef09c4e8d6f4bfbaeb14939998f5204": {
          "model_module": "@jupyter-widgets/controls",
          "model_module_version": "1.5.0",
          "model_name": "HBoxModel",
          "state": {
            "_dom_classes": [],
            "_model_module": "@jupyter-widgets/controls",
            "_model_module_version": "1.5.0",
            "_model_name": "HBoxModel",
            "_view_count": null,
            "_view_module": "@jupyter-widgets/controls",
            "_view_module_version": "1.5.0",
            "_view_name": "HBoxView",
            "box_style": "",
            "children": [
              "IPY_MODEL_548c067aaa0b433c8c1d75c29cfa9ba3",
              "IPY_MODEL_41afae4c65e54535b00ad0f43bece98a",
              "IPY_MODEL_03a75d603c384f0fad9c9caaefafa637"
            ],
            "layout": "IPY_MODEL_fb0087f9938744b1a182201334ffad76"
          }
        },
        "9cbe75fd30b54b98b2383aae4ac79d0b": {
          "model_module": "@jupyter-widgets/base",
          "model_module_version": "1.2.0",
          "model_name": "LayoutModel",
          "state": {
            "_model_module": "@jupyter-widgets/base",
            "_model_module_version": "1.2.0",
            "_model_name": "LayoutModel",
            "_view_count": null,
            "_view_module": "@jupyter-widgets/base",
            "_view_module_version": "1.2.0",
            "_view_name": "LayoutView",
            "align_content": null,
            "align_items": null,
            "align_self": null,
            "border": null,
            "bottom": null,
            "display": null,
            "flex": null,
            "flex_flow": null,
            "grid_area": null,
            "grid_auto_columns": null,
            "grid_auto_flow": null,
            "grid_auto_rows": null,
            "grid_column": null,
            "grid_gap": null,
            "grid_row": null,
            "grid_template_areas": null,
            "grid_template_columns": null,
            "grid_template_rows": null,
            "height": null,
            "justify_content": null,
            "justify_items": null,
            "left": null,
            "margin": null,
            "max_height": null,
            "max_width": null,
            "min_height": null,
            "min_width": null,
            "object_fit": null,
            "object_position": null,
            "order": null,
            "overflow": null,
            "overflow_x": null,
            "overflow_y": null,
            "padding": null,
            "right": null,
            "top": null,
            "visibility": null,
            "width": null
          }
        },
        "ae9024af898841d0b23654cf516abfe6": {
          "model_module": "@jupyter-widgets/controls",
          "model_module_version": "1.5.0",
          "model_name": "DescriptionStyleModel",
          "state": {
            "_model_module": "@jupyter-widgets/controls",
            "_model_module_version": "1.5.0",
            "_model_name": "DescriptionStyleModel",
            "_view_count": null,
            "_view_module": "@jupyter-widgets/base",
            "_view_module_version": "1.2.0",
            "_view_name": "StyleView",
            "description_width": ""
          }
        },
        "fb0087f9938744b1a182201334ffad76": {
          "model_module": "@jupyter-widgets/base",
          "model_module_version": "1.2.0",
          "model_name": "LayoutModel",
          "state": {
            "_model_module": "@jupyter-widgets/base",
            "_model_module_version": "1.2.0",
            "_model_name": "LayoutModel",
            "_view_count": null,
            "_view_module": "@jupyter-widgets/base",
            "_view_module_version": "1.2.0",
            "_view_name": "LayoutView",
            "align_content": null,
            "align_items": null,
            "align_self": null,
            "border": null,
            "bottom": null,
            "display": null,
            "flex": null,
            "flex_flow": null,
            "grid_area": null,
            "grid_auto_columns": null,
            "grid_auto_flow": null,
            "grid_auto_rows": null,
            "grid_column": null,
            "grid_gap": null,
            "grid_row": null,
            "grid_template_areas": null,
            "grid_template_columns": null,
            "grid_template_rows": null,
            "height": null,
            "justify_content": null,
            "justify_items": null,
            "left": null,
            "margin": null,
            "max_height": null,
            "max_width": null,
            "min_height": null,
            "min_width": null,
            "object_fit": null,
            "object_position": null,
            "order": null,
            "overflow": null,
            "overflow_x": null,
            "overflow_y": null,
            "padding": null,
            "right": null,
            "top": null,
            "visibility": null,
            "width": null
          }
        }
      }
    }
  },
  "nbformat": 4,
  "nbformat_minor": 0
}
