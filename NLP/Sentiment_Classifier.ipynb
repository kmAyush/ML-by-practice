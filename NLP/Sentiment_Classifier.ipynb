{
 "cells": [
  {
   "cell_type": "code",
   "execution_count": 2,
   "metadata": {},
   "outputs": [],
   "source": [
    "import numpy as np\n",
    "import matplotlib.pyplot as plt\n",
    "import os"
   ]
  },
  {
   "cell_type": "code",
   "execution_count": 3,
   "metadata": {},
   "outputs": [
    {
     "data": {
      "text/plain": [
       "0"
      ]
     },
     "execution_count": 3,
     "metadata": {},
     "output_type": "execute_result"
    }
   ],
   "source": [
    "# Save dataset\n",
    "os.system('wget -O train_data.csv \"https://docs.google.com/spreadsheets/d/176-KrOP8nhLpoW91UnrOY9oq_-I0XYNKS1zmqIErFsA/gviz/tq?tqx=out:csv&sheet=train_data.csv\" -q')\n",
    "os.system('wget -O val_data.csv \"https://docs.google.com/spreadsheets/d/1YxjoAbatow3F5lbPEODToa8-YWvJoTY0aABS9zaXk-c/gviz/tq?tqx=out:csv&sheet=val_data.csv\" -q')\n",
    "os.system('wget -O test_data.csv \"https://docs.google.com/spreadsheets/d/1YxjoAbatow3F5lbPEODToa8-YWvJoTY0aABS9zaXk-c/gviz/tq?tqx=out:csv&sheet=val_data.csv\" -q')"
   ]
  },
  {
   "cell_type": "code",
   "execution_count": 4,
   "metadata": {},
   "outputs": [],
   "source": [
    "import pandas as pd\n",
    "df_train = pd.read_csv('train_data.csv')\n",
    "df_valid = pd.read_csv('val_data.csv')\n",
    "df_test = pd.read_csv('test_data.csv')"
   ]
  },
  {
   "cell_type": "code",
   "execution_count": 5,
   "metadata": {},
   "outputs": [
    {
     "data": {
      "text/html": [
       "<div>\n",
       "<style scoped>\n",
       "    .dataframe tbody tr th:only-of-type {\n",
       "        vertical-align: middle;\n",
       "    }\n",
       "\n",
       "    .dataframe tbody tr th {\n",
       "        vertical-align: top;\n",
       "    }\n",
       "\n",
       "    .dataframe thead th {\n",
       "        text-align: right;\n",
       "    }\n",
       "</style>\n",
       "<table border=\"1\" class=\"dataframe\">\n",
       "  <thead>\n",
       "    <tr style=\"text-align: right;\">\n",
       "      <th></th>\n",
       "      <th>review</th>\n",
       "      <th>sentiment</th>\n",
       "    </tr>\n",
       "  </thead>\n",
       "  <tbody>\n",
       "    <tr>\n",
       "      <th>0</th>\n",
       "      <td>I've watched this documentary twice - and alth...</td>\n",
       "      <td>positive</td>\n",
       "    </tr>\n",
       "    <tr>\n",
       "      <th>1</th>\n",
       "      <td>This is probably the worst movie I've seen in ...</td>\n",
       "      <td>negative</td>\n",
       "    </tr>\n",
       "    <tr>\n",
       "      <th>2</th>\n",
       "      <td>Superb story of a dedicated young teacher who ...</td>\n",
       "      <td>positive</td>\n",
       "    </tr>\n",
       "    <tr>\n",
       "      <th>3</th>\n",
       "      <td>&lt;br /&gt;&lt;br /&gt;Spoilers&lt;br /&gt;&lt;br /&gt;I'm going to b...</td>\n",
       "      <td>negative</td>\n",
       "    </tr>\n",
       "    <tr>\n",
       "      <th>4</th>\n",
       "      <td>What can be said, really... \"The Tenant\" is a ...</td>\n",
       "      <td>positive</td>\n",
       "    </tr>\n",
       "  </tbody>\n",
       "</table>\n",
       "</div>"
      ],
      "text/plain": [
       "                                              review sentiment\n",
       "0  I've watched this documentary twice - and alth...  positive\n",
       "1  This is probably the worst movie I've seen in ...  negative\n",
       "2  Superb story of a dedicated young teacher who ...  positive\n",
       "3  <br /><br />Spoilers<br /><br />I'm going to b...  negative\n",
       "4  What can be said, really... \"The Tenant\" is a ...  positive"
      ]
     },
     "execution_count": 5,
     "metadata": {},
     "output_type": "execute_result"
    }
   ],
   "source": [
    "df_train.head()"
   ]
  },
  {
   "cell_type": "code",
   "execution_count": 6,
   "metadata": {},
   "outputs": [],
   "source": [
    "# Prepare data as X, Y\n",
    "Xd, Yd = df_train.review.values.tolist(), df_train.sentiment.values.tolist()\n",
    "Xv, Yv = df_valid.review.values.tolist(), df_valid.sentiment.values.tolist()\n",
    "Xt, Yt = df_test.review.values.tolist(), df_test.sentiment.values.tolist()\n",
    "\n",
    "sentiment = ['negative', 'positive']\n",
    "Yd = [sentiment.index(y) for y in Yd]\n",
    "Yv = [sentiment.index(y) for y in Yv]\n",
    "Yt = [sentiment.index(y) for y in Yt]"
   ]
  },
  {
   "cell_type": "markdown",
   "metadata": {},
   "source": [
    "## Rule based classification"
   ]
  },
  {
   "cell_type": "code",
   "execution_count": 7,
   "metadata": {},
   "outputs": [],
   "source": [
    "# Extract features\n",
    "def extract_features(X):\n",
    "    \n",
    "    feats = {'good_count': 0, 'bad_count': 0, 'bias': 1}\n",
    "    words = X.split(' ')\n",
    "    pos_words = ['good', 'great', 'excellent', 'positive', 'love', 'like', \n",
    "                 'awesome', 'amazing', 'wonderful', 'best', 'better', \n",
    "                 'beautiful', 'nice', 'fantastic', 'superb', \n",
    "                 'incredible', 'perfect', 'well', 'fun', 'enjoy', \n",
    "                 'enjoyable', 'enjoyed', 'enjoying', 'enjoyment']\n",
    "    \n",
    "    neg_words = ['hate', 'bad', 'horrible', 'awful', 'terrible', 'mess', 'frustating', 'frustatingly',\n",
    "                 'worst', 'dumb', 'poor']\n",
    "    \n",
    "    for x in words:\n",
    "        if x in pos_words:\n",
    "            feats['good_count'] = feats.get('good_count', 0) + feats['bias']\n",
    "        if x in neg_words:\n",
    "            feats['bad_count'] = feats.get('good_count', 0) + feats['bias'] \n",
    "    return feats\n",
    "\n",
    "def predict(X, w):\n",
    "    feats = extract_features(X)\n",
    "    score = 0\n",
    "    for f in feats:\n",
    "        score += feats[f] * w[f]\n",
    "    return 1 if score > 0 else 0\n",
    "\n",
    "def get_feature_weights():\n",
    "    return {'good_count': 1.0, 'bad_count': -1.0, 'bias': 0.5}\n",
    "\n",
    "def accuracy(Y_true, Y_pred):\n",
    "    correct = 0.0\n",
    "    total = len(Y_true)\n",
    "    assert total == len(Y_pred)\n",
    "\n",
    "    for i in range(total):\n",
    "        if Y_true[i] == Y_pred[i]:\n",
    "            correct += 1\n",
    "    \n",
    "    if total > 0:\n",
    "        return 100.0 * correct / total\n",
    "    return 0.0\n"
   ]
  },
  {
   "cell_type": "code",
   "execution_count": 8,
   "metadata": {},
   "outputs": [
    {
     "name": "stdout",
     "output_type": "stream",
     "text": [
      "60.475\n"
     ]
    }
   ],
   "source": [
    "feats_wt = get_feature_weights()\n",
    "predictions = []\n",
    "\n",
    "for x in Xt:\n",
    "    y = predict(x, feats_wt)\n",
    "    predictions.append(y)\n",
    "\n",
    "print(accuracy(Yt, predictions))"
   ]
  },
  {
   "cell_type": "code",
   "execution_count": 18,
   "metadata": {},
   "outputs": [],
   "source": [
    "from sklearn.linear_model import LogisticRegression\n",
    "def get_learnable_wt(Xd, Yd):\n",
    "    feats_name = list(extract_features(Xd[0]).keys())\n",
    "    all_feats = []\n",
    "    for x in Xd:\n",
    "        feats = []\n",
    "        feat_dict = extract_features(x)\n",
    "        for f in feats_name:\n",
    "            feats.append(feat_dict[f])\n",
    "        all_feats.append(feats)\n",
    "\n",
    "    clf = LogisticRegression(fit_intercept=False, random_state = 42).fit(all_feats, Yd)\n",
    "    coeffs = clf.coef_[0]\n",
    "    coffs_dict = {feats_name[i]: coeffs[i] for i in range(len(feats_name))}\n",
    "    return coffs_dict"
   ]
  },
  {
   "cell_type": "code",
   "execution_count": 19,
   "metadata": {},
   "outputs": [
    {
     "name": "stdout",
     "output_type": "stream",
     "text": [
      "Accuracy on Logistic Regression :  66.7\n"
     ]
    }
   ],
   "source": [
    "feats_wt_logistic = get_learnable_wt(Xd, Yd)\n",
    "predictions = []\n",
    "\n",
    "for x in Xt:\n",
    "    y = predict(x, feats_wt_logistic)\n",
    "    predictions.append(y)\n",
    "\n",
    "print(\"Accuracy on Logistic Regression : \",accuracy(Yt, predictions))"
   ]
  },
  {
   "cell_type": "code",
   "execution_count": 17,
   "metadata": {},
   "outputs": [
    {
     "data": {
      "text/plain": [
       "(-2.0, 2.0)"
      ]
     },
     "execution_count": 17,
     "metadata": {},
     "output_type": "execute_result"
    },
    {
     "data": {
      "image/png": "[encoded data removed]",
      "text/plain": [
       "<Figure size 640x480 with 1 Axes>"
      ]
     },
     "metadata": {},
     "output_type": "display_data"
    }
   ],
   "source": [
    "import matplotlib.pyplot as plt\n",
    "import numpy as np\n",
    "\n",
    "feats_names = list(feats_wt_logistic.keys())\n",
    "manual_wt = [feats_wt[f] for f in feats_names]\n",
    "logistic_wt = [feats_wt_logistic[f] for f in feats_names]\n",
    "\n",
    "wt_dict = {'manual': manual_wt, 'logistic': logistic_wt}\n",
    "x = np.arange(len(feats_names))  # the label locations\n",
    "width = 0.35  # the width of the bars\n",
    "multiplier = 0\n",
    "\n",
    "fig, ax = plt.subplots(layout='constrained');\n",
    "\n",
    "for attribute, measurement in wt_dict.items():\n",
    "    offset = width * multiplier\n",
    "    rects = ax.bar(x + offset, measurement, width, label=attribute)\n",
    "    ax.bar_label(rects, padding=3)\n",
    "    multiplier += 1\n",
    "\n",
    "# Add some text for labels, title and custom x-axis tick labels, etc.\n",
    "ax.set_ylabel('weight')\n",
    "ax.set_title('Comparing Manual vs learnable weights comparison')\n",
    "ax.set_xticks(x + width, feats_names)\n",
    "ax.legend(loc='upper left', ncols=2)\n",
    "ax.set_ylim(-2, 2)"
   ]
  },
  {
   "cell_type": "markdown",
   "metadata": {},
   "source": [
    "## Using Bag of Words"
   ]
  },
  {
   "cell_type": "code",
   "execution_count": 145,
   "metadata": {},
   "outputs": [],
   "source": [
    "import collections\n",
    "\n",
    "def word_to_idx(X, k = 1000):\n",
    "    \n",
    "    all_text = ' '.join(X)\n",
    "    words = all_text.split()\n",
    "    word_counts = collections.Counter(words)\n",
    "    top_k_words = [word for word,_ in word_counts.most_common(k)]\n",
    "    #print(top_k_words)\n",
    "    word_idx = {word: idx for idx, word in enumerate(top_k_words)}\n",
    "\n",
    "    return word_idx"
   ]
  },
  {
   "cell_type": "code",
   "execution_count": 146,
   "metadata": {},
   "outputs": [],
   "source": [
    "def extract_features_bow(X, word_idx):\n",
    "    features = {word: 0 for word in word_idx}\n",
    "    words = X.split()\n",
    "    for word in words:\n",
    "        if word in word_idx:\n",
    "            features[word] += 1\n",
    "    return features"
   ]
  },
  {
   "cell_type": "code",
   "execution_count": 151,
   "metadata": {},
   "outputs": [
    {
     "name": "stdout",
     "output_type": "stream",
     "text": [
      "the \t 3\n",
      "? \t 1\n",
      "When \t 1\n",
      "is \t 2\n",
      "money \t 1\n",
      "due \t 1\n",
      "are \t 1\n",
      "TAs' \t 1\n",
      "office \t 1\n",
      "hours \t 1\n",
      "How \t 0\n",
      "hard \t 1\n",
      "job \t 1\n"
     ]
    }
   ],
   "source": [
    "samples = [\n",
    "    \"When is the money due ?\",\n",
    "    \"When are the TAs' office hours ?\",\n",
    "    \"How hard is the job ?\",\n",
    "]\n",
    "word_idx = word_to_idx(samples)\n",
    "features = extract_features_bow(samples[0]+samples[1]+samples[2], word_idx)\n",
    "for f in features:\n",
    "    print(f,\"\\t\", features[f])"
   ]
  },
  {
   "cell_type": "code",
   "execution_count": 160,
   "metadata": {},
   "outputs": [],
   "source": [
    "def learnable_word_to_idx(X, Y):\n",
    "    \n",
    "    word_idx = word_to_idx(X)\n",
    "    feats_names = list(word_idx.keys())\n",
    "    \n",
    "    all_feats = []\n",
    "    for x in X:\n",
    "        f = []\n",
    "        feats_dict = extract_features_bow(x, word_idx)\n",
    "        \n",
    "        for name in feats_names:\n",
    "            f.append(feats_dict[name])\n",
    "        all_feats.append(f)\n",
    "    \n",
    "    clf = LogisticRegression(fit_intercept = False, random_state = 42).fit(all_feats, Y)\n",
    "    coeffs = clf.coef_[0]\n",
    "    coeffs_dict = {feats_names[i]: coeffs[i] for i in range(len(feats_names))}\n",
    "                  \n",
    "    return coeffs_dict"
   ]
  },
  {
   "cell_type": "code",
   "execution_count": 161,
   "metadata": {},
   "outputs": [],
   "source": [
    "def predict_bow(X, feature_wt):\n",
    "    features = extract_features_bow(X, feature_wt)\n",
    "    score = 0\n",
    "    for f_name, f_value in features.items():\n",
    "        score = score + f_value * feature_wt[f_name]\n",
    "        #print(feature_wt[f_name])#f_name, f_value, score)\n",
    "\n",
    "    return 1 if score > 0 else 0"
   ]
  },
  {
   "cell_type": "code",
   "execution_count": 169,
   "metadata": {},
   "outputs": [
    {
     "name": "stdout",
     "output_type": "stream",
     "text": [
      "Learned feature weights :\n",
      " [('the', -0.004318820945718367), ('a', -0.021809221215482306), ('and', 0.06340784541294252), ('of', 0.024747638623110406), ('to', -0.002926818407115192)]\n",
      "Accuracy on logistic regression on bow :  81.55\n"
     ]
    }
   ],
   "source": [
    "import warnings\n",
    "warnings.filterwarnings('ignore')\n",
    "\n",
    "learned_feature_wt = learnable_word_to_idx(Xd, Yd)\n",
    "print(\"Learned feature weights :\\n\", list(learned_feature_wt.items())[:5])\n",
    "preds = []\n",
    "for x in Xt:\n",
    "    y = predict_bow(x, learned_feature_wt)\n",
    "    preds.append(y)\n",
    "\n",
    "print(\"Accuracy on logistic regression on bow : \",accuracy(Yt, preds))"
   ]
  },
  {
   "cell_type": "code",
   "execution_count": 164,
   "metadata": {},
   "outputs": [
    {
     "name": "stdout",
     "output_type": "stream",
     "text": [
      "Most positive words :  ['excellent', 'amazing', 'favorite', 'perfect', 'wonderful']\n",
      "Most negative words :  ['waste', 'worst', 'poorly', 'fails', 'poor']\n"
     ]
    }
   ],
   "source": [
    "most_positive = sorted(learned_feature_wt, key=learned_feature_wt.get, reverse=True)[:5]\n",
    "most_negative = sorted(learned_feature_wt, key=learned_feature_wt.get, reverse=False)[:5]\n",
    "\n",
    "print(\"Most positive words : \", most_positive)\n",
    "print(\"Most negative words : \", most_negative)"
   ]
  },
  {
   "cell_type": "markdown",
   "metadata": {},
   "source": [
    "## Word2Vec"
   ]
  },
  {
   "cell_type": "markdown",
   "metadata": {},
   "source": [
    "Word2Vec model has Continuous bag of word and Skipgram architectures."
   ]
  },
  {
   "cell_type": "code",
   "execution_count": 247,
   "metadata": {},
   "outputs": [],
   "source": [
    "import os\n",
    "from functools import partial\n",
    "from typing import Union, Tuple\n",
    "\n",
    "from torchtext._internal.module_utils import is_module_available\n",
    "from torchtext.data.datasets_utils import (\n",
    "    _wrap_split_argument,\n",
    "    _create_dataset_directory,\n",
    ")\n",
    "\n",
    "URL = \"https://huggingface.co/Ayushkm10/SpeechToText/resolve/main/text2.zip\"\n",
    "\n",
    "\n",
    "NUM_LINES = {\n",
    "    \"train\": 36718,\n",
    "    \"valid\": 3760,\n",
    "}\n",
    "\n",
    "DATASET_NAME = \"WikiText2\"\n",
    "\n",
    "_EXTRACTED_FILES = {\n",
    "    \"train\": os.path.join(\"wikitext-2\", \"wiki.train.tokens\"),\n",
    "    \"test\": os.path.join(\"wikitext-2\", \"wiki.test.tokens\"),\n",
    "    \"valid\": os.path.join(\"wikitext-2\", \"wiki.valid.tokens\"),\n",
    "}\n",
    "\n",
    "\n",
    "def _filepath_fn(root, _=None):\n",
    "    return os.path.join(root, os.path.basename(URL))\n",
    "\n",
    "\n",
    "def _extracted_filepath_fn(root, split, _=None):\n",
    "    return os.path.join(root, _EXTRACTED_FILES[split])\n",
    "\n",
    "\n",
    "def _filter_fn(split, x):\n",
    "    return _EXTRACTED_FILES[split] in x[0]\n",
    "\n",
    "\n",
    "def WikiText21(root: str, split: Union[Tuple[str], str]):\n",
    "    \"\"\"WikiText2 Dataset\n",
    "\n",
    "    .. warning::\n",
    "\n",
    "        using datapipes is still currently subject to a few caveats. if you wish\n",
    "        to use this dataset with shuffling, multi-processing, or distributed\n",
    "        learning, please see :ref:`this note <datapipes_warnings>` for further\n",
    "        instructions.\n",
    "\n",
    "    For additional details refer to https://blog.salesforceairesearch.com/the-wikitext-long-term-dependency-language-modeling-dataset/\n",
    "\n",
    "    Number of lines per split:\n",
    "        - train: 36718\n",
    "        - valid: 3760\n",
    "        - test: 4358\n",
    "\n",
    "    Args:\n",
    "        root: Directory where the datasets are saved. Default: os.path.expanduser('~/.torchtext/cache')\n",
    "        split: split or splits to be returned. Can be a string or tuple of strings. Default: (`train`, `valid`, `test`)\n",
    "\n",
    "    :returns: DataPipe that yields text from Wikipedia articles\n",
    "    :rtype: str\n",
    "    \"\"\"\n",
    "    if not is_module_available(\"torchdata\"):\n",
    "        raise ModuleNotFoundError(\n",
    "            \"Package `torchdata` not found. Please install following instructions at https://github.com/pytorch/data\"\n",
    "        )\n",
    "    from torchdata.datapipes.iter import FileOpener, GDriveReader, HttpReader, IterableWrapper  # noqa\n",
    "\n",
    "    url_dp = IterableWrapper([URL])\n",
    "    # cache data on-disk\n",
    "    cache_compressed_dp = url_dp.on_disk_cache(\n",
    "        filepath_fn=partial(_filepath_fn, root),\n",
    "    )\n",
    "    cache_compressed_dp = HttpReader(cache_compressed_dp).end_caching(mode=\"wb\", same_filepath_fn=True)\n",
    "    cache_decompressed_dp = cache_compressed_dp.on_disk_cache(filepath_fn=partial(_extracted_filepath_fn, root, split))\n",
    "    # Extract zip and filter the appropriate split file\n",
    "    cache_decompressed_dp = (\n",
    "        FileOpener(cache_decompressed_dp, mode=\"b\").load_from_zip().filter(partial(_filter_fn, split))\n",
    "    )\n",
    "    cache_decompressed_dp = cache_decompressed_dp.end_caching(mode=\"wb\", same_filepath_fn=True)\n",
    "    data_dp = FileOpener(cache_decompressed_dp, encoding=\"utf-8\")\n",
    "    return data_dp.readlines(strip_newline=False, return_path=False).shuffle().set_shuffle(False).sharding_filter()"
   ]
  },
  {
   "cell_type": "code",
   "execution_count": 277,
   "metadata": {},
   "outputs": [],
   "source": [
    "from torchtext.data import get_tokenizer, to_map_style_dataset\n",
    "from torchtext.datasets import WikiText2\n",
    "from torchtext.vocab import build_vocab_from_iterator\n",
    "from torch.utils.data import DataLoader, Dataset\n",
    "\n",
    "MIN_WORD_FREQ = 5\n",
    "CONTEXT_LEN = 2\n",
    "MAX_SEQ_LEN = 150\n",
    "\n",
    "class TextDataset(Dataset):\n",
    "\n",
    "    def __init__(self, file_path):\n",
    "        with open(file_path, 'r') as f:\n",
    "            self.texts = f.readlines()\n",
    "\n",
    "    def __len__(self):\n",
    "        return len(self.texts)\n",
    "    \n",
    "    def __getitem__(self, idx):\n",
    "        return self.texts[idx].strip()\n",
    "    \n",
    "def get_data_iterator(ds_type, data_dir):\n",
    "    file_path = f\"{data_dir}/{ds_type}.txt\"\n",
    "    dataset = TextDataset(file_path)\n",
    "    return dataset\n",
    "\n",
    "def build_vocab(data_iter, tokenizer):\n",
    "    vocab = build_vocab_from_iterator(map(tokenizer, data_iter), specials=[\"<unk>\"],\n",
    "                                      min_freq=MIN_WORD_FREQ)\n",
    "    \n",
    "    vocab.set_default_index(vocab[\"<unk>\"])\n",
    "    return vocab"
   ]
  },
  {
   "cell_type": "code",
   "execution_count": 278,
   "metadata": {},
   "outputs": [],
   "source": [
    "import torch\n",
    "import torch.nn as nn\n",
    "\n",
    "def collate(batch, text_pipeline):\n",
    "    batch_in, batch_out = [], []\n",
    "\n",
    "    for text in batch:\n",
    "        tokens = text_pipeline(text)\n",
    "        if len(tokens) < CONTEXT_LEN * 2 + 1:# Context length on both sides\n",
    "            continue\n",
    "\n",
    "        if MAX_SEQ_LEN > 0:\n",
    "            tokens = tokens[:MAX_SEQ_LEN]\n",
    "\n",
    "        for i in range(len(tokens) - CONTEXT_LEN * 2):\n",
    "            context = tokens[i:i + CONTEXT_LEN * 2 + 1]\n",
    "            input = context.pop(CONTEXT_LEN)\n",
    "            outputs = context\n",
    "\n",
    "            for output in outputs:\n",
    "                batch_in.append(input)\n",
    "                batch_out.append(output)\n",
    "\n",
    "    batch_in = torch.tensor(batch_in, dtype=torch.long)\n",
    "    batch_out = torch.tensor(batch_out, dtype=torch.long)\n",
    "\n",
    "    return batch_in, batch_out"
   ]
  },
  {
   "cell_type": "code",
   "execution_count": 279,
   "metadata": {},
   "outputs": [],
   "source": [
    "from functools import partial\n",
    "\n",
    "def get_dataloader_vocab(ds_type, data_dir, batch_size, shuffle=True, vocab=None):\n",
    "    \n",
    "    data_iter = get_data_iterator(ds_type, data_dir)\n",
    "    tokenizer = get_tokenizer(\"basic_english\")\n",
    "\n",
    "    if vocab is None:\n",
    "        vocab = build_vocab(data_iter, tokenizer)\n",
    "    text_pipeline = lambda x: vocab(tokenizer(x))\n",
    "    \n",
    "    dataloader = DataLoader(data_iter, batch_size=batch_size, shuffle=shuffle,\n",
    "                            collate_fn=partial(collate, text_pipeline=text_pipeline))\n",
    "    \n",
    "    return dataloader, vocab"
   ]
  },
  {
   "cell_type": "code",
   "execution_count": 280,
   "metadata": {},
   "outputs": [],
   "source": [
    "\n",
    "class Skipgram(nn.Module):\n",
    "    def __init__(self, vocab_size, embed_size):\n",
    "        super().__init__()\n",
    "        self.embed = nn.Embedding(vocab_size, embed_size)\n",
    "        self.linear = nn.Linear(embed_size, vocab_size)\n",
    "\n",
    "    def forward(self, x):\n",
    "        x = self.embed(x)\n",
    "        x = self.linear(x)\n",
    "        return x\n",
    "    \n",
    "    def get_word_embedding(self):\n",
    "        embed_data = self.embed.weight.data\n",
    "        normalized_embed_data = embed_data / np.linalg.norm(embed_data, axis=1)[:, None]\n",
    "\n",
    "        return normalized_embed_data"
   ]
  },
  {
   "cell_type": "code",
   "execution_count": 284,
   "metadata": {},
   "outputs": [],
   "source": [
    "import json\n",
    "class Trainer:\n",
    "    def __init__(self, model, epochs, train_dl, valid_dl,\n",
    "                 criterion, optimizer, device, model_dir, model_name):\n",
    "        \n",
    "        self.model = model\n",
    "        self.epochs = epochs\n",
    "        self.train_dl = train_dl\n",
    "        self.valid_dl = valid_dl\n",
    "        self.criterion = criterion\n",
    "        self.optimizer = optimizer\n",
    "        self.device = device\n",
    "        self.model_dir = model_dir\n",
    "        self.model_name = model_name\n",
    "\n",
    "        self.loss = { 'train': [], 'valid': [] }\n",
    "        self.model.to(device)\n",
    "\n",
    "    def train_epoch(self):\n",
    "        self.model.train()\n",
    "        total_loss = 0\n",
    "        for x, y in self.train_dl:\n",
    "            x, y = x.to(self.device), y.to(self.device)\n",
    "            self.optimizer.zero_grad()\n",
    "            output = self.model(x)\n",
    "            loss = self.criterion(output, y)\n",
    "            loss.backward()\n",
    "            self.optimizer.step()\n",
    "            total_loss += loss.item()\n",
    "        \n",
    "        return total_loss / len(self.train_dl)\n",
    "    \n",
    "    def valid_epoch(self):\n",
    "        self.model.eval()\n",
    "        total_loss = 0\n",
    "        with torch.no_grad():\n",
    "            for x, y in self.valid_dl:\n",
    "                x, y = x.to(self.device), y.to(self.device)\n",
    "                output = self.model(x)\n",
    "                loss = self.criterion(output, y)\n",
    "                total_loss += loss.item()\n",
    "            \n",
    "        return total_loss / len(self.valid_dl)\n",
    "    \n",
    "    def save_model(self):\n",
    "        torch.save(self.model.state_dict(), f\"{self.model_dir}/{self.model_name}.pt\")\n",
    "\n",
    "    def save_loss(self):\n",
    "        loss_path = os.path.join(self.model_dir, f\"{self.model_name}_loss.json\")\n",
    "        with open(loss_path, 'wb') as f:\n",
    "            json.dump(self.loss, f)\n",
    "\n",
    "    def train(self):\n",
    "        for epoch in range(self.epochs):\n",
    "            train_loss = self.train_epoch()\n",
    "            valid_loss = self.valid_epoch()\n",
    "            self.loss['train'].append(train_loss)\n",
    "            self.loss['valid'].append(valid_loss)\n",
    "            print(f\"Epoch {epoch+1}/{self.epochs}: Train Loss: {train_loss:.4f}, Valid Loss: {valid_loss:.4f}\")\n",
    "        \n",
    "        self.save_model()\n",
    "        self.save_loss()"
   ]
  },
  {
   "cell_type": "code",
   "execution_count": 285,
   "metadata": {},
   "outputs": [],
   "source": [
    "# Setting Parameters\n",
    "model_name = \"skipgram\"\n",
    "data_dir = \"data\"\n",
    "train_batch_size = 32\n",
    "valid_batch_size = 32\n",
    "shuffle = True\n",
    "optimizer = torch.optim\n",
    "criterion = nn.CrossEntropyLoss()\n",
    "epochs = 4\n",
    "\n",
    "model_dir = \".\"\n",
    "EMBED_SIZE = 100"
   ]
  },
  {
   "cell_type": "code",
   "execution_count": 289,
   "metadata": {},
   "outputs": [
    {
     "name": "stdout",
     "output_type": "stream",
     "text": [
      "Vocab Size :  19538\n",
      "Epoch 1/4: Train Loss: 7.5824, Valid Loss: 6.5245\n",
      "Epoch 2/4: Train Loss: 6.6352, Valid Loss: 6.3374\n",
      "Epoch 3/4: Train Loss: 6.4864, Valid Loss: 6.2854\n",
      "Epoch 4/4: Train Loss: 6.4158, Valid Loss: 6.2577\n"
     ]
    },
    {
     "ename": "TypeError",
     "evalue": "a bytes-like object is required, not 'str'",
     "output_type": "error",
     "traceback": [
      "\u001b[0;31m---------------------------------------------------------------------------\u001b[0m",
      "\u001b[0;31mTypeError\u001b[0m                                 Traceback (most recent call last)",
      "Cell \u001b[0;32mIn[289], line 13\u001b[0m\n\u001b[1;32m     10\u001b[0m device \u001b[38;5;241m=\u001b[39m torch\u001b[38;5;241m.\u001b[39mdevice(\u001b[38;5;124m\"\u001b[39m\u001b[38;5;124mcuda\u001b[39m\u001b[38;5;124m\"\u001b[39m \u001b[38;5;28;01mif\u001b[39;00m torch\u001b[38;5;241m.\u001b[39mcuda\u001b[38;5;241m.\u001b[39mis_available() \u001b[38;5;28;01melse\u001b[39;00m \u001b[38;5;124m\"\u001b[39m\u001b[38;5;124mcpu\u001b[39m\u001b[38;5;124m\"\u001b[39m)\n\u001b[1;32m     12\u001b[0m trainer \u001b[38;5;241m=\u001b[39m Trainer(model, epochs, train_dl, valid_dl, criterion, optimizer, device, model_dir, model_name)\n\u001b[0;32m---> 13\u001b[0m trainer\u001b[38;5;241m.\u001b[39mtrain()\n\u001b[1;32m     14\u001b[0m \u001b[38;5;28mprint\u001b[39m(\u001b[38;5;124m\"\u001b[39m\u001b[38;5;124mTraining Completed\u001b[39m\u001b[38;5;124m\"\u001b[39m)\n\u001b[1;32m     16\u001b[0m vocab_path \u001b[38;5;241m=\u001b[39m os\u001b[38;5;241m.\u001b[39mpath\u001b[38;5;241m.\u001b[39mjoin(model_dir, \u001b[38;5;124mf\u001b[39m\u001b[38;5;124m\"\u001b[39m\u001b[38;5;132;01m{\u001b[39;00mmodel_name\u001b[38;5;132;01m}\u001b[39;00m\u001b[38;5;124m_vocab.pt\u001b[39m\u001b[38;5;124m\"\u001b[39m)\n",
      "Cell \u001b[0;32mIn[284], line 62\u001b[0m, in \u001b[0;36mTrainer.train\u001b[0;34m(self)\u001b[0m\n\u001b[1;32m     59\u001b[0m     \u001b[38;5;28mprint\u001b[39m(\u001b[38;5;124mf\u001b[39m\u001b[38;5;124m\"\u001b[39m\u001b[38;5;124mEpoch \u001b[39m\u001b[38;5;132;01m{\u001b[39;00mepoch\u001b[38;5;241m+\u001b[39m\u001b[38;5;241m1\u001b[39m\u001b[38;5;132;01m}\u001b[39;00m\u001b[38;5;124m/\u001b[39m\u001b[38;5;132;01m{\u001b[39;00m\u001b[38;5;28mself\u001b[39m\u001b[38;5;241m.\u001b[39mepochs\u001b[38;5;132;01m}\u001b[39;00m\u001b[38;5;124m: Train Loss: \u001b[39m\u001b[38;5;132;01m{\u001b[39;00mtrain_loss\u001b[38;5;132;01m:\u001b[39;00m\u001b[38;5;124m.4f\u001b[39m\u001b[38;5;132;01m}\u001b[39;00m\u001b[38;5;124m, Valid Loss: \u001b[39m\u001b[38;5;132;01m{\u001b[39;00mvalid_loss\u001b[38;5;132;01m:\u001b[39;00m\u001b[38;5;124m.4f\u001b[39m\u001b[38;5;132;01m}\u001b[39;00m\u001b[38;5;124m\"\u001b[39m)\n\u001b[1;32m     61\u001b[0m \u001b[38;5;28mself\u001b[39m\u001b[38;5;241m.\u001b[39msave_model()\n\u001b[0;32m---> 62\u001b[0m \u001b[38;5;28mself\u001b[39m\u001b[38;5;241m.\u001b[39msave_loss()\n",
      "Cell \u001b[0;32mIn[284], line 51\u001b[0m, in \u001b[0;36mTrainer.save_loss\u001b[0;34m(self)\u001b[0m\n\u001b[1;32m     49\u001b[0m loss_path \u001b[38;5;241m=\u001b[39m os\u001b[38;5;241m.\u001b[39mpath\u001b[38;5;241m.\u001b[39mjoin(\u001b[38;5;28mself\u001b[39m\u001b[38;5;241m.\u001b[39mmodel_dir, \u001b[38;5;124mf\u001b[39m\u001b[38;5;124m\"\u001b[39m\u001b[38;5;132;01m{\u001b[39;00m\u001b[38;5;28mself\u001b[39m\u001b[38;5;241m.\u001b[39mmodel_name\u001b[38;5;132;01m}\u001b[39;00m\u001b[38;5;124m_loss.json\u001b[39m\u001b[38;5;124m\"\u001b[39m)\n\u001b[1;32m     50\u001b[0m \u001b[38;5;28;01mwith\u001b[39;00m \u001b[38;5;28mopen\u001b[39m(loss_path, \u001b[38;5;124m'\u001b[39m\u001b[38;5;124mwb\u001b[39m\u001b[38;5;124m'\u001b[39m) \u001b[38;5;28;01mas\u001b[39;00m f:\n\u001b[0;32m---> 51\u001b[0m     json\u001b[38;5;241m.\u001b[39mdump(\u001b[38;5;28mself\u001b[39m\u001b[38;5;241m.\u001b[39mloss, f)\n",
      "File \u001b[0;32m~/anaconda3/lib/python3.11/json/__init__.py:180\u001b[0m, in \u001b[0;36mdump\u001b[0;34m(obj, fp, skipkeys, ensure_ascii, check_circular, allow_nan, cls, indent, separators, default, sort_keys, **kw)\u001b[0m\n\u001b[1;32m    177\u001b[0m \u001b[38;5;66;03m# could accelerate with writelines in some versions of Python, at\u001b[39;00m\n\u001b[1;32m    178\u001b[0m \u001b[38;5;66;03m# a debuggability cost\u001b[39;00m\n\u001b[1;32m    179\u001b[0m \u001b[38;5;28;01mfor\u001b[39;00m chunk \u001b[38;5;129;01min\u001b[39;00m iterable:\n\u001b[0;32m--> 180\u001b[0m     fp\u001b[38;5;241m.\u001b[39mwrite(chunk)\n",
      "\u001b[0;31mTypeError\u001b[0m: a bytes-like object is required, not 'str'"
     ]
    }
   ],
   "source": [
    "# get_dataloader_vocab(ds_type, data_dir, batch_size, shuffle=True, vocab=None):\n",
    "train_dl, vocab = get_dataloader_vocab(\"train\", data_dir, train_batch_size, shuffle)\n",
    "valid_dl, _ = get_dataloader_vocab(\"valid\", data_dir, valid_batch_size, vocab=vocab)\n",
    "\n",
    "vocab_size = len(vocab.get_stoi())\n",
    "print(\"Vocab Size : \", vocab_size)\n",
    "\n",
    "model = Skipgram(vocab_size, EMBED_SIZE)\n",
    "optimizer = torch.optim.Adam(model.parameters())\n",
    "device = torch.device(\"cuda\" if torch.cuda.is_available() else \"cpu\")\n",
    "\n",
    "trainer = Trainer(model, epochs, train_dl, valid_dl, criterion, optimizer, device, model_dir, model_name)\n",
    "trainer.train()\n",
    "print(\"Training Completed\")\n",
    "\n",
    "vocab_path = os.path.join(model_dir, f\"{model_name}_vocab.pt\")\n",
    "torch.save(vocab, vocab_path)\n",
    "print(\"Vocab file saved\", vocab_path)"
   ]
  },
  {
   "cell_type": "markdown",
   "metadata": {},
   "source": [
    "### Analysis of performance of Skipgram model"
   ]
  },
  {
   "cell_type": "code",
   "execution_count": 290,
   "metadata": {},
   "outputs": [],
   "source": [
    "# device = torch.device(\"cuda\" if torch.cuda.is_available() else \"cpu\")\n",
    "\n",
    "# model = torch.load(f\"{model_dir}/{model_name}.pt\", map_location=device)\n",
    "# vocab = torch.load(vocab_path)\n",
    "\n",
    "word_embedding = model.get_word_embedding()\n",
    "np.save(f\"{model_dir}/{model_name}_word_embedding.npy\", word_embedding)"
   ]
  },
  {
   "cell_type": "code",
   "execution_count": 315,
   "metadata": {},
   "outputs": [],
   "source": [
    "from sklearn.metrics.pairwise import cosine_similarity\n",
    "\n",
    "def get_similarity(words):\n",
    "    word_vectors = [word_embedding[vocab[word]] for word in words]\n",
    "    word_vectors = [w.numpy() for w in word_vectors]\n",
    "    \n",
    "    norm = np.linalg.norm(word_vectors, axis=1, keepdims=True)\n",
    "    normalized_word_vectors = word_vectors / norm\n",
    "\n",
    "    similarity_matrix = np.dot(normalized_word_vectors, normalized_word_vectors.T)\n",
    "\n",
    "    similarity = cosine_similarity(normalized_word_vectors)\n",
    "    return word_vectors, similarity\n"
   ]
  },
  {
   "cell_type": "code",
   "execution_count": 316,
   "metadata": {},
   "outputs": [
    {
     "data": {
      "text/html": [
       "<div>\n",
       "<style scoped>\n",
       "    .dataframe tbody tr th:only-of-type {\n",
       "        vertical-align: middle;\n",
       "    }\n",
       "\n",
       "    .dataframe tbody tr th {\n",
       "        vertical-align: top;\n",
       "    }\n",
       "\n",
       "    .dataframe thead th {\n",
       "        text-align: right;\n",
       "    }\n",
       "</style>\n",
       "<table border=\"1\" class=\"dataframe\">\n",
       "  <thead>\n",
       "    <tr style=\"text-align: right;\">\n",
       "      <th></th>\n",
       "      <th>king</th>\n",
       "      <th>queen</th>\n",
       "      <th>river</th>\n",
       "      <th>water</th>\n",
       "      <th>ocean</th>\n",
       "      <th>tree</th>\n",
       "      <th>plant</th>\n",
       "      <th>happy</th>\n",
       "      <th>glad</th>\n",
       "      <th>mother</th>\n",
       "      <th>daughter</th>\n",
       "    </tr>\n",
       "  </thead>\n",
       "  <tbody>\n",
       "    <tr>\n",
       "      <th>king</th>\n",
       "      <td>1.000000</td>\n",
       "      <td>0.210590</td>\n",
       "      <td>-0.036448</td>\n",
       "      <td>0.055717</td>\n",
       "      <td>-0.151465</td>\n",
       "      <td>0.127803</td>\n",
       "      <td>-0.122636</td>\n",
       "      <td>0.021989</td>\n",
       "      <td>-0.057632</td>\n",
       "      <td>0.113291</td>\n",
       "      <td>0.141425</td>\n",
       "    </tr>\n",
       "    <tr>\n",
       "      <th>queen</th>\n",
       "      <td>0.210590</td>\n",
       "      <td>1.000000</td>\n",
       "      <td>-0.017246</td>\n",
       "      <td>-0.031548</td>\n",
       "      <td>0.035303</td>\n",
       "      <td>-0.075660</td>\n",
       "      <td>0.080333</td>\n",
       "      <td>-0.084932</td>\n",
       "      <td>0.207922</td>\n",
       "      <td>0.036996</td>\n",
       "      <td>0.086051</td>\n",
       "    </tr>\n",
       "    <tr>\n",
       "      <th>river</th>\n",
       "      <td>-0.036448</td>\n",
       "      <td>-0.017246</td>\n",
       "      <td>1.000000</td>\n",
       "      <td>0.165698</td>\n",
       "      <td>-0.032748</td>\n",
       "      <td>0.309853</td>\n",
       "      <td>0.130715</td>\n",
       "      <td>-0.153476</td>\n",
       "      <td>-0.189851</td>\n",
       "      <td>-0.026085</td>\n",
       "      <td>-0.076089</td>\n",
       "    </tr>\n",
       "    <tr>\n",
       "      <th>water</th>\n",
       "      <td>0.055717</td>\n",
       "      <td>-0.031548</td>\n",
       "      <td>0.165698</td>\n",
       "      <td>1.000000</td>\n",
       "      <td>-0.008978</td>\n",
       "      <td>0.035917</td>\n",
       "      <td>-0.046715</td>\n",
       "      <td>-0.000505</td>\n",
       "      <td>-0.085882</td>\n",
       "      <td>0.089777</td>\n",
       "      <td>0.062529</td>\n",
       "    </tr>\n",
       "    <tr>\n",
       "      <th>ocean</th>\n",
       "      <td>-0.151465</td>\n",
       "      <td>0.035303</td>\n",
       "      <td>-0.032748</td>\n",
       "      <td>-0.008978</td>\n",
       "      <td>1.000000</td>\n",
       "      <td>-0.058752</td>\n",
       "      <td>0.105082</td>\n",
       "      <td>-0.044772</td>\n",
       "      <td>0.092742</td>\n",
       "      <td>0.018859</td>\n",
       "      <td>-0.015513</td>\n",
       "    </tr>\n",
       "    <tr>\n",
       "      <th>tree</th>\n",
       "      <td>0.127803</td>\n",
       "      <td>-0.075660</td>\n",
       "      <td>0.309853</td>\n",
       "      <td>0.035917</td>\n",
       "      <td>-0.058752</td>\n",
       "      <td>1.000000</td>\n",
       "      <td>-0.080545</td>\n",
       "      <td>-0.117196</td>\n",
       "      <td>-0.130718</td>\n",
       "      <td>-0.045972</td>\n",
       "      <td>0.136099</td>\n",
       "    </tr>\n",
       "    <tr>\n",
       "      <th>plant</th>\n",
       "      <td>-0.122636</td>\n",
       "      <td>0.080333</td>\n",
       "      <td>0.130715</td>\n",
       "      <td>-0.046715</td>\n",
       "      <td>0.105082</td>\n",
       "      <td>-0.080545</td>\n",
       "      <td>1.000000</td>\n",
       "      <td>-0.042293</td>\n",
       "      <td>0.077504</td>\n",
       "      <td>-0.058070</td>\n",
       "      <td>-0.194986</td>\n",
       "    </tr>\n",
       "    <tr>\n",
       "      <th>happy</th>\n",
       "      <td>0.021989</td>\n",
       "      <td>-0.084932</td>\n",
       "      <td>-0.153476</td>\n",
       "      <td>-0.000505</td>\n",
       "      <td>-0.044772</td>\n",
       "      <td>-0.117196</td>\n",
       "      <td>-0.042293</td>\n",
       "      <td>1.000000</td>\n",
       "      <td>0.081790</td>\n",
       "      <td>-0.040551</td>\n",
       "      <td>0.065216</td>\n",
       "    </tr>\n",
       "    <tr>\n",
       "      <th>glad</th>\n",
       "      <td>-0.057632</td>\n",
       "      <td>0.207922</td>\n",
       "      <td>-0.189851</td>\n",
       "      <td>-0.085882</td>\n",
       "      <td>0.092742</td>\n",
       "      <td>-0.130718</td>\n",
       "      <td>0.077504</td>\n",
       "      <td>0.081790</td>\n",
       "      <td>1.000000</td>\n",
       "      <td>0.150656</td>\n",
       "      <td>0.158542</td>\n",
       "    </tr>\n",
       "    <tr>\n",
       "      <th>mother</th>\n",
       "      <td>0.113291</td>\n",
       "      <td>0.036996</td>\n",
       "      <td>-0.026085</td>\n",
       "      <td>0.089777</td>\n",
       "      <td>0.018859</td>\n",
       "      <td>-0.045972</td>\n",
       "      <td>-0.058070</td>\n",
       "      <td>-0.040551</td>\n",
       "      <td>0.150656</td>\n",
       "      <td>1.000000</td>\n",
       "      <td>0.114590</td>\n",
       "    </tr>\n",
       "    <tr>\n",
       "      <th>daughter</th>\n",
       "      <td>0.141425</td>\n",
       "      <td>0.086051</td>\n",
       "      <td>-0.076089</td>\n",
       "      <td>0.062529</td>\n",
       "      <td>-0.015513</td>\n",
       "      <td>0.136099</td>\n",
       "      <td>-0.194986</td>\n",
       "      <td>0.065216</td>\n",
       "      <td>0.158542</td>\n",
       "      <td>0.114590</td>\n",
       "      <td>1.000000</td>\n",
       "    </tr>\n",
       "  </tbody>\n",
       "</table>\n",
       "</div>"
      ],
      "text/plain": [
       "              king     queen     river     water     ocean      tree  \\\n",
       "king      1.000000  0.210590 -0.036448  0.055717 -0.151465  0.127803   \n",
       "queen     0.210590  1.000000 -0.017246 -0.031548  0.035303 -0.075660   \n",
       "river    -0.036448 -0.017246  1.000000  0.165698 -0.032748  0.309853   \n",
       "water     0.055717 -0.031548  0.165698  1.000000 -0.008978  0.035917   \n",
       "ocean    -0.151465  0.035303 -0.032748 -0.008978  1.000000 -0.058752   \n",
       "tree      0.127803 -0.075660  0.309853  0.035917 -0.058752  1.000000   \n",
       "plant    -0.122636  0.080333  0.130715 -0.046715  0.105082 -0.080545   \n",
       "happy     0.021989 -0.084932 -0.153476 -0.000505 -0.044772 -0.117196   \n",
       "glad     -0.057632  0.207922 -0.189851 -0.085882  0.092742 -0.130718   \n",
       "mother    0.113291  0.036996 -0.026085  0.089777  0.018859 -0.045972   \n",
       "daughter  0.141425  0.086051 -0.076089  0.062529 -0.015513  0.136099   \n",
       "\n",
       "             plant     happy      glad    mother  daughter  \n",
       "king     -0.122636  0.021989 -0.057632  0.113291  0.141425  \n",
       "queen     0.080333 -0.084932  0.207922  0.036996  0.086051  \n",
       "river     0.130715 -0.153476 -0.189851 -0.026085 -0.076089  \n",
       "water    -0.046715 -0.000505 -0.085882  0.089777  0.062529  \n",
       "ocean     0.105082 -0.044772  0.092742  0.018859 -0.015513  \n",
       "tree     -0.080545 -0.117196 -0.130718 -0.045972  0.136099  \n",
       "plant     1.000000 -0.042293  0.077504 -0.058070 -0.194986  \n",
       "happy    -0.042293  1.000000  0.081790 -0.040551  0.065216  \n",
       "glad      0.077504  0.081790  1.000000  0.150656  0.158542  \n",
       "mother   -0.058070 -0.040551  0.150656  1.000000  0.114590  \n",
       "daughter -0.194986  0.065216  0.158542  0.114590  1.000000  "
      ]
     },
     "execution_count": 316,
     "metadata": {},
     "output_type": "execute_result"
    }
   ],
   "source": [
    "words = ['king', 'queen', 'river', 'water', 'ocean', 'tree', 'plant', 'happy', 'glad', 'mother', 'daughter']\n",
    "\n",
    "word_vectors, similarity = get_similarity(words)\n",
    "df = pd.DataFrame(similarity, index = words, columns = words)\n",
    "df"
   ]
  },
  {
   "cell_type": "code",
   "execution_count": 318,
   "metadata": {},
   "outputs": [
    {
     "data": {
      "text/plain": [
       "<Axes: >"
      ]
     },
     "execution_count": 318,
     "metadata": {},
     "output_type": "execute_result"
    },
    {
     "data": {
      "image/png": "[encoded data removed]",
      "text/plain": [
       "<Figure size 640x480 with 2 Axes>"
      ]
     },
     "metadata": {},
     "output_type": "display_data"
    }
   ],
   "source": [
    "import seaborn as sns\n",
    "sns.heatmap(df)"
   ]
  },
  {
   "cell_type": "code",
   "execution_count": 319,
   "metadata": {},
   "outputs": [],
   "source": [
    "# Dimensionality Reduction\n",
    "from sklearn.decomposition import PCA\n",
    "\n",
    "pca = PCA(n_components=2)\n",
    "reduced_word_vectors = pca.fit_transform(word_vectors)"
   ]
  },
  {
   "cell_type": "code",
   "execution_count": 320,
   "metadata": {},
   "outputs": [
    {
     "data": {
      "image/png": "[encoded data removed]",
      "text/plain": [
       "<Figure size 800x500 with 1 Axes>"
      ]
     },
     "metadata": {},
     "output_type": "display_data"
    }
   ],
   "source": [
    "plt.figure(figsize=(8, 5))\n",
    "plt.scatter(reduced_word_vectors[:, 0], reduced_word_vectors[:, 1], s = 12, color = \"red\")\n",
    "plt.xlim([-1, 1])\n",
    "plt.ylim([-1, 1])\n",
    "plt.title(\"Word Similarity\")\n",
    "x, y = reduced_word_vectors[:, 0], reduced_word_vectors[:, 1]\n",
    "offset = 0.5\n",
    "for i in range(len(x)):\n",
    "    label = words[i]\n",
    "    plt.annotate(label, (x[i], y[i]), xytext=(x[i] + offset, y[i] + offset),\n",
    "                 textcoords = 'offset points', ha = 'center', va = 'center')"
   ]
  },
  {
   "cell_type": "code",
   "execution_count": 334,
   "metadata": {},
   "outputs": [],
   "source": [
    "def get_top_similarity(word:str, top_n:int = 10):\n",
    "    word_id = vocab[word]\n",
    "    if word_id is None:\n",
    "        print(f\"{word} not found in vocab\")\n",
    "        return\n",
    "    \n",
    "    word_vector = word_embedding[word_id]\n",
    "    word_vector = np.reshape(word_vector, (len(word_vector), 1))\n",
    "\n",
    "    distance = np.matmul(word_embedding, word_vector).flatten()\n",
    "    top_n_idx = np.argsort(-distance)[1:top_n+1]\n",
    "\n",
    "    top_n_dict = {}\n",
    "    for i in top_n_idx:\n",
    "        similar_word = vocab.lookup_token(i)\n",
    "        top_n_dict[similar_word] = distance[i]\n",
    "\n",
    "    return top_n_dict"
   ]
  },
  {
   "cell_type": "code",
   "execution_count": 337,
   "metadata": {},
   "outputs": [
    {
     "name": "stdout",
     "output_type": "stream",
     "text": [
      "Top 5 Similar words for king\n",
      "Word            | Similarity\n",
      "----------------------------\n",
      "recent     \t| 0.369\n",
      "container  \t| 0.368\n",
      "1821       \t| 0.363\n",
      "recipient  \t| 0.362\n",
      "fallon     \t| 0.353\n",
      "stops      \t| 0.348\n",
      "realise    \t| 0.339\n",
      "balestre   \t| 0.337\n",
      "1617       \t| 0.337\n",
      "morphology \t| 0.333\n"
     ]
    }
   ],
   "source": [
    "s = \"king\"\n",
    "print(f\"Top 5 Similar words for {s}\")\n",
    "print(\"Word            | Similarity\")\n",
    "print(\"----------------------------\")\n",
    "for word, similar_words in get_top_similarity(s).items():\n",
    "    print(f\"{word:10} \\t| {similar_words.item():.3f}\")"
   ]
  },
  {
   "cell_type": "markdown",
   "metadata": {},
   "source": [
    "### Analogy tests"
   ]
  },
  {
   "cell_type": "markdown",
   "metadata": {},
   "source": [
    "Solving `A:B::C:_` <=> if A is similar to B, then C is similar to _."
   ]
  },
  {
   "cell_type": "code",
   "execution_count": 338,
   "metadata": {},
   "outputs": [],
   "source": [
    "def get_analogy( w1, w2, w3):\n",
    "\n",
    "    emb1 = word_embedding[vocab[w1]]\n",
    "    emb2 = word_embedding[vocab[w2]]\n",
    "    emb3 = word_embedding[vocab[w3]]\n",
    "\n",
    "    emb4 = emb1 - emb2 + emb3\n",
    "\n",
    "    emb4 = np.reshape(emb4, (len(emb4), 1))\n",
    "    dot_product = np.matmul(word_embedding, emb4).flatten()\n",
    "    top_5 = np.argsort(-dot_product)[1:6]\n",
    "\n",
    "    return top_5, dot_product"
   ]
  },
  {
   "cell_type": "code",
   "execution_count": 345,
   "metadata": {},
   "outputs": [
    {
     "name": "stdout",
     "output_type": "stream",
     "text": [
      "Top 5 words for analogy - king : man :: woman : ?\n",
      "Word             Similarity\n",
      "woman      0.8448806405067444\n",
      "realise    0.6310297250747681\n",
      "buchan     0.6225563287734985\n",
      "gull       0.6106157898902893\n",
      "booming    0.6097330451011658\n"
     ]
    }
   ],
   "source": [
    "top_5, dot_product = get_analogy(\"king\", \"man\",\"woman\")\n",
    "print(\"Top 5 words for analogy - king : man :: woman : ?\")\n",
    "print(\"Word             Similarity\")\n",
    "for i in top_5:\n",
    "    print(f\"{vocab.lookup_token(i):10} {dot_product[i]}\")"
   ]
  },
  {
   "cell_type": "markdown",
   "metadata": {},
   "source": [
    "### Measure Precision"
   ]
  },
  {
   "cell_type": "code",
   "execution_count": 346,
   "metadata": {},
   "outputs": [
    {
     "name": "stderr",
     "output_type": "stream",
     "text": [
      "--2024-08-15 00:14:36--  https://drive.google.com/uc?export=download&id=1jHx25dECegjtRKBB587nEfHiJesrH0g2\n",
      "Resolving drive.google.com (drive.google.com)... 142.250.183.110, 2404:6800:4009:827::200e\n",
      "Connecting to drive.google.com (drive.google.com)|142.250.183.110|:443... connected.\n",
      "HTTP request sent, awaiting response... 303 See Other\n",
      "Location: https://drive.usercontent.google.com/download?id=1jHx25dECegjtRKBB587nEfHiJesrH0g2&export=download [following]\n",
      "--2024-08-15 00:14:36--  https://drive.usercontent.google.com/download?id=1jHx25dECegjtRKBB587nEfHiJesrH0g2&export=download\n",
      "Resolving drive.usercontent.google.com (drive.usercontent.google.com)... 142.250.183.65, 2404:6800:4009:81e::2001\n",
      "Connecting to drive.usercontent.google.com (drive.usercontent.google.com)|142.250.183.65|:443... connected.\n",
      "HTTP request sent, awaiting response... 200 OK\n",
      "Length: 286075 (279K) [application/octet-stream]\n",
      "Saving to: ‘data/analogy_data.txt’\n",
      "\n",
      "     0K .......... .......... .......... .......... .......... 17%  456K 1s\n",
      "    50K .......... .......... .......... .......... .......... 35%  733K 0s\n",
      "   100K .......... .......... .......... .......... .......... 53% 1.47M 0s\n",
      "   150K .......... .......... .......... .......... .......... 71% 2.77M 0s\n",
      "   200K .......... .......... .......... .......... .......... 89% 2.22M 0s\n",
      "   250K .......... .......... .........                       100% 5.06M=0.3s\n",
      "\n",
      "2024-08-15 00:14:39 (1.06 MB/s) - ‘data/analogy_data.txt’ saved [286075/286075]\n",
      "\n"
     ]
    },
    {
     "data": {
      "text/plain": [
       "0"
      ]
     },
     "execution_count": 346,
     "metadata": {},
     "output_type": "execute_result"
    }
   ],
   "source": [
    "# Downloading analogy dataset\n",
    "os.system('wget -O data/analogy_data.txt \"https://drive.google.com/uc?export=download&id=1jHx25dECegjtRKBB587nEfHiJesrH0g2\"')"
   ]
  },
  {
   "cell_type": "code",
   "execution_count": 387,
   "metadata": {},
   "outputs": [],
   "source": [
    "import random\n",
    "random.seed(42)\n",
    "\n",
    "def get_analogy_samples(file_path, num_samples = 5000):\n",
    "    with open(file_path, 'r') as f:\n",
    "        analogies = []\n",
    "        for line in f:\n",
    "            #print(line)\n",
    "            parts = line.strip().split()\n",
    "\n",
    "            if len(parts) == 4:\n",
    "                analogies.append(parts)\n",
    "\n",
    "        analogies = random.sample(analogies, min(num_samples, len(analogies)))\n",
    "        print(f\"Total Analogies : {len(analogies)}\")\n",
    "        return analogies"
   ]
  },
  {
   "cell_type": "code",
   "execution_count": 388,
   "metadata": {},
   "outputs": [
    {
     "name": "stdout",
     "output_type": "stream",
     "text": [
      "Total Analogies : 5000\n"
     ]
    }
   ],
   "source": [
    "file_path = \"data/analogy_data.txt\"\n",
    "analogy_data = get_analogy_samples(file_path)"
   ]
  },
  {
   "cell_type": "code",
   "execution_count": 391,
   "metadata": {},
   "outputs": [],
   "source": [
    "def get_word_idx(word):\n",
    "    return vocab[word] if word in vocab else None\n",
    "\n",
    "def get_precision(analogy_data):\n",
    "    total = 0\n",
    "    correct = 0\n",
    "\n",
    "    for a,b,c,d in  analogy_data:\n",
    "        a,b,c,d = a.lower(), b.lower(), c.lower(), d.lower()\n",
    "\n",
    "        if not all([get_word_idx(w) for w in [a,b,c,d]]):\n",
    "            continue\n",
    "\n",
    "        top_5, _ = get_analogy(a, b, c)\n",
    "        predicted_words = []\n",
    "\n",
    "        for i in top_5:\n",
    "            word = vocab.lookup_token(i)\n",
    "            predicted_words.append(word)\n",
    "\n",
    "        if d in predicted_words:\n",
    "            correct += 1\n",
    "        total += 1\n",
    "    print(f\"{correct} correct out of {total} total\")\n",
    "    precision = correct / total if total > 0 else 0\n",
    "    return precision"
   ]
  },
  {
   "cell_type": "code",
   "execution_count": 392,
   "metadata": {},
   "outputs": [
    {
     "name": "stdout",
     "output_type": "stream",
     "text": [
      "0 correct out of 2787 total\n",
      "Analogy Precision :  0.0\n"
     ]
    }
   ],
   "source": [
    "precision = get_precision(analogy_data)\n",
    "print(\"Analogy Precision : \", precision)\n",
    "# Required training more epochs to get better results"
   ]
  },
  {
   "cell_type": "markdown",
   "metadata": {},
   "source": [
    "### Comparision with Google word2vec"
   ]
  },
  {
   "cell_type": "code",
   "execution_count": 353,
   "metadata": {},
   "outputs": [
    {
     "name": "stderr",
     "output_type": "stream",
     "text": [
      "--2024-08-15 00:16:09--  https://drive.google.com/uc?export=download&id=1jHx25dECegjtRKBB587nEfHiJesrH0g2\n",
      "Resolving drive.google.com (drive.google.com)... 142.250.183.14, 2404:6800:4009:821::200e\n",
      "Connecting to drive.google.com (drive.google.com)|142.250.183.14|:443... connected.\n",
      "HTTP request sent, awaiting response... 303 See Other\n",
      "Location: https://drive.usercontent.google.com/download?id=1jHx25dECegjtRKBB587nEfHiJesrH0g2&export=download [following]\n",
      "--2024-08-15 00:16:09--  https://drive.usercontent.google.com/download?id=1jHx25dECegjtRKBB587nEfHiJesrH0g2&export=download\n",
      "Resolving drive.usercontent.google.com (drive.usercontent.google.com)... 142.250.183.65, 2404:6800:4009:81e::2001\n",
      "Connecting to drive.usercontent.google.com (drive.usercontent.google.com)|142.250.183.65|:443... connected.\n",
      "HTTP request sent, awaiting response... 200 OK\n",
      "Length: 286075 (279K) [application/octet-stream]\n",
      "Saving to: ‘data/GoogleNews-vectors-negative300.bin’\n",
      "\n",
      "     0K .......... .......... .......... .......... .......... 17%  457K 1s\n",
      "    50K .......... .......... .......... .......... .......... 35%  747K 0s\n",
      "   100K .......... .......... .......... .......... .......... 53% 1.97M 0s\n",
      "   150K .......... .......... .......... .......... .......... 71% 2.15M 0s\n",
      "   200K .......... .......... .......... .......... .......... 89% 2.41M 0s\n",
      "   250K .......... .......... .........                       100% 5.44M=0.2s\n",
      "\n",
      "2024-08-15 00:16:13 (1.09 MB/s) - ‘data/GoogleNews-vectors-negative300.bin’ saved [286075/286075]\n",
      "\n"
     ]
    },
    {
     "data": {
      "text/plain": [
       "0"
      ]
     },
     "execution_count": 353,
     "metadata": {},
     "output_type": "execute_result"
    }
   ],
   "source": [
    "# Downloading analogy dataset\n",
    "os.system('wget -O data/GoogleNews-vectors-negative300.bin \"https://drive.google.com/uc?export=download&id=1jHx25dECegjtRKBB587nEfHiJesrH0g2\"')"
   ]
  },
  {
   "cell_type": "code",
   "execution_count": 356,
   "metadata": {},
   "outputs": [],
   "source": [
    "import bs4\n",
    "import requests\n",
    "import tqdm.auto as tqdm\n",
    "\n",
    "def prepare_data(url, file_path):\n",
    "    response = requests.get(url, stream=True)\n",
    "    response.raise_for_status() # check for errors\n",
    "\n",
    "    if 'html' in response.headers['Content-Type']:\n",
    "        response = requests.get(url)\n",
    "        soup = bs4.BeautifulSoup(response.text, features='lxml') # parse the HTML\n",
    "        if form := soup.find('form', id = 'download-form'):\n",
    "            id = form.select_one('input[name=\"id\"]')['value']\n",
    "            uuid = form.select_one('input[name=\"uuid\"]')['value']\n",
    "            data = {\n",
    "                'id': id,\n",
    "                'uuid': uuid,\n",
    "                'export': 'download',\n",
    "                'confirm': 't'\n",
    "            }\n",
    "            response = requests.get(soup.find('form')['action'], params = data, stream = True)\n",
    "            response.raise_for_status()\n",
    "\n",
    "    with open(file_path, 'wb+') as f:\n",
    "        with tqdm.tqdm(\n",
    "            total = int(response.headers[\"Content-Length\"]),\n",
    "            unit = 'B',\n",
    "            unit_scale = True,\n",
    "            unit_divisor = 1024,\n",
    "        ) as pbar:\n",
    "            for chunk in response.iter_content(chunk_size = 1024):\n",
    "                f.write(chunk)\n",
    "                pbar.update(len(chunk))\n",
    "    print(\"Downloaded to\", file_path)            "
   ]
  },
  {
   "cell_type": "code",
   "execution_count": 358,
   "metadata": {},
   "outputs": [
    {
     "data": {
      "application/vnd.jupyter.widget-view+json": {
       "model_id": "3d57943972bd4407812a98f49b941d67",
       "version_major": 2,
       "version_minor": 0
      },
      "text/plain": [
       "  0%|          | 0.00/3.39G [00:00<?, ?B/s]"
      ]
     },
     "metadata": {},
     "output_type": "display_data"
    },
    {
     "name": "stdout",
     "output_type": "stream",
     "text": [
      "Downloaded to data/GoogleNews-vectors-negative300.bin\n"
     ]
    }
   ],
   "source": [
    "drive_link = \"https://drive.google.com/uc?export=download&id=12Oicgl5scdJLR7t8jbzKpW6o8QkYOylg\"\n",
    "target_path = \"data/GoogleNews-vectors-negative300.bin\"\n",
    "\n",
    "prepare_data(drive_link, target_path)"
   ]
  },
  {
   "cell_type": "code",
   "execution_count": 359,
   "metadata": {},
   "outputs": [],
   "source": [
    "from gensim.models import KeyedVectors\n",
    "\n",
    "google_model = KeyedVectors.load_word2vec_format(\"data/GoogleNews-vectors-negative300.bin\", binary=True, limit=50000)"
   ]
  },
  {
   "cell_type": "code",
   "execution_count": 367,
   "metadata": {},
   "outputs": [],
   "source": [
    "words = ['king', 'queen', 'river', 'water', 'ocean', 'tree', 'plant', 'happy', 'glad', 'mother', 'daughter']\n",
    "\n",
    "def get_similarity_google(words):\n",
    "    word_vectors = [google_model[word] for word in words]\n",
    "    word_vectors = [w for w in word_vectors]\n",
    "    \n",
    "    norm = np.linalg.norm(word_vectors, axis=1, keepdims=True)\n",
    "    normalized_word_vectors = word_vectors / norm\n",
    "\n",
    "    similarity_matrix = np.dot(normalized_word_vectors, normalized_word_vectors.T)\n",
    "\n",
    "    similarity = cosine_similarity(normalized_word_vectors)\n",
    "    return word_vectors, similarity"
   ]
  },
  {
   "cell_type": "code",
   "execution_count": 368,
   "metadata": {},
   "outputs": [
    {
     "name": "stdout",
     "output_type": "stream",
     "text": [
      "11\n"
     ]
    },
    {
     "data": {
      "text/html": [
       "<div>\n",
       "<style scoped>\n",
       "    .dataframe tbody tr th:only-of-type {\n",
       "        vertical-align: middle;\n",
       "    }\n",
       "\n",
       "    .dataframe tbody tr th {\n",
       "        vertical-align: top;\n",
       "    }\n",
       "\n",
       "    .dataframe thead th {\n",
       "        text-align: right;\n",
       "    }\n",
       "</style>\n",
       "<table border=\"1\" class=\"dataframe\">\n",
       "  <thead>\n",
       "    <tr style=\"text-align: right;\">\n",
       "      <th></th>\n",
       "      <th>king</th>\n",
       "      <th>queen</th>\n",
       "      <th>river</th>\n",
       "      <th>water</th>\n",
       "      <th>ocean</th>\n",
       "      <th>tree</th>\n",
       "      <th>plant</th>\n",
       "      <th>happy</th>\n",
       "      <th>glad</th>\n",
       "      <th>mother</th>\n",
       "      <th>daughter</th>\n",
       "    </tr>\n",
       "  </thead>\n",
       "  <tbody>\n",
       "    <tr>\n",
       "      <th>king</th>\n",
       "      <td>1.000000</td>\n",
       "      <td>0.651096</td>\n",
       "      <td>0.086155</td>\n",
       "      <td>0.035606</td>\n",
       "      <td>0.065263</td>\n",
       "      <td>0.109141</td>\n",
       "      <td>0.057788</td>\n",
       "      <td>0.113239</td>\n",
       "      <td>0.063524</td>\n",
       "      <td>0.160052</td>\n",
       "      <td>0.148813</td>\n",
       "    </tr>\n",
       "    <tr>\n",
       "      <th>queen</th>\n",
       "      <td>0.651096</td>\n",
       "      <td>1.000000</td>\n",
       "      <td>0.103566</td>\n",
       "      <td>0.018264</td>\n",
       "      <td>0.099157</td>\n",
       "      <td>0.112222</td>\n",
       "      <td>0.088803</td>\n",
       "      <td>0.121214</td>\n",
       "      <td>0.082538</td>\n",
       "      <td>0.288445</td>\n",
       "      <td>0.305139</td>\n",
       "    </tr>\n",
       "    <tr>\n",
       "      <th>river</th>\n",
       "      <td>0.086155</td>\n",
       "      <td>0.103566</td>\n",
       "      <td>1.000000</td>\n",
       "      <td>0.576898</td>\n",
       "      <td>0.477181</td>\n",
       "      <td>0.230746</td>\n",
       "      <td>0.201330</td>\n",
       "      <td>0.073289</td>\n",
       "      <td>0.071341</td>\n",
       "      <td>0.131063</td>\n",
       "      <td>0.116944</td>\n",
       "    </tr>\n",
       "    <tr>\n",
       "      <th>water</th>\n",
       "      <td>0.035606</td>\n",
       "      <td>0.018264</td>\n",
       "      <td>0.576898</td>\n",
       "      <td>1.000000</td>\n",
       "      <td>0.471691</td>\n",
       "      <td>0.196022</td>\n",
       "      <td>0.271738</td>\n",
       "      <td>0.067675</td>\n",
       "      <td>0.085623</td>\n",
       "      <td>0.110723</td>\n",
       "      <td>0.079457</td>\n",
       "    </tr>\n",
       "    <tr>\n",
       "      <th>ocean</th>\n",
       "      <td>0.065263</td>\n",
       "      <td>0.099157</td>\n",
       "      <td>0.477181</td>\n",
       "      <td>0.471691</td>\n",
       "      <td>1.000000</td>\n",
       "      <td>0.141859</td>\n",
       "      <td>0.067005</td>\n",
       "      <td>-0.000511</td>\n",
       "      <td>0.014122</td>\n",
       "      <td>0.105623</td>\n",
       "      <td>0.081207</td>\n",
       "    </tr>\n",
       "    <tr>\n",
       "      <th>tree</th>\n",
       "      <td>0.109141</td>\n",
       "      <td>0.112222</td>\n",
       "      <td>0.230746</td>\n",
       "      <td>0.196022</td>\n",
       "      <td>0.141859</td>\n",
       "      <td>1.000000</td>\n",
       "      <td>0.265187</td>\n",
       "      <td>0.076933</td>\n",
       "      <td>0.105760</td>\n",
       "      <td>0.188985</td>\n",
       "      <td>0.173519</td>\n",
       "    </tr>\n",
       "    <tr>\n",
       "      <th>plant</th>\n",
       "      <td>0.057788</td>\n",
       "      <td>0.088803</td>\n",
       "      <td>0.201330</td>\n",
       "      <td>0.271738</td>\n",
       "      <td>0.067005</td>\n",
       "      <td>0.265187</td>\n",
       "      <td>1.000000</td>\n",
       "      <td>-0.010519</td>\n",
       "      <td>-0.000679</td>\n",
       "      <td>0.148805</td>\n",
       "      <td>0.092466</td>\n",
       "    </tr>\n",
       "    <tr>\n",
       "      <th>happy</th>\n",
       "      <td>0.113239</td>\n",
       "      <td>0.121214</td>\n",
       "      <td>0.073289</td>\n",
       "      <td>0.067675</td>\n",
       "      <td>-0.000511</td>\n",
       "      <td>0.076933</td>\n",
       "      <td>-0.010519</td>\n",
       "      <td>1.000000</td>\n",
       "      <td>0.740889</td>\n",
       "      <td>0.119672</td>\n",
       "      <td>0.152536</td>\n",
       "    </tr>\n",
       "    <tr>\n",
       "      <th>glad</th>\n",
       "      <td>0.063524</td>\n",
       "      <td>0.082538</td>\n",
       "      <td>0.071341</td>\n",
       "      <td>0.085623</td>\n",
       "      <td>0.014122</td>\n",
       "      <td>0.105760</td>\n",
       "      <td>-0.000679</td>\n",
       "      <td>0.740889</td>\n",
       "      <td>1.000000</td>\n",
       "      <td>0.125566</td>\n",
       "      <td>0.181102</td>\n",
       "    </tr>\n",
       "    <tr>\n",
       "      <th>mother</th>\n",
       "      <td>0.160052</td>\n",
       "      <td>0.288445</td>\n",
       "      <td>0.131063</td>\n",
       "      <td>0.110723</td>\n",
       "      <td>0.105623</td>\n",
       "      <td>0.188985</td>\n",
       "      <td>0.148805</td>\n",
       "      <td>0.119672</td>\n",
       "      <td>0.125566</td>\n",
       "      <td>1.000000</td>\n",
       "      <td>0.870623</td>\n",
       "    </tr>\n",
       "    <tr>\n",
       "      <th>daughter</th>\n",
       "      <td>0.148813</td>\n",
       "      <td>0.305139</td>\n",
       "      <td>0.116944</td>\n",
       "      <td>0.079457</td>\n",
       "      <td>0.081207</td>\n",
       "      <td>0.173519</td>\n",
       "      <td>0.092466</td>\n",
       "      <td>0.152536</td>\n",
       "      <td>0.181102</td>\n",
       "      <td>0.870623</td>\n",
       "      <td>1.000000</td>\n",
       "    </tr>\n",
       "  </tbody>\n",
       "</table>\n",
       "</div>"
      ],
      "text/plain": [
       "              king     queen     river     water     ocean      tree  \\\n",
       "king      1.000000  0.651096  0.086155  0.035606  0.065263  0.109141   \n",
       "queen     0.651096  1.000000  0.103566  0.018264  0.099157  0.112222   \n",
       "river     0.086155  0.103566  1.000000  0.576898  0.477181  0.230746   \n",
       "water     0.035606  0.018264  0.576898  1.000000  0.471691  0.196022   \n",
       "ocean     0.065263  0.099157  0.477181  0.471691  1.000000  0.141859   \n",
       "tree      0.109141  0.112222  0.230746  0.196022  0.141859  1.000000   \n",
       "plant     0.057788  0.088803  0.201330  0.271738  0.067005  0.265187   \n",
       "happy     0.113239  0.121214  0.073289  0.067675 -0.000511  0.076933   \n",
       "glad      0.063524  0.082538  0.071341  0.085623  0.014122  0.105760   \n",
       "mother    0.160052  0.288445  0.131063  0.110723  0.105623  0.188985   \n",
       "daughter  0.148813  0.305139  0.116944  0.079457  0.081207  0.173519   \n",
       "\n",
       "             plant     happy      glad    mother  daughter  \n",
       "king      0.057788  0.113239  0.063524  0.160052  0.148813  \n",
       "queen     0.088803  0.121214  0.082538  0.288445  0.305139  \n",
       "river     0.201330  0.073289  0.071341  0.131063  0.116944  \n",
       "water     0.271738  0.067675  0.085623  0.110723  0.079457  \n",
       "ocean     0.067005 -0.000511  0.014122  0.105623  0.081207  \n",
       "tree      0.265187  0.076933  0.105760  0.188985  0.173519  \n",
       "plant     1.000000 -0.010519 -0.000679  0.148805  0.092466  \n",
       "happy    -0.010519  1.000000  0.740889  0.119672  0.152536  \n",
       "glad     -0.000679  0.740889  1.000000  0.125566  0.181102  \n",
       "mother    0.148805  0.119672  0.125566  1.000000  0.870623  \n",
       "daughter  0.092466  0.152536  0.181102  0.870623  1.000000  "
      ]
     },
     "execution_count": 368,
     "metadata": {},
     "output_type": "execute_result"
    }
   ],
   "source": [
    "gword_vectors, gsimilarity = get_similarity_google(words)\n",
    "print(len(gword_vectors))\n",
    "pd.DataFrame(gsimilarity, index = words, columns = words)"
   ]
  },
  {
   "cell_type": "code",
   "execution_count": 369,
   "metadata": {},
   "outputs": [
    {
     "data": {
      "text/plain": [
       "<Axes: >"
      ]
     },
     "execution_count": 369,
     "metadata": {},
     "output_type": "execute_result"
    },
    {
     "data": {
      "image/png": "[encoded data removed]",
      "text/plain": [
       "<Figure size 640x480 with 2 Axes>"
      ]
     },
     "metadata": {},
     "output_type": "display_data"
    }
   ],
   "source": [
    "sns.heatmap(pd.DataFrame(gsimilarity, index = words, columns = words))"
   ]
  },
  {
   "cell_type": "code",
   "execution_count": 370,
   "metadata": {},
   "outputs": [],
   "source": [
    "pca = PCA(n_components=2)\n",
    "greduced_word_vectors = pca.fit_transform(gword_vectors)"
   ]
  },
  {
   "cell_type": "code",
   "execution_count": 371,
   "metadata": {},
   "outputs": [
    {
     "data": {
      "image/png": "[encoded data removed]",
      "text/plain": [
       "<Figure size 800x500 with 1 Axes>"
      ]
     },
     "metadata": {},
     "output_type": "display_data"
    }
   ],
   "source": [
    "plt.figure(figsize=(8, 5))\n",
    "x, y = greduced_word_vectors[:, 0], greduced_word_vectors[:, 1]\n",
    "plt.scatter(x, y, s = 12, color = \"red\")\n",
    "offset = 0.05\n",
    "for i in range(len(x)):\n",
    "    plt.annotate(words[i], xy = (x[i], y[i]), xytext = (x[i] + offset, y[i] + offset),)"
   ]
  },
  {
   "cell_type": "code",
   "execution_count": 373,
   "metadata": {},
   "outputs": [
    {
     "data": {
      "text/plain": [
       "[('Pakistan', 0.6706861257553101),\n",
       " ('Delhi', 0.6632035374641418),\n",
       " ('Bangalore', 0.6583030819892883),\n",
       " ('subcontinent', 0.6579218506813049),\n",
       " ('Bangladesh', 0.6527796983718872),\n",
       " ('sub_continent', 0.650303840637207),\n",
       " ('Mumbai', 0.6495688557624817),\n",
       " ('Sri_Lanka', 0.6445952653884888),\n",
       " ('Chennai', 0.64213627576828),\n",
       " ('Hyderabad', 0.6390925645828247)]"
      ]
     },
     "execution_count": 373,
     "metadata": {},
     "output_type": "execute_result"
    }
   ],
   "source": [
    "google_model.most_similar(\"India\")"
   ]
  },
  {
   "cell_type": "code",
   "execution_count": 374,
   "metadata": {},
   "outputs": [
    {
     "name": "stdout",
     "output_type": "stream",
     "text": [
      "queen      0.7118193507194519\n",
      "monarch    0.6189674735069275\n",
      "princess   0.5902431011199951\n",
      "prince     0.5377321243286133\n",
      "kings      0.5236844420433044\n"
     ]
    }
   ],
   "source": [
    "def analogy_google(a, b, c):\n",
    "    return google_model.most_similar(positive=[b, c], negative=[a], topn=5)\n",
    "\n",
    "for i in analogy_google('man', 'king','woman'):\n",
    "    print(f\"{i[0]:10} {i[1]}\")"
   ]
  },
  {
   "cell_type": "code",
   "execution_count": 407,
   "metadata": {},
   "outputs": [],
   "source": [
    "def precision_google(analogy_data):\n",
    "    total = 0\n",
    "    correct = 0\n",
    "    for a,b,c,d in  analogy_data:\n",
    "        a,b,c,d = a.lower(), b.lower(), c.lower(), d.lower()\n",
    "\n",
    "        # Check if google_model contains the word\n",
    "        if not all([w in google_model for w in [a,b,c,d]]):\n",
    "            continue\n",
    "        predicted_words = [i[0] for i in analogy_google(a, b, c)]\n",
    "        if d in predicted_words:\n",
    "            correct += 1\n",
    "        total += 1\n",
    "    print(f\"{correct} correct out of {total} total\")\n",
    "    precision = correct / total if total > 0 else 0\n",
    "    return precision"
   ]
  },
  {
   "cell_type": "code",
   "execution_count": 408,
   "metadata": {},
   "outputs": [
    {
     "name": "stdout",
     "output_type": "stream",
     "text": [
      "4036 correct out of 4573 total\n",
      "Analogy Precision :-\n",
      "Model Precision        :  0.0\n",
      "Google Model Precision :  0.8825716160069976\n"
     ]
    }
   ],
   "source": [
    "precision_google = precision_google(analogy_data)\n",
    "print(\"Analogy Precision :-\")\n",
    "print(\"Model Precision        : \", precision)\n",
    "print(\"Google Model Precision : \", precision_google)"
   ]
  }
 ],
 "metadata": {
  "kernelspec": {
   "display_name": "base",
   "language": "python",
   "name": "python3"
  },
  "language_info": {
   "codemirror_mode": {
    "name": "ipython",
    "version": 3
   },
   "file_extension": ".py",
   "mimetype": "text/x-python",
   "name": "python",
   "nbconvert_exporter": "python",
   "pygments_lexer": "ipython3",
   "version": "3.11.5"
  }
 },
 "nbformat": 4,
 "nbformat_minor": 2
}
