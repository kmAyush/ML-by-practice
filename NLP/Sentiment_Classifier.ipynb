{
 "cells": [
  {
   "cell_type": "code",
   "execution_count": 3,
   "metadata": {},
   "outputs": [],
   "source": [
    "import numpy as np\n",
    "import matplotlib.pyplot as plt\n",
    "import subprocess\n",
    "import os"
   ]
  },
  {
   "cell_type": "code",
   "execution_count": 26,
   "metadata": {},
   "outputs": [
    {
     "data": {
      "text/plain": [
       "0"
      ]
     },
     "execution_count": 26,
     "metadata": {},
     "output_type": "execute_result"
    }
   ],
   "source": [
    "# Save dataset\n",
    "os.system('wget -O train_data.csv \"https://docs.google.com/spreadsheets/d/176-KrOP8nhLpoW91UnrOY9oq_-I0XYNKS1zmqIErFsA/gviz/tq?tqx=out:csv&sheet=train_data.csv\" -q')\n",
    "os.system('wget -O val_data.csv \"https://docs.google.com/spreadsheets/d/1YxjoAbatow3F5lbPEODToa8-YWvJoTY0aABS9zaXk-c/gviz/tq?tqx=out:csv&sheet=val_data.csv\" -q')\n",
    "os.system('wget -O test_data.csv \"https://docs.google.com/spreadsheets/d/1YxjoAbatow3F5lbPEODToa8-YWvJoTY0aABS9zaXk-c/gviz/tq?tqx=out:csv&sheet=val_data.csv\" -q')"
   ]
  },
  {
   "cell_type": "code",
   "execution_count": 5,
   "metadata": {},
   "outputs": [],
   "source": [
    "import pandas as pd\n",
    "df_train = pd.read_csv('train_data.csv')\n",
    "df_valid = pd.read_csv('val_data.csv')\n",
    "df_test = pd.read_csv('test_data.csv')"
   ]
  },
  {
   "cell_type": "code",
   "execution_count": 6,
   "metadata": {},
   "outputs": [
    {
     "data": {
      "text/html": [
       "<div>\n",
       "<style scoped>\n",
       "    .dataframe tbody tr th:only-of-type {\n",
       "        vertical-align: middle;\n",
       "    }\n",
       "\n",
       "    .dataframe tbody tr th {\n",
       "        vertical-align: top;\n",
       "    }\n",
       "\n",
       "    .dataframe thead th {\n",
       "        text-align: right;\n",
       "    }\n",
       "</style>\n",
       "<table border=\"1\" class=\"dataframe\">\n",
       "  <thead>\n",
       "    <tr style=\"text-align: right;\">\n",
       "      <th></th>\n",
       "      <th>review</th>\n",
       "      <th>sentiment</th>\n",
       "    </tr>\n",
       "  </thead>\n",
       "  <tbody>\n",
       "    <tr>\n",
       "      <th>0</th>\n",
       "      <td>I've watched this documentary twice - and alth...</td>\n",
       "      <td>positive</td>\n",
       "    </tr>\n",
       "    <tr>\n",
       "      <th>1</th>\n",
       "      <td>This is probably the worst movie I've seen in ...</td>\n",
       "      <td>negative</td>\n",
       "    </tr>\n",
       "    <tr>\n",
       "      <th>2</th>\n",
       "      <td>Superb story of a dedicated young teacher who ...</td>\n",
       "      <td>positive</td>\n",
       "    </tr>\n",
       "    <tr>\n",
       "      <th>3</th>\n",
       "      <td>&lt;br /&gt;&lt;br /&gt;Spoilers&lt;br /&gt;&lt;br /&gt;I'm going to b...</td>\n",
       "      <td>negative</td>\n",
       "    </tr>\n",
       "    <tr>\n",
       "      <th>4</th>\n",
       "      <td>What can be said, really... \"The Tenant\" is a ...</td>\n",
       "      <td>positive</td>\n",
       "    </tr>\n",
       "  </tbody>\n",
       "</table>\n",
       "</div>"
      ],
      "text/plain": [
       "                                              review sentiment\n",
       "0  I've watched this documentary twice - and alth...  positive\n",
       "1  This is probably the worst movie I've seen in ...  negative\n",
       "2  Superb story of a dedicated young teacher who ...  positive\n",
       "3  <br /><br />Spoilers<br /><br />I'm going to b...  negative\n",
       "4  What can be said, really... \"The Tenant\" is a ...  positive"
      ]
     },
     "execution_count": 6,
     "metadata": {},
     "output_type": "execute_result"
    }
   ],
   "source": [
    "df_train.head()"
   ]
  },
  {
   "cell_type": "code",
   "execution_count": 7,
   "metadata": {},
   "outputs": [],
   "source": [
    "# Prepare data as X, Y\n",
    "Xd, Yd = df_train.review.values.tolist(), df_train.sentiment.values.tolist()\n",
    "Xv, Yv = df_valid.review.values.tolist(), df_valid.sentiment.values.tolist()\n",
    "Xt, Yt = df_test.review.values.tolist(), df_test.sentiment.values.tolist()\n",
    "\n",
    "sentiment = ['negative', 'positive']\n",
    "Yd = [sentiment.index(y) for y in Yd]\n",
    "Yv = [sentiment.index(y) for y in Yv]\n",
    "Yt = [sentiment.index(y) for y in Yt]"
   ]
  },
  {
   "cell_type": "code",
   "execution_count": 21,
   "metadata": {},
   "outputs": [],
   "source": [
    "# Extract features\n",
    "def extract_features(X):\n",
    "    \n",
    "    feats = {'good_count': 0, 'bad_count': 0, 'bias': 1}\n",
    "    words = X.split(' ')\n",
    "    pos_words = ['good', 'great', 'excellent', 'positive', 'love', 'like', \n",
    "                 'awesome', 'amazing', 'wonderful', 'best', 'better', \n",
    "                 'beautiful', 'nice', 'fantastic', 'superb', \n",
    "                 'incredible', 'perfect', 'well', 'fun', 'enjoy', \n",
    "                 'enjoyable', 'enjoyed', 'enjoying', 'enjoyment']\n",
    "    \n",
    "    neg_words = ['hate', 'bad', 'horrible', 'awful', 'terrible', 'mess', 'frustating', 'frustatingly',\n",
    "                 'worst', 'dumb', 'poor']\n",
    "    \n",
    "    for x in words:\n",
    "        if x in pos_words:\n",
    "            feats['good_count'] = feats.get('good_count', 0) + feats['bias']\n",
    "        if x in neg_words:\n",
    "            feats['bad_count'] = feats.get('good_count', 0) + feats['bias'] \n",
    "    return feats\n",
    "\n",
    "def predict(X, w):\n",
    "    feats = extract_features(X)\n",
    "    score = 0\n",
    "    for f in feats:\n",
    "        score += feats[f] * w[f]\n",
    "    return 1 if score > 0 else 0\n",
    "\n",
    "def get_feature_weights():\n",
    "    return {'good_count': 1.0, 'bad_count': -1.0, 'bias': 0.5}\n",
    "\n",
    "def accuracy(Y_true, Y_pred):\n",
    "    correct = 0.0\n",
    "    total = len(Y_true)\n",
    "    assert total == len(Y_pred)\n",
    "\n",
    "    for i in range(total):\n",
    "        if Y_true[i] == Y_pred[i]:\n",
    "            correct += 1\n",
    "    \n",
    "    if total > 0:\n",
    "        return 100.0 * correct / total\n",
    "    return 0.0\n"
   ]
  },
  {
   "cell_type": "code",
   "execution_count": 22,
   "metadata": {},
   "outputs": [
    {
     "name": "stdout",
     "output_type": "stream",
     "text": [
      "60.475\n"
     ]
    }
   ],
   "source": [
    "feats_wt = get_feature_weights()\n",
    "predictions = []\n",
    "\n",
    "for x in Xt:\n",
    "    y = predict(x, feats_wt)\n",
    "    predictions.append(y)\n",
    "\n",
    "print(accuracy(Yt, predictions))"
   ]
  },
  {
   "cell_type": "code",
   "execution_count": 24,
   "metadata": {},
   "outputs": [
    {
     "name": "stdout",
     "output_type": "stream",
     "text": [
      "60.475\n"
     ]
    }
   ],
   "source": [
    "feats_wt = get_feature_weights()\n",
    "predictions = []\n",
    "\n",
    "for x,y in zip(Xt,Yt):\n",
    "    #print(x)\n",
    "    y1 = predict(x, feats_wt)\n",
    "    #print(y, y1)\n",
    "    predictions.append(y1)\n",
    "\n",
    "print(accuracy(Yt, predictions))"
   ]
  },
  {
   "cell_type": "code",
   "execution_count": 32,
   "metadata": {},
   "outputs": [],
   "source": [
    "from sklearn.linear_model import LogisticRegression\n",
    "def get_learnable_wt(Xd, Yd, feats_wt):\n",
    "    feats_name = list(feats_wt(Xd[0]).keys())\n",
    "    all_feats = []\n",
    "    for x in Xd:\n",
    "        feats = []\n",
    "        feat_dict = extract_features(x)\n",
    "        for f in feats_name:\n",
    "            feats.append(feat_dict[feats_name])\n",
    "        all_feats.append(feats)\n",
    "\n",
    "    clf = LogisticRegression(fit_intercept=False, random_state = 42).fit(all_feats, Yd)\n",
    "    coeffs = clf.coef_[0]\n",
    "    coffs_dict = {feats_name[i]: coeffs[i] for i in range(len(feats_name))}\n",
    "    print(feats_name)\n",
    "    return coffs_dict"
   ]
  },
  {
   "cell_type": "code",
   "execution_count": 33,
   "metadata": {},
   "outputs": [
    {
     "name": "stdout",
     "output_type": "stream",
     "text": [
      "['good_count', 'bad_count', 'bias']\n",
      "Accuracy on Logistic Regression :  66.7\n"
     ]
    }
   ],
   "source": [
    "feats_wt_logistic = get_learnable_wt(Xd, Yd, extract_features)\n",
    "predictions = []\n",
    "\n",
    "for x in Xt:\n",
    "    y = predict(x, feats_wt_logistic)\n",
    "    predictions.append(y)\n",
    "\n",
    "print(\"Accuracy on Logistic Regression : \",accuracy(Yt, predictions))"
   ]
  },
  {
   "cell_type": "code",
   "execution_count": 37,
   "metadata": {},
   "outputs": [
    {
     "data": {
      "text/plain": [
       "(-2.0, 2.0)"
      ]
     },
     "execution_count": 37,
     "metadata": {},
     "output_type": "execute_result"
    },
    {
     "data": {
      "image/png": "[encoded data removed]",
      "text/plain": [
       "<Figure size 640x480 with 1 Axes>"
      ]
     },
     "metadata": {},
     "output_type": "display_data"
    }
   ],
   "source": [
    "import matplotlib.pyplot as plt\n",
    "import numpy as np\n",
    "\n",
    "feats_names = list(feats_wt_logistic.keys())\n",
    "manual_wt = [feats_wt[f] for f in feats_names]\n",
    "logistic_wt = [feats_wt_logistic[f] for f in feats_names]\n",
    "\n",
    "wt_dict = {'manual': manual_wt, 'logistic': logistic_wt}\n",
    "x = np.arange(len(feats_names))  # the label locations\n",
    "width = 0.35  # the width of the bars\n",
    "multiplier = 0\n",
    "\n",
    "fig, ax = plt.subplots(layout='constrained');\n",
    "\n",
    "for attribute, measurement in wt_dict.items():\n",
    "    offset = width * multiplier\n",
    "    rects = ax.bar(x + offset, measurement, width, label=attribute)\n",
    "    ax.bar_label(rects, padding=3)\n",
    "    multiplier += 1\n",
    "\n",
    "# Add some text for labels, title and custom x-axis tick labels, etc.\n",
    "ax.set_ylabel('weight')\n",
    "ax.set_title('Comparing Manual vs learnable weights comparison')\n",
    "ax.set_xticks(x + width, feats_names)\n",
    "ax.legend(loc='upper left', ncols=2)\n",
    "ax.set_ylim(-2, 2)"
   ]
  },
  {
   "cell_type": "code",
   "execution_count": null,
   "metadata": {},
   "outputs": [],
   "source": []
  }
 ],
 "metadata": {
  "kernelspec": {
   "display_name": "base",
   "language": "python",
   "name": "python3"
  },
  "language_info": {
   "codemirror_mode": {
    "name": "ipython",
    "version": 3
   },
   "file_extension": ".py",
   "mimetype": "text/x-python",
   "name": "python",
   "nbconvert_exporter": "python",
   "pygments_lexer": "ipython3",
   "version": "3.12.3"
  }
 },
 "nbformat": 4,
 "nbformat_minor": 2
}
