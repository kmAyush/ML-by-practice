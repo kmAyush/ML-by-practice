{
 "cells": [
  {
   "cell_type": "code",
   "execution_count": 5,
   "id": "1051bf46-9099-499a-97ff-2164a879e8e6",
   "metadata": {},
   "outputs": [],
   "source": [
    "import torch\n",
    "import torch.nn.functional as F\n",
    "import matplotlib.pyplot as plt\n",
    "%matplotlib inline"
   ]
  },
  {
   "cell_type": "code",
   "execution_count": 1,
   "id": "710a7ea0-8d67-494c-95b5-562c40aba145",
   "metadata": {},
   "outputs": [],
   "source": [
    "words = ['abc','cba','bca','bac']"
   ]
  },
  {
   "cell_type": "code",
   "execution_count": 2,
   "id": "2a95215b-87f3-40da-95bc-6038dbe51d02",
   "metadata": {},
   "outputs": [
    {
     "name": "stdout",
     "output_type": "stream",
     "text": [
      "{1: 'a', 2: 'b', 3: 'c', 0: '.'}\n"
     ]
    }
   ],
   "source": [
    "chars = sorted(list(set(''.join(words))))\n",
    "stoi = { s:i+1 for i,s in enumerate(chars)}\n",
    "stoi['.']=0\n",
    "itos = {i:s for s,i in stoi.items()}\n",
    "print(itos)"
   ]
  },
  {
   "cell_type": "code",
   "execution_count": 8,
   "id": "a3c6e1e1-60a7-4d18-8a2a-0c4986f03dbd",
   "metadata": {},
   "outputs": [
    {
     "name": "stdout",
     "output_type": "stream",
     "text": [
      "... ---> a\n",
      "..a ---> b\n",
      ".ab ---> c\n",
      "abc ---> .\n",
      "... ---> c\n",
      "..c ---> b\n",
      ".cb ---> a\n",
      "cba ---> .\n",
      "... ---> b\n",
      "..b ---> c\n",
      ".bc ---> a\n",
      "bca ---> .\n",
      "... ---> b\n",
      "..b ---> a\n",
      ".ba ---> c\n",
      "bac ---> .\n"
     ]
    }
   ],
   "source": [
    "block_size = 3\n",
    "X, Y = [], []\n",
    "for w in words:\n",
    "    context = [0]* block_size\n",
    "    for ch in w+'.':\n",
    "        ix = stoi[ch]\n",
    "        X.append(context)\n",
    "        Y.append(ix)\n",
    "        print(''.join(itos[i] for i in context), '--->', itos[ix])\n",
    "        context = context[1:] + [ix]\n",
    "        \n",
    "X = torch.tensor(X)\n",
    "Y = torch.tensor(Y)"
   ]
  },
  {
   "cell_type": "code",
   "execution_count": 7,
   "id": "98f13ece-523b-46db-9a66-d36657dd152f",
   "metadata": {},
   "outputs": [
    {
     "data": {
      "text/plain": [
       "(torch.Size([16, 3]), torch.int64, torch.Size([16]), torch.int64)"
      ]
     },
     "execution_count": 7,
     "metadata": {},
     "output_type": "execute_result"
    }
   ],
   "source": [
    "X.shape, X.dtype, Y.shape, Y.dtype"
   ]
  },
  {
   "cell_type": "code",
   "execution_count": 9,
   "id": "e32d5468-5f7d-4228-a341-26d987194755",
   "metadata": {},
   "outputs": [],
   "source": [
    "C = torch.randn((len(itos),2))"
   ]
  },
  {
   "cell_type": "code",
   "execution_count": 14,
   "id": "7fcb5f8f-4994-45ea-a40a-56d55976df61",
   "metadata": {},
   "outputs": [
    {
     "data": {
      "text/plain": [
       "tensor([[0, 0, 0],\n",
       "        [0, 0, 1],\n",
       "        [0, 1, 2],\n",
       "        [1, 2, 3],\n",
       "        [0, 0, 0],\n",
       "        [0, 0, 3],\n",
       "        [0, 3, 2],\n",
       "        [3, 2, 1],\n",
       "        [0, 0, 0],\n",
       "        [0, 0, 2],\n",
       "        [0, 2, 3],\n",
       "        [2, 3, 1],\n",
       "        [0, 0, 0],\n",
       "        [0, 0, 2],\n",
       "        [0, 2, 1],\n",
       "        [2, 1, 3]])"
      ]
     },
     "execution_count": 14,
     "metadata": {},
     "output_type": "execute_result"
    }
   ],
   "source": [
    "X"
   ]
  },
  {
   "cell_type": "code",
   "execution_count": 29,
   "id": "d8242e7a-ea3c-4bf7-b0a6-3ca29c870da9",
   "metadata": {},
   "outputs": [
    {
     "data": {
      "text/plain": [
       "tensor([[-1.7356,  0.1429],\n",
       "        [-0.2063, -1.0008],\n",
       "        [ 0.7851, -0.4433]])"
      ]
     },
     "execution_count": 29,
     "metadata": {},
     "output_type": "execute_result"
    }
   ],
   "source": [
    "C[X][-1]"
   ]
  },
  {
   "cell_type": "code",
   "execution_count": 31,
   "id": "dd860b18-1298-4623-a1ec-e4beeeca3dad",
   "metadata": {},
   "outputs": [],
   "source": [
    "wt = torch.randn((6,2))"
   ]
  },
  {
   "cell_type": "code",
   "execution_count": 32,
   "id": "99a1b464-9321-4fbe-a499-f90ba83ea90f",
   "metadata": {},
   "outputs": [],
   "source": [
    "b = torch.randn(2)"
   ]
  },
  {
   "cell_type": "code",
   "execution_count": 34,
   "id": "aab16681-698d-4200-b882-519e8082757e",
   "metadata": {},
   "outputs": [
    {
     "data": {
      "text/plain": [
       "(tensor([[ 1.5338,  0.5783],\n",
       "         [-0.5572,  0.8347],\n",
       "         [-0.0135, -0.0359],\n",
       "         [ 0.2412,  0.7133],\n",
       "         [ 1.0508, -0.3605],\n",
       "         [ 0.0854, -1.1809]]),\n",
       " tensor([-1.9076,  0.0850]))"
      ]
     },
     "execution_count": 34,
     "metadata": {},
     "output_type": "execute_result"
    }
   ],
   "source": [
    "wt,b"
   ]
  },
  {
   "cell_type": "code",
   "execution_count": 35,
   "id": "222f2bb6-a5d9-48f4-ab6e-fcd14b573799",
   "metadata": {},
   "outputs": [
    {
     "data": {
      "text/plain": [
       "torch.Size([16, 3, 2])"
      ]
     },
     "execution_count": 35,
     "metadata": {},
     "output_type": "execute_result"
    }
   ],
   "source": [
    "emb = C[X]\n",
    "emb.shape"
   ]
  },
  {
   "cell_type": "code",
   "execution_count": 36,
   "id": "0aae493d-2e34-4f72-a821-de7306c00c33",
   "metadata": {},
   "outputs": [],
   "source": [
    "h = torch.tanh(emb.view(-1,6) @ wt + b)"
   ]
  },
  {
   "cell_type": "code",
   "execution_count": 52,
   "id": "12c7ec89-90e4-4948-8a53-1dcdaabd679e",
   "metadata": {},
   "outputs": [],
   "source": [
    "w2 = torch.randn((2,4))\n",
    "b2 = torch.randn(4)"
   ]
  },
  {
   "cell_type": "code",
   "execution_count": 53,
   "id": "a6cac0a5-eb6c-4bf2-84cb-159dd77fc73f",
   "metadata": {},
   "outputs": [],
   "source": [
    "logits = h @ w2 + b2"
   ]
  },
  {
   "cell_type": "code",
   "execution_count": 54,
   "id": "65646aa0-3b37-428f-bc9a-314329a7d966",
   "metadata": {},
   "outputs": [],
   "source": [
    "counts = logits.exp()"
   ]
  },
  {
   "cell_type": "code",
   "execution_count": 55,
   "id": "71fcd28e-4715-40fc-bd04-f346c2e25fba",
   "metadata": {},
   "outputs": [
    {
     "data": {
      "text/plain": [
       "tensor([[ 1.0440,  3.2914, -0.5886,  1.9413],\n",
       "        [ 1.0435,  3.3502, -0.5759,  2.3273],\n",
       "        [ 1.0432,  3.4110, -0.5634,  2.7248],\n",
       "        [ 0.8769,  2.9336, -0.1834,  1.7532],\n",
       "        [ 1.0440,  3.2914, -0.5886,  1.9413],\n",
       "        [ 1.0424,  3.4101, -0.5614,  2.7293],\n",
       "        [ 1.0432,  3.3993, -0.5658,  2.6483],\n",
       "        [ 0.8428,  2.5057, -0.1684, -0.5793],\n",
       "        [ 1.0440,  3.2914, -0.5886,  1.9413],\n",
       "        [ 1.0432,  3.4060, -0.5644,  2.6926],\n",
       "        [ 1.0422,  3.3799, -0.5664,  2.5366],\n",
       "        [ 1.0451,  3.1323, -0.6219,  0.8991],\n",
       "        [ 1.0440,  3.2914, -0.5886,  1.9413],\n",
       "        [ 1.0432,  3.4060, -0.5644,  2.6926],\n",
       "        [ 1.0444,  3.2195, -0.6033,  1.4719],\n",
       "        [ 1.0431,  3.3834, -0.5684,  2.5479]])"
      ]
     },
     "execution_count": 55,
     "metadata": {},
     "output_type": "execute_result"
    }
   ],
   "source": [
    "logits"
   ]
  },
  {
   "cell_type": "code",
   "execution_count": 56,
   "id": "2b91341a-8919-409f-b5b5-d44d5396a3d5",
   "metadata": {},
   "outputs": [
    {
     "data": {
      "text/plain": [
       "tensor([[ 2.8406, 26.8809,  0.5551,  6.9676],\n",
       "        [ 2.8392, 28.5070,  0.5622, 10.2505],\n",
       "        [ 2.8382, 30.2942,  0.5693, 15.2534],\n",
       "        [ 2.4034, 18.7943,  0.8324,  5.7731],\n",
       "        [ 2.8406, 26.8809,  0.5551,  6.9676],\n",
       "        [ 2.8360, 30.2695,  0.5704, 15.3218],\n",
       "        [ 2.8384, 29.9427,  0.5679, 14.1302],\n",
       "        [ 2.3229, 12.2516,  0.8451,  0.5603],\n",
       "        [ 2.8406, 26.8809,  0.5551,  6.9676],\n",
       "        [ 2.8383, 30.1459,  0.5687, 14.7706],\n",
       "        [ 2.8353, 29.3667,  0.5675, 12.6371],\n",
       "        [ 2.8437, 22.9277,  0.5369,  2.4575],\n",
       "        [ 2.8406, 26.8809,  0.5551,  6.9676],\n",
       "        [ 2.8383, 30.1459,  0.5687, 14.7706],\n",
       "        [ 2.8417, 25.0166,  0.5470,  4.3575],\n",
       "        [ 2.8379, 29.4714,  0.5664, 12.7805]])"
      ]
     },
     "execution_count": 56,
     "metadata": {},
     "output_type": "execute_result"
    }
   ],
   "source": [
    "counts = logits.exp()\n",
    "counts"
   ]
  },
  {
   "cell_type": "code",
   "execution_count": 57,
   "id": "650ca2ab-9508-4ae9-b009-71bcb3522616",
   "metadata": {},
   "outputs": [],
   "source": [
    "prob = counts / counts.sum(1,keepdims = True)"
   ]
  },
  {
   "cell_type": "code",
   "execution_count": 58,
   "id": "23fa655a-cf9c-4ed0-b569-21d7108f5681",
   "metadata": {},
   "outputs": [
    {
     "data": {
      "text/plain": [
       "tensor([[0.0763, 0.7217, 0.0149, 0.1871],\n",
       "        [0.0673, 0.6762, 0.0133, 0.2431],\n",
       "        [0.0580, 0.6188, 0.0116, 0.3116],\n",
       "        [0.0864, 0.6760, 0.0299, 0.2076],\n",
       "        [0.0763, 0.7217, 0.0149, 0.1871],\n",
       "        [0.0579, 0.6178, 0.0116, 0.3127],\n",
       "        [0.0598, 0.6306, 0.0120, 0.2976],\n",
       "        [0.1454, 0.7667, 0.0529, 0.0351],\n",
       "        [0.0763, 0.7217, 0.0149, 0.1871],\n",
       "        [0.0587, 0.6238, 0.0118, 0.3057],\n",
       "        [0.0624, 0.6467, 0.0125, 0.2783],\n",
       "        [0.0989, 0.7970, 0.0187, 0.0854],\n",
       "        [0.0763, 0.7217, 0.0149, 0.1871],\n",
       "        [0.0587, 0.6238, 0.0118, 0.3057],\n",
       "        [0.0867, 0.7636, 0.0167, 0.1330],\n",
       "        [0.0622, 0.6455, 0.0124, 0.2799]])"
      ]
     },
     "execution_count": 58,
     "metadata": {},
     "output_type": "execute_result"
    }
   ],
   "source": [
    "prob"
   ]
  },
  {
   "cell_type": "code",
   "execution_count": 59,
   "id": "7fac0644-554d-4890-b095-105ada7d8420",
   "metadata": {},
   "outputs": [
    {
     "data": {
      "text/plain": [
       "tensor([1, 2, 3, 0, 3, 2, 1, 0, 2, 3, 1, 0, 2, 1, 3, 0])"
      ]
     },
     "execution_count": 59,
     "metadata": {},
     "output_type": "execute_result"
    }
   ],
   "source": [
    "Y"
   ]
  },
  {
   "cell_type": "code",
   "execution_count": 63,
   "id": "0048c80f-6844-4b57-b02d-2108b4b21399",
   "metadata": {},
   "outputs": [
    {
     "data": {
      "text/plain": [
       "tensor(2.1495)"
      ]
     },
     "execution_count": 63,
     "metadata": {},
     "output_type": "execute_result"
    }
   ],
   "source": [
    "-prob[torch.arange(16), Y].log().mean()"
   ]
  },
  {
   "cell_type": "code",
   "execution_count": 106,
   "id": "3e0cddb1-ae84-4d73-acd0-94d5a8c7be85",
   "metadata": {},
   "outputs": [],
   "source": [
    "g = torch.Generator().manual_seed(2147483647)\n",
    "C = torch.randn((4,2), generator = g)\n",
    "w1 = torch.randn((6,2), generator = g)\n",
    "b1 = torch.randn(2, generator = g)\n",
    "w2 = torch.randn((2, 4), generator = g)\n",
    "b2 = torch.randn(4, generator = g)\n",
    "parameters = [C,w1,b1,w2,b2]"
   ]
  },
  {
   "cell_type": "code",
   "execution_count": 107,
   "id": "858eec1d-22b9-4586-8235-56a7ce763bf8",
   "metadata": {},
   "outputs": [],
   "source": [
    "for p in parameters:\n",
    "    p.requires_grad = True"
   ]
  },
  {
   "cell_type": "code",
   "execution_count": 108,
   "id": "15ee33c7-cfbb-4b71-a826-59320c4b1901",
   "metadata": {},
   "outputs": [],
   "source": [
    "lri = []\n",
    "lossi = []\n",
    "stepi = []"
   ]
  },
  {
   "cell_type": "code",
   "execution_count": 109,
   "id": "9db23b04-5a07-48c1-b8d4-e3dda7b2eb89",
   "metadata": {},
   "outputs": [
    {
     "name": "stdout",
     "output_type": "stream",
     "text": [
      "Iteration 0\n",
      "-------------------------------------------------------\n"
     ]
    },
    {
     "data": {
      "image/png": "[encoded data removed]",
      "text/plain": [
       "<Figure size 800x800 with 1 Axes>"
      ]
     },
     "metadata": {},
     "output_type": "display_data"
    },
    {
     "name": "stdout",
     "output_type": "stream",
     "text": [
      "Iteration 1\n",
      "-------------------------------------------------------\n"
     ]
    },
    {
     "data": {
      "image/png": "[encoded data removed]",
      "text/plain": [
       "<Figure size 800x800 with 1 Axes>"
      ]
     },
     "metadata": {},
     "output_type": "display_data"
    },
    {
     "name": "stdout",
     "output_type": "stream",
     "text": [
      "Iteration 2\n",
      "-------------------------------------------------------\n"
     ]
    },
    {
     "data": {
      "image/png": "[encoded data removed]",
      "text/plain": [
       "<Figure size 800x800 with 1 Axes>"
      ]
     },
     "metadata": {},
     "output_type": "display_data"
    },
    {
     "name": "stdout",
     "output_type": "stream",
     "text": [
      "Iteration 3\n",
      "-------------------------------------------------------\n"
     ]
    },
    {
     "data": {
      "image/png": "[encoded data removed]",
      "text/plain": [
       "<Figure size 800x800 with 1 Axes>"
      ]
     },
     "metadata": {},
     "output_type": "display_data"
    },
    {
     "name": "stdout",
     "output_type": "stream",
     "text": [
      "Iteration 4\n",
      "-------------------------------------------------------\n"
     ]
    },
    {
     "data": {
      "image/png": "[encoded data removed]",
      "text/plain": [
       "<Figure size 800x800 with 1 Axes>"
      ]
     },
     "metadata": {},
     "output_type": "display_data"
    }
   ],
   "source": [
    "for i in range(5):\n",
    "    ix = torch.randint(0,X.shape[0],(4,))\n",
    "    print('Iteration',i)\n",
    "    #print('Ix = ',ix)\n",
    "\n",
    "    emb = C[X[ix]]\n",
    "    #print('Emb = ', emb.shape)\n",
    "    h = torch.tanh(emb.view(-1, 6) @ w1 + b1)\n",
    "    #print('H = ',h)\n",
    "    logits = h @ w2 + b2\n",
    "    #print('Logits = ',logits)\n",
    "    loss = F.cross_entropy(logits, Y[ix])\n",
    "    #print('L = ',loss)\n",
    "    print(\"-------------------------------------------------------\")\n",
    "    # backward pass\n",
    "    for p in parameters:\n",
    "        p.grad = None\n",
    "    loss.backward()\n",
    "\n",
    "    plt.figure(figsize = (8,8))\n",
    "    plt.scatter(C[:,0].data, C[:,1].data, s=200)\n",
    "    for i in range(C.shape[0]):\n",
    "        plt.text(C[i,0].item(), C[i,1].item(), itos[i], ha = 'center', va = 'center', color='white')\n",
    "    plt.grid('minor')\n",
    "    plt.show()\n",
    "    lr = 0.1\n",
    "    for p in parameters:\n",
    "        p.data += -lr * p.grad\n",
    "    stepi.append(i)\n",
    "    lossi.append(loss.log10().item())"
   ]
  },
  {
   "cell_type": "code",
   "execution_count": 95,
   "id": "954f7a19-8a33-4e9f-8013-9606827e0705",
   "metadata": {},
   "outputs": [
    {
     "data": {
      "text/plain": [
       "[<matplotlib.lines.Line2D at 0x7f1861747b50>]"
      ]
     },
     "execution_count": 95,
     "metadata": {},
     "output_type": "execute_result"
    },
    {
     "data": {
      "image/png": "[encoded data removed]",
      "text/plain": [
       "<Figure size 640x480 with 1 Axes>"
      ]
     },
     "metadata": {},
     "output_type": "display_data"
    }
   ],
   "source": [
    "plt.plot(stepi,lossi)"
   ]
  },
  {
   "cell_type": "code",
   "execution_count": 82,
   "id": "499dc52c-d553-498a-b957-4720c55bf33e",
   "metadata": {
    "scrolled": true
   },
   "outputs": [
    {
     "data": {
      "text/plain": [
       "[tensor([[ 1.5674e+00, -2.3729e-01, -2.7385e-02, -1.1008e+00,  2.8588e-01,\n",
       "          -2.9643e-02, -1.5471e+00,  6.0489e-01,  7.9136e-02,  9.0462e-01],\n",
       "         [-4.7125e-01,  7.8682e-01, -3.2843e-01, -4.3297e-01,  1.3729e+00,\n",
       "           2.9334e+00,  1.5618e+00, -1.6261e+00,  6.7716e-01, -8.4039e-01],\n",
       "         [ 9.8488e-01, -1.4837e-01, -1.4795e+00,  4.4830e-01, -7.0730e-02,\n",
       "           2.4968e+00,  2.4448e+00, -6.7006e-01, -1.2199e+00,  3.0314e-01],\n",
       "         [-1.0725e+00,  7.2762e-01,  5.1114e-02,  1.3095e+00, -8.0220e-01,\n",
       "          -8.5042e-01, -1.8068e+00,  1.2523e+00, -1.2256e+00,  1.2165e+00],\n",
       "         [-9.6478e-01, -2.3211e-01, -3.4762e-01,  3.3244e-01, -1.3263e+00,\n",
       "           1.1224e+00,  5.9641e-01,  4.5846e-01,  5.4011e-02, -1.7400e+00],\n",
       "         [ 1.1560e-01,  8.0319e-01,  5.4108e-01, -1.1646e+00,  1.4756e-01,\n",
       "          -1.0006e+00,  3.8012e-01,  4.7328e-01, -9.1027e-01, -7.8305e-01],\n",
       "         [ 1.3506e-01, -2.1161e-01, -1.0406e+00, -1.5367e+00,  9.3743e-01,\n",
       "          -8.8303e-01,  1.7457e+00,  2.1346e+00, -8.5614e-01,  5.4082e-01],\n",
       "         [ 6.1690e-01,  1.5160e+00, -1.0447e+00, -6.6414e-01, -7.2390e-01,\n",
       "           1.7507e+00,  1.7530e-01,  9.9280e-01, -6.2787e-01,  7.7023e-02],\n",
       "         [-1.1641e+00,  1.2473e+00, -2.7061e-01, -1.3635e+00,  1.3066e+00,\n",
       "           3.2307e-01,  1.0358e+00, -8.6249e-01, -1.2575e+00,  9.4180e-01],\n",
       "         [-1.3257e+00,  1.4670e-01,  1.6913e-01, -1.5397e+00, -7.2759e-01,\n",
       "           1.1491e+00, -8.7462e-01, -2.9771e-01, -1.3707e+00,  1.1500e-01],\n",
       "         [-1.0188e+00, -8.3777e-01, -2.1057e+00, -2.6044e-01, -1.7149e+00,\n",
       "          -3.3787e-01, -1.8263e+00, -8.3897e-01, -1.5723e+00,  4.5795e-01],\n",
       "         [-5.6533e-01,  5.4281e-01,  1.7549e-01, -2.2901e+00, -7.0928e-01,\n",
       "          -2.9283e-01, -2.1803e+00,  7.9311e-02,  9.0187e-01,  1.2028e+00],\n",
       "         [-5.6144e-01, -1.3753e-01, -1.3799e-01, -2.0977e+00, -7.9238e-01,\n",
       "           6.0689e-01, -1.4777e+00, -5.1029e-01,  5.6421e-01,  9.6838e-01],\n",
       "         [-3.1114e-01, -3.0603e-01, -1.7495e+00, -1.6335e+00,  3.8761e-01,\n",
       "           4.7236e-01,  1.4830e+00,  3.1748e-01,  1.0588e+00,  2.3982e+00],\n",
       "         [ 4.6827e-01, -6.5650e-01,  6.1662e-01, -6.2197e-01,  5.1007e-01,\n",
       "           1.3563e+00,  2.3445e-01, -4.5585e-01, -1.3132e-03, -5.1161e-01],\n",
       "         [ 5.5570e-01,  4.7458e-01, -1.3867e+00,  1.6229e+00,  1.7197e-01,\n",
       "           9.8846e-01,  5.0657e-01,  1.0198e+00, -1.9062e+00, -4.2753e-01],\n",
       "         [-2.1259e+00,  9.6041e-01,  1.2482e+00,  2.5341e-01,  2.8188e+00,\n",
       "          -3.3983e-01,  7.0311e-01,  4.0716e-01, -1.9018e-01, -6.9652e-01],\n",
       "         [ 1.7039e+00,  7.4204e-01,  9.7370e-01,  3.0028e-01, -2.8971e-01,\n",
       "          -3.1566e-01, -8.7898e-01,  1.0661e-01,  1.8598e+00,  5.5752e-02],\n",
       "         [ 1.2815e+00, -6.3182e-01, -1.2464e+00,  6.8305e-01, -3.9455e-01,\n",
       "           1.4388e-02,  5.7216e-01,  8.6726e-01,  6.3149e-01, -1.2230e+00],\n",
       "         [-2.1286e-01,  5.0950e-01,  3.2713e-01,  1.9661e+00, -2.4091e-01,\n",
       "          -7.9515e-01,  2.7198e-01, -1.1100e+00, -4.5285e-01, -4.9578e-01],\n",
       "         [ 1.2648e+00,  1.4625e+00,  1.1199e+00,  9.9539e-01, -1.2353e+00,\n",
       "           7.3818e-01,  8.1415e-01, -7.3806e-01,  5.6714e-01, -1.4601e+00],\n",
       "         [-2.4780e-01,  8.8282e-01, -8.1004e-02, -9.5299e-01, -4.8838e-01,\n",
       "          -7.3712e-01,  7.0609e-01, -1.9295e-01,  1.2348e+00,  3.3308e-01],\n",
       "         [ 1.3283e+00, -1.0921e+00, -8.3952e-01,  1.9098e-01, -7.1750e-01,\n",
       "          -3.8668e-01, -1.2542e+00,  1.2068e+00, -1.7102e+00, -4.7701e-01],\n",
       "         [-1.0527e+00, -1.4367e-01, -2.7737e-01,  1.1634e+00, -6.6910e-01,\n",
       "           6.4918e-01,  5.8243e-01,  1.9264e+00, -3.7846e-01,  7.9577e-03],\n",
       "         [ 5.1068e-01,  7.5927e-01, -1.6086e+00, -1.6065e-01,  1.3784e+00,\n",
       "          -2.7804e-01,  2.0710e-01,  1.0033e+00, -5.9772e-01, -3.9771e-01],\n",
       "         [-1.2801e+00,  9.2445e-02,  1.0526e-01, -3.9072e-01,  3.1723e-02,\n",
       "          -5.4753e-01,  8.1827e-01, -8.1628e-01, -3.9243e-01, -7.4521e-01],\n",
       "         [-9.4649e-01, -1.5941e-01, -1.9336e-01, -3.7660e-01, -4.9158e-02,\n",
       "           9.3866e-02, -6.4533e-01,  1.2108e+00, -7.8198e-01,  3.8449e-01]]),\n",
       " tensor([[-1.1707,  0.0719, -1.8493,  ..., -0.6198,  1.9522,  0.1431],\n",
       "         [-0.6080, -1.5539, -0.2639,  ...,  1.4544, -0.6100, -0.5996],\n",
       "         [-1.6556,  3.5113, -0.9518,  ...,  1.2207, -0.3307, -0.6863],\n",
       "         ...,\n",
       "         [ 0.5621,  0.2801, -1.0532,  ..., -0.7358,  0.6697,  0.7681],\n",
       "         [-2.0827, -0.4491,  1.6085,  ...,  3.3475, -0.4540, -1.0082],\n",
       "         [-2.4400,  0.7171, -0.9293,  ...,  1.0949, -0.3441, -0.7131]]),\n",
       " tensor([-2.0705, -0.9860,  0.0321,  1.9679, -0.1486,  0.9788, -0.3515, -1.0126,\n",
       "         -0.8776,  0.8044,  1.2248, -0.7080,  0.1437,  2.2886,  1.1220, -0.1822,\n",
       "         -0.1539, -1.1547, -1.4098,  1.1897, -0.4227,  1.2085,  0.6531, -0.3382,\n",
       "          1.2732,  1.4810,  1.1153, -0.1154,  0.8132, -0.7411,  0.2078,  0.2303,\n",
       "          0.4263, -1.5452, -0.9454, -0.9094, -0.3692,  0.1430,  1.0621,  1.5949,\n",
       "         -0.0469, -0.4184,  1.3012, -1.8453, -0.3515, -0.4306,  0.0358, -1.0245,\n",
       "          0.8732, -1.2808, -0.3654, -0.9221, -0.9590,  0.4145, -0.9841, -0.2436,\n",
       "          1.2110,  1.2868,  0.7163,  1.6831,  0.0420, -0.9181, -0.5576, -0.6979,\n",
       "          0.2517, -0.5282,  0.6851, -0.2762,  0.6757, -0.1058,  1.0515, -1.3379,\n",
       "          0.1186, -0.5300,  0.0771, -1.1000,  0.1715, -0.4509,  0.0289, -0.1972,\n",
       "          1.2723,  0.0861, -1.7037, -0.0375,  0.2756, -0.2626,  0.3993, -0.1970,\n",
       "         -1.2899,  0.6200,  2.1287,  0.9752,  0.2882, -0.2522,  0.9608, -0.6834,\n",
       "         -0.7115, -0.8633,  0.2395, -2.8392, -0.2199,  0.9078, -0.0687,  1.9235,\n",
       "          1.0785,  2.6285, -1.8467, -0.9866,  1.9641, -1.9937,  0.9654,  0.4336,\n",
       "          0.9797, -1.1947,  0.9899, -1.6593,  0.0964,  0.5480, -1.6770, -1.0923,\n",
       "          0.6181, -0.0502, -0.6701,  1.6991, -0.1705, -0.8415, -0.2455, -0.8508,\n",
       "         -0.4476,  0.2137, -0.3119, -0.0409, -0.6381, -0.1771,  1.8938,  0.4485,\n",
       "          0.3465, -0.4706,  0.5922, -0.6767, -1.7565, -1.1173, -1.1631, -2.1010,\n",
       "          1.0832, -0.8474, -0.5742,  2.2467, -0.2425,  0.9447,  0.1713, -0.1569,\n",
       "         -1.9122,  0.5803,  0.7614, -0.8252,  1.2223, -0.0867,  0.1862, -0.7551,\n",
       "          2.0444,  0.2396, -1.4921,  0.5313,  0.8682,  0.7269,  1.2206,  0.7937,\n",
       "          0.3547, -0.7616,  0.4988,  0.3572, -0.1171, -0.9430,  0.6465, -0.6937,\n",
       "          3.3715, -0.8635,  0.6228, -1.0214,  1.3812, -0.7281, -1.0282,  0.7540,\n",
       "          0.5895,  0.9577,  0.7063, -0.9798, -0.5548, -1.0750, -1.3799,  0.6060,\n",
       "          1.6270,  0.7891,  0.2884, -0.8174,  0.0273,  0.3039, -1.2483,  0.5487]),\n",
       " tensor([[ 0.7263,  1.4949, -1.5009,  ...,  0.6957,  0.7769, -0.1680],\n",
       "         [ 0.6729, -0.6042, -0.6147,  ...,  0.3905,  0.1262,  1.2785],\n",
       "         [ 1.0175,  0.0721,  0.3501,  ...,  0.4244,  0.2724,  0.8908],\n",
       "         ...,\n",
       "         [-2.1088, -0.8346,  0.3896,  ..., -1.0188,  0.0065,  0.4866],\n",
       "         [-0.3446,  0.2791, -1.5165,  ...,  0.0903, -0.6752, -0.6897],\n",
       "         [ 0.3019, -0.9873, -0.0264,  ...,  0.2330,  0.2541, -0.5142]]),\n",
       " tensor([ 0.1373,  1.2042,  1.9442,  0.3094,  2.0192,  0.0086, -0.8007,  0.6120,\n",
       "          1.7897, -0.6737, -1.2738, -1.1285,  0.2867,  0.1687,  1.1231,  0.6550,\n",
       "         -2.7028,  1.2879,  0.0094, -0.6419,  1.3549, -1.9539,  1.1204,  0.0237,\n",
       "          0.8102, -0.7986, -0.2513])]"
      ]
     },
     "execution_count": 82,
     "metadata": {},
     "output_type": "execute_result"
    }
   ],
   "source": [
    "parameters"
   ]
  },
  {
   "cell_type": "code",
   "execution_count": 117,
   "id": "0e2527e7-0e84-438d-abd7-cdd75d279b11",
   "metadata": {},
   "outputs": [
    {
     "data": {
      "text/plain": [
       "torch.Size([1, 3, 2])"
      ]
     },
     "execution_count": 117,
     "metadata": {},
     "output_type": "execute_result"
    }
   ],
   "source": [
    "context = [0] * block_size\n",
    "C[torch.tensor([context])].shape"
   ]
  },
  {
   "cell_type": "code",
   "execution_count": 118,
   "id": "bbe951af-5260-404a-9412-4d5d7ea9f818",
   "metadata": {},
   "outputs": [
    {
     "name": "stdout",
     "output_type": "stream",
     "text": [
      "cbbbacacbbbc\n",
      "b\n",
      "bb\n",
      "ab\n",
      "ba\n",
      "aa\n",
      "b\n",
      "bbacbb\n",
      "bbabcacc\n",
      "\n",
      "bcacb\n",
      "aacbbc\n",
      "ba\n",
      "ba\n",
      "bbbacb\n",
      "b\n",
      "ab\n",
      "b\n",
      "ba\n",
      "bbbca\n"
     ]
    }
   ],
   "source": [
    "g = torch.Generator()\n",
    "for _ in range(20):\n",
    "    out = []\n",
    "    context = [0] * block_size\n",
    "    while True:\n",
    "        emb = C[torch.tensor([context])]\n",
    "        h = torch.tanh(emb.view(1,-1) @ w1 + b1)\n",
    "        logits = h @ w2 + b2\n",
    "        probs = F.softmax(logits, dim = 1)\n",
    "        ix = torch.multinomial(probs, num_samples = 1, generator = g).item()\n",
    "        context = context[1:] + [ix]\n",
    "        if ix == 0:\n",
    "            break\n",
    "        out.append(ix)\n",
    "    print(''.join(itos[i] for i in out))"
   ]
  },
  {
   "cell_type": "code",
   "execution_count": null,
   "id": "dd2209e9-8727-4254-a015-fd33bdaee214",
   "metadata": {},
   "outputs": [],
   "source": []
  }
 ],
 "metadata": {
  "kernelspec": {
   "display_name": "Python 3 (ipykernel)",
   "language": "python",
   "name": "python3"
  },
  "language_info": {
   "codemirror_mode": {
    "name": "ipython",
    "version": 3
   },
   "file_extension": ".py",
   "mimetype": "text/x-python",
   "name": "python",
   "nbconvert_exporter": "python",
   "pygments_lexer": "ipython3",
   "version": "3.11.5"
  }
 },
 "nbformat": 4,
 "nbformat_minor": 5
}
