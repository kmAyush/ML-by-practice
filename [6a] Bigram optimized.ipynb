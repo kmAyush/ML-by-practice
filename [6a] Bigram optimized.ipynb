{
 "cells": [
  {
   "cell_type": "code",
   "execution_count": 1,
   "id": "61f06434-30f7-4347-a8ed-529d82189117",
   "metadata": {},
   "outputs": [],
   "source": [
    "import torch\n",
    "import torch.nn as nn\n",
    "from torch.nn import functional as F"
   ]
  },
  {
   "cell_type": "code",
   "execution_count": 2,
   "id": "b79951e3-5e39-4966-884b-fa770d53b75f",
   "metadata": {},
   "outputs": [],
   "source": [
    "# hyperparameters\n",
    "N_batch = 32\n",
    "N_block = 8\n",
    "max_iters = 3000\n",
    "eval_interval = 300\n",
    "lr = 1e-3\n",
    "eval_iters = 200"
   ]
  },
  {
   "cell_type": "code",
   "execution_count": 3,
   "id": "62f60771-2ca1-4fb7-8af9-57dec106dc93",
   "metadata": {},
   "outputs": [
    {
     "data": {
      "text/plain": [
       "<torch._C.Generator at 0x7f94e8d73c30>"
      ]
     },
     "execution_count": 3,
     "metadata": {},
     "output_type": "execute_result"
    }
   ],
   "source": [
    "torch.manual_seed(1337)"
   ]
  },
  {
   "cell_type": "code",
   "execution_count": 4,
   "id": "41711c19-c363-4073-928d-b7cecc43624d",
   "metadata": {},
   "outputs": [],
   "source": [
    "with open('input.txt', 'r', encoding='utf-8') as f:\n",
    "    text = f.read()"
   ]
  },
  {
   "cell_type": "code",
   "execution_count": 12,
   "id": "260a81db-1ef3-48fe-88cf-c0d09bbcde89",
   "metadata": {},
   "outputs": [],
   "source": [
    "chars = sorted(list(set(text)))\n",
    "N_vocab = len(chars)\n",
    "\n",
    "stoi = { ch:i for i,ch in enumerate(chars)}\n",
    "itos = { i:ch for i,ch in enumerate(chars)}\n",
    "encode = lambda s : [ stoi[c] for c in s]\n",
    "decode = lambda l : ''.join([itos[i] for i in l])"
   ]
  },
  {
   "cell_type": "code",
   "execution_count": 13,
   "id": "13b13081-c920-4fbe-871f-821eb586edde",
   "metadata": {},
   "outputs": [],
   "source": [
    "data = torch.tensor(encode(text), dtype = torch.long)\n",
    "N = int(0.9 * len(data))\n",
    "train_data = data[:N]\n",
    "valid_data = data[N:]"
   ]
  },
  {
   "cell_type": "code",
   "execution_count": 14,
   "id": "f8151f19-7fb8-4d95-8f78-2e1a22269d2b",
   "metadata": {},
   "outputs": [],
   "source": [
    "def get_batch(split):\n",
    "    data = train_data if split == 'train' else valid_data\n",
    "    ix = torch.randint(len(data) - N_block, (N_batch, ))\n",
    "    x = torch.stack([data[i:i+N_block] for i in ix])\n",
    "    y = torch.stack([data[i+1:i+N_block+1] for i in ix])\n",
    "    return x, y"
   ]
  },
  {
   "cell_type": "code",
   "execution_count": 15,
   "id": "c3359e7c-3b6e-468c-8e30-3a7632bda444",
   "metadata": {},
   "outputs": [],
   "source": [
    "@torch.no_grad()\n",
    "def estimate_loss():\n",
    "    out = {}\n",
    "    model.eval()\n",
    "    for split in ['train', 'val']:\n",
    "        losses = torch.zeros(eval_iters)\n",
    "        for k in range(eval_iters):\n",
    "            X, Y = get_batch(split)\n",
    "            logits, loss = model(X, Y)\n",
    "            losses[k] = loss.item()\n",
    "        out[split] = losses.mean()\n",
    "    model.train()\n",
    "    return out"
   ]
  },
  {
   "cell_type": "code",
   "execution_count": 16,
   "id": "6debf309-653a-41af-8d62-ab361eb51e23",
   "metadata": {},
   "outputs": [],
   "source": [
    "class BigramLanguageModel(nn.Module):\n",
    "\n",
    "    def __init__(self, N_vocab):\n",
    "        super().__init__()\n",
    "        self.token_embedding_table = nn.Embedding(N_vocab, N_vocab)\n",
    "\n",
    "    def forward(self, idx, targets = None):\n",
    "\n",
    "        logits = self.token_embedding_table(idx)\n",
    "\n",
    "        if targets is None:\n",
    "            loss = None\n",
    "\n",
    "        else:\n",
    "            B, T, C = logits.shape\n",
    "            logits = logits.view(B*T,C)\n",
    "            targets = targets.view(B*T)\n",
    "            loss = F.cross_entropy(logits, targets)\n",
    "            \n",
    "        return logits, loss\n",
    "\n",
    "    def generate(self, idx, max_new_tokens):\n",
    "        for _ in range(max_new_tokens):\n",
    "            logits, loss = self(idx)\n",
    "            logits = logits[:,-1,:]\n",
    "            probs = F.softmax(logits, dim = -1)\n",
    "            idx_next = torch.multinomial(probs, num_samples = 1)\n",
    "            idx = torch.cat((idx, idx_next), dim = 1)\n",
    "        return idx"
   ]
  },
  {
   "cell_type": "code",
   "execution_count": 17,
   "id": "b5063dd1-0c56-4041-9505-19eb07db6948",
   "metadata": {},
   "outputs": [],
   "source": [
    "model = BigramLanguageModel(N_vocab)\n",
    "optimizer = torch.optim.AdamW(model.parameters(), lr = 1e-3)"
   ]
  },
  {
   "cell_type": "code",
   "execution_count": 21,
   "id": "c8df0485-c42f-444f-8834-ed270938c5bd",
   "metadata": {},
   "outputs": [
    {
     "name": "stderr",
     "output_type": "stream",
     "text": [
      "/home/dsladmin/anaconda3/lib/python3.11/site-packages/torch/autograd/__init__.py:266: UserWarning: CUDA initialization: The NVIDIA driver on your system is too old (found version 11040). Please update your GPU driver by downloading and installing a new version from the URL: http://www.nvidia.com/Download/index.aspx Alternatively, go to: https://pytorch.org to install a PyTorch version that has been compiled with your version of the CUDA driver. (Triggered internally at ../c10/cuda/CUDAFunctions.cpp:108.)\n",
      "  Variable._execution_engine.run_backward(  # Calls into the C++ engine to run the backward pass\n"
     ]
    }
   ],
   "source": [
    "for iter in range(max_iters):\n",
    "    if iter % eval_interval == 0:\n",
    "        losses = estimate_loss()\n",
    "        #print(f'Step {iter:%5d} | train loss {losses['train']:.4f} | cal loss {losses['val']:.4f}')\n",
    "\n",
    "    xb, yb  = get_batch('train')\n",
    "\n",
    "    logits, loss = model(xb,yb)\n",
    "    optimizer.zero_grad(set_to_none = True)\n",
    "    loss.backward()\n",
    "    optimizer.step()\n",
    "    "
   ]
  },
  {
   "cell_type": "code",
   "execution_count": 19,
   "id": "5fa1f480-221d-48f1-9724-3f514a4dfee9",
   "metadata": {},
   "outputs": [
    {
     "ename": "NameError",
     "evalue": "name 'losses' is not defined",
     "output_type": "error",
     "traceback": [
      "\u001b[0;31m---------------------------------------------------------------------------\u001b[0m",
      "\u001b[0;31mNameError\u001b[0m                                 Traceback (most recent call last)",
      "Cell \u001b[0;32mIn[19], line 1\u001b[0m\n\u001b[0;32m----> 1\u001b[0m losses[\u001b[38;5;124m'\u001b[39m\u001b[38;5;124mtrain\u001b[39m\u001b[38;5;124m'\u001b[39m]\n",
      "\u001b[0;31mNameError\u001b[0m: name 'losses' is not defined"
     ]
    }
   ],
   "source": [
    "losses['train']"
   ]
  },
  {
   "cell_type": "code",
   "execution_count": 22,
   "id": "7f63bf4a-8d41-47c1-a2fc-1adefbc1dc9e",
   "metadata": {},
   "outputs": [
    {
     "name": "stdout",
     "output_type": "stream",
     "text": [
      "\n",
      "R$Vicouant ngFJgrkl stMaATu.Z3?\n",
      "IS:vGr h\n",
      "NJ;bd e fr WI:Vojulis.f mirowkery of?H\n",
      "ig' hthbercqZ.NIat.LHUwed.; wn,!\n",
      "RHnpImilapr ar'astoxo towstxLaJY h\n",
      "\n",
      "BSngal der lled\n",
      "S t\n",
      "Lis; wyou, QVin.'sba$; evJVTe b;odt de llavJ;PEDugr w$JVI ft s\n",
      "BEO:h we, zH:dallAIUh Vomtat kRMvin!\n",
      "GMJces, tu tJpe;owmutto t adsweJee s scS:\n",
      "\n",
      "to:-SHAENTha:\n",
      "\n",
      "Be War pETmy valemCy?acoetew stWw-h.\n",
      "THTuSPTI;''WIim, ar ar se, swfHAd ner p;prve.\n",
      "AMORof thohOGBr tLlaigl madoncte onAJeyobl j, ng!e trdser'zXI ee QozWAP:ferve y thinstuaw\n",
      "\n"
     ]
    }
   ],
   "source": [
    "context = torch.zeros((1,1), dtype = torch.long)\n",
    "print(decode(model.generate(context, max_new_tokens = 500)[0].tolist()))"
   ]
  },
  {
   "cell_type": "code",
   "execution_count": null,
   "id": "df6c5788-7de0-444a-901f-28ead0f3806b",
   "metadata": {},
   "outputs": [],
   "source": []
  }
 ],
 "metadata": {
  "kernelspec": {
   "display_name": "Python 3 (ipykernel)",
   "language": "python",
   "name": "python3"
  },
  "language_info": {
   "codemirror_mode": {
    "name": "ipython",
    "version": 3
   },
   "file_extension": ".py",
   "mimetype": "text/x-python",
   "name": "python",
   "nbconvert_exporter": "python",
   "pygments_lexer": "ipython3",
   "version": "3.11.5"
  }
 },
 "nbformat": 4,
 "nbformat_minor": 5
}
